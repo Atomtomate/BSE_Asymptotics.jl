{
 "cells": [
  {
   "cell_type": "code",
   "execution_count": 4,
   "metadata": {},
   "outputs": [
    {
     "output_type": "execute_result",
     "data": {
      "text/plain": [
       "gen_synth (generic function with 1 method)"
      ]
     },
     "metadata": {},
     "execution_count": 4
    }
   ],
   "source": [
    "using Test\n",
    "using OffsetArrays\n",
    "include(\"../src/ladderDGA_core.jl\")\n",
    "include(\"../src/build_chi_asympt.jl\")\n",
    "include(\"../test/test_functions.jl\")"
   ]
  },
  {
   "cell_type": "code",
   "execution_count": 5,
   "metadata": {},
   "outputs": [
    {
     "output_type": "execute_result",
     "data": {
      "text/plain": [
       "([1, 2, 5, 6, 2, 1, 4, 5, 5, 4, 1, 2, 6, 5, 2, 1], [6, 5, 2, 1, 5, 4, 1, 2, 2, 1, 4, 5, 1, 2, 5, 6])"
      ]
     },
     "metadata": {},
     "execution_count": 5
    }
   ],
   "source": [
    "Nf = 2\n",
    "Nb = 2\n",
    "Nν_shell = 2\n",
    "Nν_full = 2*Nf+Nν_shell\n",
    "\n",
    "shift = 0\n",
    "gi, χ₀, χsp, χch, χsp_a, χch_a, χpp_a, U, β, shift = \n",
    "    gen_synth(Nf, Nb, Nν_shell, shift)\n",
    "I_core, I_corner, I_top, I_side = shell_indices(Nν_full, Nν_shell)\n",
    "ωi = 3\n",
    "n_iω = Nb\n",
    "n_iν = trunc(Int, Nν_full/2)\n",
    "ind1_c, ind2_c = aux_indices(I_corner, ωi, n_iω, n_iν, shift)"
   ]
  },
  {
   "cell_type": "code",
   "execution_count": 8,
   "metadata": {},
   "outputs": [
    {
     "output_type": "execute_result",
     "data": {
      "text/plain": [
       "3"
      ]
     },
     "metadata": {},
     "execution_count": 8
    }
   ],
   "source": [
    "ind = I_corner[1]\n",
    "νn, ωn = OneToIndex_to_Freq(ωi, ind[1], n_iω, n_iν, shift)\n",
    "νpn, ωn = OneToIndex_to_Freq(ωi, ind[2], n_iω, n_iν, shift)\n",
    "ωn_to_ωi(νn + νpn + 1 + ωn)"
   ]
  },
  {
   "cell_type": "code",
   "execution_count": 11,
   "metadata": {},
   "outputs": [
    {
     "output_type": "execute_result",
     "data": {
      "text/plain": [
       "8×8 Matrix{Int64}:\n",
       " 1   9  17  25  33  41  49  57\n",
       " 2  10  18  26  34  42  50  58\n",
       " 3  11  19  27  35  43  51  59\n",
       " 4  12  20  28  36  44  52  60\n",
       " 5  13  21  29  37  45  53  61\n",
       " 6  14  22  30  38  46  54  62\n",
       " 7  15  23  31  39  47  55  63\n",
       " 8  16  24  32  40  48  56  64"
      ]
     },
     "metadata": {},
     "execution_count": 11
    }
   ],
   "source": [
    "χsp[:,:,1]"
   ]
  },
  {
   "cell_type": "code",
   "execution_count": 7,
   "metadata": {},
   "outputs": [
    {
     "output_type": "execute_result",
     "data": {
      "text/plain": [
       "8-element Vector{Int64}:\n",
       " 17\n",
       " 25\n",
       " 18\n",
       " 26\n",
       " 21\n",
       " 29\n",
       " 22\n",
       " 30"
      ]
     },
     "metadata": {},
     "execution_count": 7
    }
   ],
   "source": [
    "χsp[I_top,1]"
   ]
  },
  {
   "cell_type": "code",
   "execution_count": 27,
   "metadata": {},
   "outputs": [
    {
     "data": {
      "text/plain": [
       "16-element Vector{CartesianIndex{2}}:\n",
       " CartesianIndex(1, 1)\n",
       " CartesianIndex(1, 2)\n",
       " CartesianIndex(1, 5)\n",
       " CartesianIndex(1, 6)\n",
       " CartesianIndex(2, 1)\n",
       " CartesianIndex(2, 2)\n",
       " CartesianIndex(2, 5)\n",
       " CartesianIndex(2, 6)\n",
       " CartesianIndex(5, 1)\n",
       " CartesianIndex(5, 2)\n",
       " CartesianIndex(5, 5)\n",
       " CartesianIndex(5, 6)\n",
       " CartesianIndex(6, 1)\n",
       " CartesianIndex(6, 2)\n",
       " CartesianIndex(6, 5)\n",
       " CartesianIndex(6, 6)"
      ]
     },
     "execution_count": 27,
     "metadata": {},
     "output_type": "execute_result"
    }
   ],
   "source": [
    "I_corner"
   ]
  },
  {
   "cell_type": "code",
   "execution_count": 25,
   "metadata": {},
   "outputs": [
    {
     "data": {
      "text/plain": [
       "16-element Vector{Int64}:\n",
       " 129\n",
       " 137\n",
       " 161\n",
       " 169\n",
       " 130\n",
       " 138\n",
       " 162\n",
       " 170\n",
       " 133\n",
       " 141\n",
       " 165\n",
       " 173\n",
       " 134\n",
       " 142\n",
       " 166\n",
       " 174"
      ]
     },
     "execution_count": 25,
     "metadata": {},
     "output_type": "execute_result"
    }
   ],
   "source": [
    "χsp[I_corner,ωi]"
   ]
  },
  {
   "cell_type": "code",
   "execution_count": null,
   "metadata": {},
   "outputs": [],
   "source": []
  }
 ],
 "metadata": {
  "kernelspec": {
   "display_name": "Julia 1.7.0-rc1",
   "language": "julia",
   "name": "julia-1.7"
  },
  "language_info": {
   "file_extension": ".jl",
   "mimetype": "application/julia",
   "name": "julia",
   "version": "1.7.0"
  }
 },
 "nbformat": 4,
 "nbformat_minor": 4
}