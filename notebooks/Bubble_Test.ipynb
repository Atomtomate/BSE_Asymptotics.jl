{
 "cells": [
  {
   "cell_type": "markdown",
   "metadata": {},
   "source": [
    "# Direct Asympt Local Tests\n",
    "## local χ₀ Sum\n",
    "This tests for the correct tails coefficients for χ₀ in local case."
   ]
  },
  {
   "cell_type": "markdown",
   "metadata": {},
   "source": [
    "## K-Path Test"
   ]
  },
  {
   "cell_type": "code",
   "execution_count": 1,
   "metadata": {},
   "outputs": [
    {
     "name": "stderr",
     "output_type": "stream",
     "text": [
      "\u001b[32m\u001b[1m  Activating\u001b[22m\u001b[39m project at `G:\\Codes\\LadderDGA.jl`\n"
     ]
    }
   ],
   "source": [
    "#testf = \"/Users/user/Promotion/Daten/ED_out.jld2\"\n",
    "#testfc = \"/home/julian/Hamburg/ED_data/asympt_tests/config_14_small.toml\"\n",
    "testf = \"G:/Hamburg/b20.0_mu0.4/ED_out.jld2\" #\"G:/Hamburg/b20.0_mu0.4/ED_out.jld2\"\n",
    "testfc = \"G:/Hamburg/b20.0_mu0.4/lDGAConfig.toml\" #\"G:/Hamburg/b20.0_mu0.4/lDGAConfig.toml\"\n",
    "\n",
    "using Plots\n",
    "using OffsetArrays\n",
    "using JLD2\n",
    "\n",
    "using TimerOutputs\n",
    "using Pkg\n",
    "Pkg.activate(\"G:/Codes/LadderDGA.jl\")\n",
    "using LadderDGA\n",
    "using FFTW\n",
    "\n",
    "\n",
    "F_from_χ = LadderDGA.F_from_χ\n",
    "_eltype = ComplexF64;"
   ]
  },
  {
   "cell_type": "code",
   "execution_count": 2,
   "metadata": {},
   "outputs": [
    {
     "name": "stdout",
     "output_type": "stream",
     "text": [
      "\u001b[36m\u001b[1m[ \u001b[22m\u001b[39m\u001b[36m\u001b[1mInfo: \u001b[22m\u001b[39mReading Inputs...\n",
      "\u001b[36m\u001b[1m[ \u001b[22m\u001b[39m\u001b[36m\u001b[1mInfo: \u001b[22m\u001b[39mSetting up calculation for kGrid 2Dsc-0.25-0.05-0.025 of size 10\n"
     ]
    },
    {
     "name": "stderr",
     "output_type": "stream",
     "text": [
      "DBG: NOT using diagonal terms in λ₀\n"
     ]
    },
    {
     "name": "stdout",
     "output_type": "stream",
     "text": [
      "\u001b[36m\u001b[1m┌ \u001b[22m\u001b[39m\u001b[36m\u001b[1mInfo: \u001b[22m\u001b[39mInputs Read. Starting Computation.\n",
      "\u001b[36m\u001b[1m│ \u001b[22m\u001b[39m    Local susceptibilities with ranges are:\n",
      "\u001b[36m\u001b[1m│ \u001b[22m\u001b[39m    χLoc_m(1:301) = 0.3838, χLoc_d(1:301) = 0.1017\n",
      "\u001b[36m\u001b[1m│ \u001b[22m\u001b[39m    sum χupup check (plain ?≈? tail sub ?≈? imp_dens ?≈? n/2 (1-n/2)): 0.2401531297823682 ?=? 0.2427835212727256 ?≈? 0.2427835212727254 ≟ 0.24275850716113093\"\n",
      "\u001b[36m\u001b[1m│ \u001b[22m\u001b[39mLocal EoM check for the first 5 frequencies: 0.0033, 0.0033, 0.0033, 0.0033, 0.0033  \n",
      "\u001b[36m\u001b[1m└ \u001b[22m\u001b[39m    \n",
      "\u001b[36m\u001b[1m[ \u001b[22m\u001b[39m\u001b[36m\u001b[1mInfo: \u001b[22m\u001b[39mm channel: |∑χ(q=0,ω≠0)| = 0.001535305377 ≟ 0\n",
      "\u001b[36m\u001b[1m[ \u001b[22m\u001b[39m\u001b[36m\u001b[1mInfo: \u001b[22m\u001b[39md channel: |∑χ(q=0,ω≠0)| = 0.004454577569 ≟ 0\n"
     ]
    },
    {
     "name": "stderr",
     "output_type": "stream",
     "text": [
      "DBG: NOT using diagonal terms in λ₀\n"
     ]
    }
   ],
   "source": [
    "f = testf\n",
    "cf = testfc\n",
    "wp, mP, sP, env, kGridsStr = readConfig(testfc);\n",
    "@timeit LadderDGA.to \"setup\" lDGAhelper = setup_LDGA(kGridsStr[1], mP, sP, env);\n",
    "FUpDo = F_from_χ(0.5 * (lDGAhelper.χDMFT_d .- lDGAhelper.χDMFT_m), lDGAhelper.gImp[1,:], sP, mP.β);\n",
    "Fsp   = F_from_χ(lDGAhelper.χDMFT_m, lDGAhelper.gImp[1,:], sP, mP.β);\n",
    "@timeit LadderDGA.to \"nl bblt\" bubble = calc_bubble(:DMFT, lDGAhelper);\n",
    "@timeit LadderDGA.to \"nl xm\" χm,γm = calc_χγ(:m, lDGAhelper, bubble);\n",
    "@timeit LadderDGA.to \"nl xd\" χd,γd = calc_χγ(:d, lDGAhelper, bubble);\n",
    "λ₀ = calc_λ0(bubble, lDGAhelper);\n",
    "Σ_ladder = calc_Σ(χm, γm, χd, γd, λ₀, lDGAhelper; λm = 0.0, λd = 0.0, tc = ΣTail_Full);\n",
    "Σ_ladder_ν = kintegrate(lDGAhelper.kG, Σ_ladder, 1)[1,:];"
   ]
  },
  {
   "cell_type": "code",
   "execution_count": 3,
   "metadata": {},
   "outputs": [
    {
     "name": "stderr",
     "output_type": "stream",
     "text": [
      "WARNING: method definition for naive_bubble at In[3]:33 declares type variable T but does not use it.\n"
     ]
    },
    {
     "data": {
      "text/plain": [
       "naive_conv (generic function with 1 method)"
      ]
     },
     "execution_count": 3,
     "metadata": {},
     "output_type": "execute_result"
    }
   ],
   "source": [
    "function scKGrid(ksteps :: Int64)\n",
    "    kGrid = Array{NTuple{3,Float64},1}(undef,ksteps^3)\n",
    "    #[(2*π/Nk) * j - π for j in 1:Nk]\n",
    "    ki_monkhorst = [(2*i - ksteps )/(2*ksteps) for i in 1:ksteps]\n",
    "    for kx in 0:ksteps-1 \n",
    "        for ky in 0:ksteps-1\n",
    "            for kz in 0:ksteps-1\n",
    "                kGrid[kx*ksteps^2+ky*ksteps+kz+1] = (2*pi*ki_monkhorst[kx+1],\n",
    "                 2*pi*ki_monkhorst[ky+1],\n",
    "                 2*pi*ki_monkhorst[kz+1])\n",
    "            end\n",
    "        end\n",
    "    end \n",
    "    return kGrid\n",
    "end\n",
    "\n",
    "using ShiftedArrays\n",
    "\n",
    "function calc_bubble_notebook(Gνω, kG, kG_red, β, νgrid, ωgrid)\n",
    "    data = Array{ComplexF64,3}(undef, length(kG.kGrid), length(νgrid), length(ωgrid))\n",
    "    ifft_post(x) = ShiftedArrays.circshift(x, floor.(Int, gridshape(kG) ./ 2) .+ 1)\n",
    "    for (ωi,ωn) in enumerate(ωgrid)\n",
    "        for (νi,νn) in enumerate(νgrid)\n",
    "            v1 = fft(reshape(Gνω[:,ωn],gridshape(kG)))\n",
    "            v2 = fft(reshape(Gνω[:,νn+ωn],gridshape(kG)))\n",
    "            data[:,νi,ωi] = -β .* ifft_post(ifft(v1 .* v2))[:] ./ Dispersions.Nk(kG)\n",
    "        end\n",
    "    end\n",
    "\n",
    "    return data\n",
    "end\n",
    "\n",
    "function naive_bubble(fk, νgrid) where T\n",
    "    ωn = 0\n",
    "    \n",
    "    Σ_loc = 0#2.734962277113537 - 0.41638191263582125im\n",
    "    β = 14.0\n",
    "    μ = 0.5\n",
    "    disp(ki) = Dispersions.gen_ϵkGrid(T, [ki], fk.t)[1]\n",
    "    res = zeros(Complex{Float64}, length(fk.kGrid), length(νgrid))\n",
    "    for (νi, νn) in enumerate(νgrid)\n",
    "    for (kii,ki) in enumerate(fk.kGrid)\n",
    "        for (qii,qi) in enumerate(fk.kGrid)\n",
    "            Σ_int_ωn = Σ_loc\n",
    "            Σ_int_ωn_νn = Σ_loc\n",
    "            w1 = 1im * (π*(2*ωn+1)/β) + μ - disp(ki)\n",
    "            w2 = 1im * (π*(2*(ωn+νn)+1)/β) + μ - disp(ki .+ qi)\n",
    "            res[qii,νi] = res[qii,νi] - 1.0 / (w1 * w2)\n",
    "        end\n",
    "    end\n",
    "    end\n",
    "    return β .* res ./ length(fk.kGrid)\n",
    "end\n",
    "\n",
    "function naive_conv(kG, arr1::AbstractArray, arr2::AbstractArray)\n",
    "    Nk(kG) == 1 && return arr1 .* arr2\n",
    "    a1 = expandKArr(kG, arr1)\n",
    "    a2 = expandKArr(kG, arr2)\n",
    "    res = zeros(eltype(arr1), size(a1))\n",
    "    mi = size(a2)\n",
    "    for j in CartesianIndices(a2)\n",
    "        for i in CartesianIndices(a1)\n",
    "            ii = mod1.(Tuple(j) .+ Tuple(i) .- Tuple(ones(Int,length(i))), size(a1))\n",
    "            res[j] += a1[j]*a2[ii...]\n",
    "        end\n",
    "    end\n",
    "    return res ./ Nk(kG)\n",
    "end"
   ]
  },
  {
   "cell_type": "code",
   "execution_count": 4,
   "metadata": {},
   "outputs": [
    {
     "ename": "LoadError",
     "evalue": "UndefVarError: `Dispersions` not defined in `Main`\nSuggestion: check for spelling errors or missing imports.\nHint: Dispersions is loaded but not imported in the active module Main.",
     "output_type": "error",
     "traceback": [
      "UndefVarError: `Dispersions` not defined in `Main`\nSuggestion: check for spelling errors or missing imports.\nHint: Dispersions is loaded but not imported in the active module Main.",
      "",
      "Stacktrace:",
      " [1] top-level scope",
      "   @ In[4]:11"
     ]
    }
   ],
   "source": [
    "Nki = 6;\n",
    "\n",
    "kPoints= scKGrid(Nki);\n",
    "kGrid = LadderDGA.gen_kGrid(kGridsStr[1][1], Nki)\n",
    "kGrid_full = LadderDGA.gen_kGrid(kGridsStr[1][1], Nki,full=true)\n",
    "νGrid = -2*(sP.n_iν + sP.n_iω):2*(sP.n_iν + sP.n_iω) \n",
    "\n",
    "nd = 3\n",
    "G_fft = OffsetArray(Array{ComplexF64, 2}(undef, length(kGrid_full.kGrid), length(νGrid)), 1:length(kGrid_full.kGrid), νGrid)\n",
    "GTest = OffsetArray(Array{ComplexF64,2}(undef, length(kGrid_full.kGrid), length(νGrid)), 1:length(kGrid_full.kGrid), νGrid)\n",
    "G_manual = OffsetArray(Array{ComplexF64, 2}(undef, Dispersions.Nk(kGrid_full), length(νGrid)),1:Dispersions.Nk(kGrid_full),νGrid)\n",
    "\n",
    "for (νi,νn) in enumerate(νGrid)\n",
    "    for (ki,ϵₖ) in enumerate(kGrid_full.ϵkGrid)\n",
    "        GTest[ki,νn] = 1/((π/mP.β)*(2*νn + 1)*1im - mP.μ + ϵₖ)\n",
    "    end\n",
    "    #expanded_arr = expandKArr(kGrid, GTest[:,νn].parent)\n",
    "    G_manual[:,νn]=GTest[:,νn]\n",
    "    G_fft[:,νn]=fft(reshape(GTest[:,νn],gridshape(kGrid_full)...))[:]\n",
    "    #selectdim(G_fft,nd+1,νi) .= fft(reshape(G_manual[:,νi], gridshape(kGrid_full)...))\n",
    "end"
   ]
  },
  {
   "cell_type": "code",
   "execution_count": 5,
   "metadata": {},
   "outputs": [
    {
     "ename": "LoadError",
     "evalue": "UndefVarError: `Nk` not defined in `Main`\nSuggestion: check for spelling errors or missing imports.\nHint: a global variable of this name may be made accessible by importing Dispersions in the current active module Main",
     "output_type": "error",
     "traceback": [
      "UndefVarError: `Nk` not defined in `Main`\nSuggestion: check for spelling errors or missing imports.\nHint: a global variable of this name may be made accessible by importing Dispersions in the current active module Main",
      "",
      "Stacktrace:",
      " [1] top-level scope",
      "   @ In[5]:1"
     ]
    }
   ],
   "source": [
    "Nki = 20;\n",
    "\n",
    "kPoints= scKGrid(Nk);\n",
    "kGrid = LadderDGA.gen_kGrid(kGridsStr[1][1], Nki)\n",
    "kGrid_full = LadderDGA.gen_kGrid(kGridsStr[1][1], Nki,full=true)\n",
    "νGrid = -2*(sP.n_iν + sP.n_iω):2*(sP.n_iν + sP.n_iω) \n",
    "\n",
    "nd = 2\n",
    "G_fft = Array{ComplexF64, nd+1}(undef, gridshape(kGrid)..., length(νGrid))\n",
    "GTest = OffsetArray(Array{ComplexF64,2}(undef, length(kGrid_full.kGrid), length(νGrid)), 1:length(kGrid_full.kGrid), νGrid)\n",
    "G_manual = Array{ComplexF64, 2}(undef, Nk^3, length(νGrid))\n",
    "\n",
    "for (νi,νn) in enumerate(νGrid)\n",
    "    for (ki,ϵₖ) in enumerate(kGrid_full.ϵkGrid)\n",
    "        GTest[ki,νn] = 1/((π/mP.β)*(2*νn + 1)*1im - mP.μ + ϵₖ)\n",
    "    end\n",
    "    #expanded_arr = expandKArr(kGrid, GTest[:,νn].parent)\n",
    "    G_manual[:,νi]=GTest[:,νn]\n",
    "    selectdim(G_fft,nd+1,νi) .= fft(reshape(G_manual[:,νi], gridshape(kGrid_full)...))\n",
    "end"
   ]
  },
  {
   "cell_type": "code",
   "execution_count": 6,
   "metadata": {},
   "outputs": [
    {
     "data": {
      "text/plain": [
       "Dispersions.cPnn(t=0.25) grid in 2 dimensions with 400 k-points."
      ]
     },
     "execution_count": 6,
     "metadata": {},
     "output_type": "execute_result"
    }
   ],
   "source": [
    "kGrid_full = LadderDGA.gen_kGrid(kGridsStr[1][1], Nki,full=true)"
   ]
  },
  {
   "cell_type": "code",
   "execution_count": 7,
   "metadata": {},
   "outputs": [
    {
     "ename": "LoadError",
     "evalue": "BoundsError: attempt to access Tuple{Float64, Float64} at index [3]",
     "output_type": "error",
     "traceback": [
      "BoundsError: attempt to access Tuple{Float64, Float64} at index [3]",
      "",
      "Stacktrace:",
      "  [1] getindex",
      "    @ .\\tuple.jl:31 [inlined]",
      "  [2] #5",
      "    @ .\\In[7]:1 [inlined]",
      "  [3] _broadcast_getindex_evalf",
      "    @ .\\broadcast.jl:673 [inlined]",
      "  [4] _broadcast_getindex",
      "    @ .\\broadcast.jl:646 [inlined]",
      "  [5] getindex",
      "    @ .\\broadcast.jl:605 [inlined]",
      "  [6] macro expansion",
      "    @ .\\broadcast.jl:1003 [inlined]",
      "  [7] macro expansion",
      "    @ .\\simdloop.jl:77 [inlined]",
      "  [8] copyto!",
      "    @ .\\broadcast.jl:1002 [inlined]",
      "  [9] copyto!",
      "    @ .\\broadcast.jl:920 [inlined]",
      " [10] copy",
      "    @ .\\broadcast.jl:892 [inlined]",
      " [11] materialize",
      "    @ .\\broadcast.jl:867 [inlined]",
      " [12] findall(testf::var\"#5#6\", A::Vector{Tuple{Float64, Float64}})",
      "    @ Base .\\array.jl:2637",
      " [13] top-level scope",
      "    @ In[7]:1"
     ]
    }
   ],
   "source": [
    "Γ_to_X = findall(x -> (x[2] ≈ 0) && (x[3] ≈ 0), kGrid.kGrid)[1:end-1]\n",
    "X_to_M = findall(x -> (x[1] ≈ π) && (x[3] ≈ 0), kGrid.kGrid)[1:end-1]\n",
    "M_to_Γ = reverse(findall(x -> (x[1] ≈ x[2]) && (x[3] ≈ 0), kGrid.kGrid))[1:end-1]\n",
    "Γ_to_R = findall(x -> (x[1] ≈ x[2]) && (x[3] ≈ x[2]), kGrid.kGrid)[1:end-1];\n",
    "path = cat(Γ_to_X, X_to_M, M_to_Γ, Γ_to_R, dims=1);"
   ]
  },
  {
   "cell_type": "code",
   "execution_count": 8,
   "metadata": {},
   "outputs": [
    {
     "ename": "LoadError",
     "evalue": "BoundsError: attempt to access Tuple{Float64, Float64} at index [3]",
     "output_type": "error",
     "traceback": [
      "BoundsError: attempt to access Tuple{Float64, Float64} at index [3]",
      "",
      "Stacktrace:",
      "  [1] getindex",
      "    @ .\\tuple.jl:31 [inlined]",
      "  [2] #7",
      "    @ .\\In[8]:1 [inlined]",
      "  [3] _broadcast_getindex_evalf",
      "    @ .\\broadcast.jl:673 [inlined]",
      "  [4] _broadcast_getindex",
      "    @ .\\broadcast.jl:646 [inlined]",
      "  [5] getindex",
      "    @ .\\broadcast.jl:605 [inlined]",
      "  [6] macro expansion",
      "    @ .\\broadcast.jl:997 [inlined]",
      "  [7] macro expansion",
      "    @ .\\simdloop.jl:77 [inlined]",
      "  [8] copyto!",
      "    @ .\\broadcast.jl:996 [inlined]",
      "  [9] copyto!",
      "    @ .\\broadcast.jl:920 [inlined]",
      " [10] copy",
      "    @ .\\broadcast.jl:892 [inlined]",
      " [11] materialize",
      "    @ .\\broadcast.jl:867 [inlined]",
      " [12] findall(testf::var\"#7#8\", A::Vector{Tuple{Float64, Float64}})",
      "    @ Base .\\array.jl:2637",
      " [13] top-level scope",
      "    @ In[8]:1"
     ]
    }
   ],
   "source": [
    "Γ_to_X = findall(x -> (x[2] ≈ 0) && (x[3] ≈ 0), kGrid_full.kGrid)[1:end-1]\n",
    "X_to_M = findall(x -> (x[1] ≈ π) && (x[3] ≈ 0), kGrid_full.kGrid)[1:end-1]\n",
    "M_to_Γ = reverse(findall(x -> (x[1] ≈ x[2]) && (x[3] ≈ 0), kGrid_full.kGrid))[1:end-1]\n",
    "Γ_to_R = findall(x -> (x[1] ≈ x[2]) && (x[3] ≈ x[2]), kGrid_full.kGrid)[1:end-1];\n",
    "path = cat(Γ_to_X, X_to_M, M_to_Γ, Γ_to_R, dims=1);"
   ]
  },
  {
   "cell_type": "code",
   "execution_count": 9,
   "metadata": {},
   "outputs": [
    {
     "ename": "LoadError",
     "evalue": "UndefVarError: `path` not defined in `Main`\nSuggestion: check for spelling errors or missing imports.\nHint: a global variable of this name may be made accessible by importing DataStructures in the current active module Main\nHint: a global variable of this name also exists in GR.",
     "output_type": "error",
     "traceback": [
      "UndefVarError: `path` not defined in `Main`\nSuggestion: check for spelling errors or missing imports.\nHint: a global variable of this name may be made accessible by importing DataStructures in the current active module Main\nHint: a global variable of this name also exists in GR.",
      "",
      "Stacktrace:",
      " [1] top-level scope",
      "   @ In[9]:3"
     ]
    }
   ],
   "source": [
    "kVectors = vec(kGrid_full.kGrid)\n",
    "#println(kVectors)\n",
    "bubble = zeros(ComplexF64,length(path))\n",
    "for (qi,q) in enumerate(path)\n",
    "    for i in 1:length(G_manual[:,1])\n",
    "        kq=[0.0,0.0,0.0]\n",
    "        for k in 1:3\n",
    "            println(\"a($k): \", kVectors[i][k]+kGrid_full.kGrid[q][k])\n",
    "            if isapprox(kVectors[i][k]+kGrid_full.kGrid[q][k],-π,atol=1e-8)\n",
    "                kq[k]=π\n",
    "            elseif isapprox(kVectors[i][k]+kGrid_full.kGrid[q][k],π,atol=1e-8)\n",
    "                kq[k]=π\n",
    "            elseif kVectors[i][k]+kGrid_full.kGrid[q][k] >=0\n",
    "                kq[k]=mod(kVectors[i][k]+kGrid_full.kGrid[q][k]+π,2*π)-π\n",
    "            else\n",
    "                kq[k]=mod(-(kVectors[i][k]+kGrid_full.kGrid[q][k])+π,2*π)-π\n",
    "            end\n",
    "        end\n",
    "        kqi = findfirst(x -> isapprox(x[1],kq[1],atol=1e-8) && isapprox(x[2],kq[2],atol=1e-8) && isapprox(x[3],kq[3],atol=0.00000000001),kVectors)    \n",
    "        println(kq)\n",
    "        println(kqi)\n",
    "        for j in 1:length(G_manual[1,:])\n",
    "            bubble[qi]+=G_manual[i,j]*G_manual[kqi,j]\n",
    "        end\n",
    "    end\n",
    "    bubble[qi] = -mP.β*bubble[qi]/(length(G_manual[:,1])*length(G_manual[1,:]))\n",
    "end"
   ]
  },
  {
   "cell_type": "code",
   "execution_count": 10,
   "metadata": {},
   "outputs": [
    {
     "ename": "LoadError",
     "evalue": "UndefVarError: `G_manual` not defined in `Main`\nSuggestion: check for spelling errors or missing imports.",
     "output_type": "error",
     "traceback": [
      "UndefVarError: `G_manual` not defined in `Main`\nSuggestion: check for spelling errors or missing imports.",
      "",
      "Stacktrace:",
      " [1] top-level scope",
      "   @ In[10]:1"
     ]
    }
   ],
   "source": [
    "plot(imag(G_manual[1,:]))"
   ]
  },
  {
   "cell_type": "code",
   "execution_count": 11,
   "metadata": {},
   "outputs": [],
   "source": [
    "#G_re=reshape(GTest,(4,4,4,length(νGrid)))\n",
    "#G_fft = FFTW.fft(G_re)\n",
    "#print(size(G_fft))\n",
    "#print(kGrid.kGrid)\n",
    "χ₀_qνω = LadderDGA.calc_bubble(:DMFT, lDGAhelper);\n",
    "χ₀_qω  = sum(χ₀_qνω, dims=2)[:,1,:]/mP.β;"
   ]
  },
  {
   "cell_type": "code",
   "execution_count": 12,
   "metadata": {},
   "outputs": [
    {
     "ename": "LoadError",
     "evalue": "UndefVarError: `path` not defined in `Main`\nSuggestion: check for spelling errors or missing imports.\nHint: a global variable of this name may be made accessible by importing DataStructures in the current active module Main\nHint: a global variable of this name also exists in GR.",
     "output_type": "error",
     "traceback": [
      "UndefVarError: `path` not defined in `Main`\nSuggestion: check for spelling errors or missing imports.\nHint: a global variable of this name may be made accessible by importing DataStructures in the current active module Main\nHint: a global variable of this name also exists in GR.",
      "",
      "Stacktrace:",
      " [1] top-level scope",
      "   @ In[12]:1"
     ]
    }
   ],
   "source": [
    "plot(real(χ₀_qω[path,101]) ,markershape=:auto)"
   ]
  },
  {
   "cell_type": "code",
   "execution_count": 13,
   "metadata": {},
   "outputs": [
    {
     "ename": "LoadError",
     "evalue": "UndefVarError: `path` not defined in `Main`\nSuggestion: check for spelling errors or missing imports.\nHint: a global variable of this name may be made accessible by importing DataStructures in the current active module Main\nHint: a global variable of this name also exists in GR.",
     "output_type": "error",
     "traceback": [
      "UndefVarError: `path` not defined in `Main`\nSuggestion: check for spelling errors or missing imports.\nHint: a global variable of this name may be made accessible by importing DataStructures in the current active module Main\nHint: a global variable of this name also exists in GR.",
      "",
      "Stacktrace:",
      " [1] top-level scope",
      "   @ In[13]:1"
     ]
    }
   ],
   "source": [
    "plot(real(χ₀_qω[path,101]) ,markershape=:auto)"
   ]
  },
  {
   "cell_type": "code",
   "execution_count": 14,
   "metadata": {},
   "outputs": [
    {
     "ename": "LoadError",
     "evalue": "ArgumentError: Package NPZ not found in current path.\n- Run `import Pkg; Pkg.add(\"NPZ\")` to install the NPZ package.",
     "output_type": "error",
     "traceback": [
      "ArgumentError: Package NPZ not found in current path.\n- Run `import Pkg; Pkg.add(\"NPZ\")` to install the NPZ package.",
      "",
      "Stacktrace:",
      " [1] macro expansion",
      "   @ .\\loading.jl:2223 [inlined]",
      " [2] macro expansion",
      "   @ .\\lock.jl:273 [inlined]",
      " [3] __require(into::Module, mod::Symbol)",
      "   @ Base .\\loading.jl:2198",
      " [4] #invoke_in_world#3",
      "   @ .\\essentials.jl:1089 [inlined]",
      " [5] invoke_in_world",
      "   @ .\\essentials.jl:1086 [inlined]",
      " [6] require(into::Module, mod::Symbol)",
      "   @ Base .\\loading.jl:2191"
     ]
    }
   ],
   "source": [
    "using NPZ\n",
    "npzwrite(\"/Users/user/Promotion/RPA/data/SC/datenJulian.npy\",χ₀_qω[path,101])"
   ]
  },
  {
   "cell_type": "code",
   "execution_count": 15,
   "metadata": {},
   "outputs": [
    {
     "data": {
      "image/png": "[encoded data removed]",
      "image/svg+xml": [
       "<?xml version=\"1.0\" encoding=\"utf-8\"?>\n",
       "<svg xmlns=\"http://www.w3.org/2000/svg\" xmlns:xlink=\"http://www.w3.org/1999/xlink\" width=\"600\" height=\"400\" viewBox=\"0 0 2400 1600\">\n",
       "<defs>\n",
       "  <clipPath id=\"clip950\">\n",
       "    <rect x=\"0\" y=\"0\" width=\"2400\" height=\"1600\"/>\n",
       "  </clipPath>\n",
       "</defs>\n",
       "<path clip-path=\"url(#clip950)\" d=\"M0 1600 L2400 1600 L2400 0 L0 0  Z\" fill=\"#ffffff\" fill-rule=\"evenodd\" fill-opacity=\"1\"/>\n",
       "<defs>\n",
       "  <clipPath id=\"clip951\">\n",
       "    <rect x=\"480\" y=\"0\" width=\"1681\" height=\"1600\"/>\n",
       "  </clipPath>\n",
       "</defs>\n",
       "<path clip-path=\"url(#clip950)\" d=\"M254.26 1486.45 L2352.76 1486.45 L2352.76 47.2441 L254.26 47.2441  Z\" fill=\"#ffffff\" fill-rule=\"evenodd\" fill-opacity=\"1\"/>\n",
       "<defs>\n",
       "  <clipPath id=\"clip952\">\n",
       "    <rect x=\"254\" y=\"47\" width=\"2099\" height=\"1440\"/>\n",
       "  </clipPath>\n",
       "</defs>\n",
       "<polyline clip-path=\"url(#clip952)\" style=\"stroke:#000000; stroke-linecap:round; stroke-linejoin:round; stroke-width:2; stroke-opacity:0.1; fill:none\" points=\"709.594,1486.45 709.594,47.2441 \"/>\n",
       "<polyline clip-path=\"url(#clip952)\" style=\"stroke:#000000; stroke-linecap:round; stroke-linejoin:round; stroke-width:2; stroke-opacity:0.1; fill:none\" points=\"1204.52,1486.45 1204.52,47.2441 \"/>\n",
       "<polyline clip-path=\"url(#clip952)\" style=\"stroke:#000000; stroke-linecap:round; stroke-linejoin:round; stroke-width:2; stroke-opacity:0.1; fill:none\" points=\"1699.45,1486.45 1699.45,47.2441 \"/>\n",
       "<polyline clip-path=\"url(#clip952)\" style=\"stroke:#000000; stroke-linecap:round; stroke-linejoin:round; stroke-width:2; stroke-opacity:0.1; fill:none\" points=\"2194.38,1486.45 2194.38,47.2441 \"/>\n",
       "<polyline clip-path=\"url(#clip952)\" style=\"stroke:#000000; stroke-linecap:round; stroke-linejoin:round; stroke-width:2; stroke-opacity:0.1; fill:none\" points=\"254.26,1287.47 2352.76,1287.47 \"/>\n",
       "<polyline clip-path=\"url(#clip952)\" style=\"stroke:#000000; stroke-linecap:round; stroke-linejoin:round; stroke-width:2; stroke-opacity:0.1; fill:none\" points=\"254.26,1026.03 2352.76,1026.03 \"/>\n",
       "<polyline clip-path=\"url(#clip952)\" style=\"stroke:#000000; stroke-linecap:round; stroke-linejoin:round; stroke-width:2; stroke-opacity:0.1; fill:none\" points=\"254.26,764.586 2352.76,764.586 \"/>\n",
       "<polyline clip-path=\"url(#clip952)\" style=\"stroke:#000000; stroke-linecap:round; stroke-linejoin:round; stroke-width:2; stroke-opacity:0.1; fill:none\" points=\"254.26,503.144 2352.76,503.144 \"/>\n",
       "<polyline clip-path=\"url(#clip952)\" style=\"stroke:#000000; stroke-linecap:round; stroke-linejoin:round; stroke-width:2; stroke-opacity:0.1; fill:none\" points=\"254.26,241.702 2352.76,241.702 \"/>\n",
       "<polyline clip-path=\"url(#clip950)\" style=\"stroke:#000000; stroke-linecap:round; stroke-linejoin:round; stroke-width:4; stroke-opacity:1; fill:none\" points=\"254.26,1486.45 2352.76,1486.45 \"/>\n",
       "<polyline clip-path=\"url(#clip950)\" style=\"stroke:#000000; stroke-linecap:round; stroke-linejoin:round; stroke-width:4; stroke-opacity:1; fill:none\" points=\"709.594,1486.45 709.594,1467.55 \"/>\n",
       "<polyline clip-path=\"url(#clip950)\" style=\"stroke:#000000; stroke-linecap:round; stroke-linejoin:round; stroke-width:4; stroke-opacity:1; fill:none\" points=\"1204.52,1486.45 1204.52,1467.55 \"/>\n",
       "<polyline clip-path=\"url(#clip950)\" style=\"stroke:#000000; stroke-linecap:round; stroke-linejoin:round; stroke-width:4; stroke-opacity:1; fill:none\" points=\"1699.45,1486.45 1699.45,1467.55 \"/>\n",
       "<polyline clip-path=\"url(#clip950)\" style=\"stroke:#000000; stroke-linecap:round; stroke-linejoin:round; stroke-width:4; stroke-opacity:1; fill:none\" points=\"2194.38,1486.45 2194.38,1467.55 \"/>\n",
       "<path clip-path=\"url(#clip950)\" d=\"M699.872 1514.29 L718.228 1514.29 L718.228 1518.22 L704.154 1518.22 L704.154 1526.7 Q705.173 1526.35 706.191 1526.19 Q707.21 1526 708.228 1526 Q714.015 1526 717.395 1529.17 Q720.774 1532.34 720.774 1537.76 Q720.774 1543.34 717.302 1546.44 Q713.83 1549.52 707.51 1549.52 Q705.335 1549.52 703.066 1549.15 Q700.821 1548.78 698.413 1548.04 L698.413 1543.34 Q700.497 1544.47 702.719 1545.03 Q704.941 1545.58 707.418 1545.58 Q711.423 1545.58 713.76 1543.48 Q716.098 1541.37 716.098 1537.76 Q716.098 1534.15 713.76 1532.04 Q711.423 1529.94 707.418 1529.94 Q705.543 1529.94 703.668 1530.35 Q701.816 1530.77 699.872 1531.65 L699.872 1514.29 Z\" fill=\"#000000\" fill-rule=\"nonzero\" fill-opacity=\"1\" /><path clip-path=\"url(#clip950)\" d=\"M1179.21 1544.91 L1186.85 1544.91 L1186.85 1518.55 L1178.54 1520.21 L1178.54 1515.95 L1186.8 1514.29 L1191.48 1514.29 L1191.48 1544.91 L1199.12 1544.91 L1199.12 1548.85 L1179.21 1548.85 L1179.21 1544.91 Z\" fill=\"#000000\" fill-rule=\"nonzero\" fill-opacity=\"1\" /><path clip-path=\"url(#clip950)\" d=\"M1218.56 1517.37 Q1214.95 1517.37 1213.12 1520.93 Q1211.32 1524.47 1211.32 1531.6 Q1211.32 1538.71 1213.12 1542.27 Q1214.95 1545.82 1218.56 1545.82 Q1222.2 1545.82 1224 1542.27 Q1225.83 1538.71 1225.83 1531.6 Q1225.83 1524.47 1224 1520.93 Q1222.2 1517.37 1218.56 1517.37 M1218.56 1513.66 Q1224.37 1513.66 1227.43 1518.27 Q1230.51 1522.85 1230.51 1531.6 Q1230.51 1540.33 1227.43 1544.94 Q1224.37 1549.52 1218.56 1549.52 Q1212.75 1549.52 1209.67 1544.94 Q1206.62 1540.33 1206.62 1531.6 Q1206.62 1522.85 1209.67 1518.27 Q1212.75 1513.66 1218.56 1513.66 Z\" fill=\"#000000\" fill-rule=\"nonzero\" fill-opacity=\"1\" /><path clip-path=\"url(#clip950)\" d=\"M1674.64 1544.91 L1682.27 1544.91 L1682.27 1518.55 L1673.96 1520.21 L1673.96 1515.95 L1682.23 1514.29 L1686.9 1514.29 L1686.9 1544.91 L1694.54 1544.91 L1694.54 1548.85 L1674.64 1548.85 L1674.64 1544.91 Z\" fill=\"#000000\" fill-rule=\"nonzero\" fill-opacity=\"1\" /><path clip-path=\"url(#clip950)\" d=\"M1704.03 1514.29 L1722.39 1514.29 L1722.39 1518.22 L1708.32 1518.22 L1708.32 1526.7 Q1709.33 1526.35 1710.35 1526.19 Q1711.37 1526 1712.39 1526 Q1718.18 1526 1721.56 1529.17 Q1724.94 1532.34 1724.94 1537.76 Q1724.94 1543.34 1721.46 1546.44 Q1717.99 1549.52 1711.67 1549.52 Q1709.5 1549.52 1707.23 1549.15 Q1704.98 1548.78 1702.58 1548.04 L1702.58 1543.34 Q1704.66 1544.47 1706.88 1545.03 Q1709.1 1545.58 1711.58 1545.58 Q1715.58 1545.58 1717.92 1543.48 Q1720.26 1541.37 1720.26 1537.76 Q1720.26 1534.15 1717.92 1532.04 Q1715.58 1529.94 1711.58 1529.94 Q1709.71 1529.94 1707.83 1530.35 Q1705.98 1530.77 1704.03 1531.65 L1704.03 1514.29 Z\" fill=\"#000000\" fill-rule=\"nonzero\" fill-opacity=\"1\" /><path clip-path=\"url(#clip950)\" d=\"M2173.15 1544.91 L2189.47 1544.91 L2189.47 1548.85 L2167.53 1548.85 L2167.53 1544.91 Q2170.19 1542.16 2174.77 1537.53 Q2179.38 1532.88 2180.56 1531.53 Q2182.8 1529.01 2183.68 1527.27 Q2184.59 1525.51 2184.59 1523.82 Q2184.59 1521.07 2182.64 1519.33 Q2180.72 1517.6 2177.62 1517.6 Q2175.42 1517.6 2172.97 1518.36 Q2170.54 1519.13 2167.76 1520.68 L2167.76 1515.95 Q2170.58 1514.82 2173.04 1514.24 Q2175.49 1513.66 2177.53 1513.66 Q2182.9 1513.66 2186.09 1516.35 Q2189.29 1519.03 2189.29 1523.52 Q2189.29 1525.65 2188.48 1527.57 Q2187.69 1529.47 2185.58 1532.07 Q2185 1532.74 2181.9 1535.95 Q2178.8 1539.15 2173.15 1544.91 Z\" fill=\"#000000\" fill-rule=\"nonzero\" fill-opacity=\"1\" /><path clip-path=\"url(#clip950)\" d=\"M2209.29 1517.37 Q2205.68 1517.37 2203.85 1520.93 Q2202.04 1524.47 2202.04 1531.6 Q2202.04 1538.71 2203.85 1542.27 Q2205.68 1545.82 2209.29 1545.82 Q2212.92 1545.82 2214.73 1542.27 Q2216.55 1538.71 2216.55 1531.6 Q2216.55 1524.47 2214.73 1520.93 Q2212.92 1517.37 2209.29 1517.37 M2209.29 1513.66 Q2215.1 1513.66 2218.15 1518.27 Q2221.23 1522.85 2221.23 1531.6 Q2221.23 1540.33 2218.15 1544.94 Q2215.1 1549.52 2209.29 1549.52 Q2203.48 1549.52 2200.4 1544.94 Q2197.34 1540.33 2197.34 1531.6 Q2197.34 1522.85 2200.4 1518.27 Q2203.48 1513.66 2209.29 1513.66 Z\" fill=\"#000000\" fill-rule=\"nonzero\" fill-opacity=\"1\" /><polyline clip-path=\"url(#clip950)\" style=\"stroke:#000000; stroke-linecap:round; stroke-linejoin:round; stroke-width:4; stroke-opacity:1; fill:none\" points=\"254.26,1486.45 254.26,47.2441 \"/>\n",
       "<polyline clip-path=\"url(#clip950)\" style=\"stroke:#000000; stroke-linecap:round; stroke-linejoin:round; stroke-width:4; stroke-opacity:1; fill:none\" points=\"254.26,1287.47 273.157,1287.47 \"/>\n",
       "<polyline clip-path=\"url(#clip950)\" style=\"stroke:#000000; stroke-linecap:round; stroke-linejoin:round; stroke-width:4; stroke-opacity:1; fill:none\" points=\"254.26,1026.03 273.157,1026.03 \"/>\n",
       "<polyline clip-path=\"url(#clip950)\" style=\"stroke:#000000; stroke-linecap:round; stroke-linejoin:round; stroke-width:4; stroke-opacity:1; fill:none\" points=\"254.26,764.586 273.157,764.586 \"/>\n",
       "<polyline clip-path=\"url(#clip950)\" style=\"stroke:#000000; stroke-linecap:round; stroke-linejoin:round; stroke-width:4; stroke-opacity:1; fill:none\" points=\"254.26,503.144 273.157,503.144 \"/>\n",
       "<polyline clip-path=\"url(#clip950)\" style=\"stroke:#000000; stroke-linecap:round; stroke-linejoin:round; stroke-width:4; stroke-opacity:1; fill:none\" points=\"254.26,241.702 273.157,241.702 \"/>\n",
       "<path clip-path=\"url(#clip950)\" d=\"M51.9875 1287.92 L81.6633 1287.92 L81.6633 1291.86 L51.9875 1291.86 L51.9875 1287.92 Z\" fill=\"#000000\" fill-rule=\"nonzero\" fill-opacity=\"1\" /><path clip-path=\"url(#clip950)\" d=\"M101.756 1273.27 Q98.1447 1273.27 96.316 1276.83 Q94.5104 1280.38 94.5104 1287.5 Q94.5104 1294.61 96.316 1298.18 Q98.1447 1301.72 101.756 1301.72 Q105.39 1301.72 107.196 1298.18 Q109.024 1294.61 109.024 1287.5 Q109.024 1280.38 107.196 1276.83 Q105.39 1273.27 101.756 1273.27 M101.756 1269.57 Q107.566 1269.57 110.621 1274.17 Q113.7 1278.75 113.7 1287.5 Q113.7 1296.23 110.621 1300.84 Q107.566 1305.42 101.756 1305.42 Q95.9456 1305.42 92.8669 1300.84 Q89.8114 1296.23 89.8114 1287.5 Q89.8114 1278.75 92.8669 1274.17 Q95.9456 1269.57 101.756 1269.57 Z\" fill=\"#000000\" fill-rule=\"nonzero\" fill-opacity=\"1\" /><path clip-path=\"url(#clip950)\" d=\"M121.918 1298.87 L126.802 1298.87 L126.802 1304.75 L121.918 1304.75 L121.918 1298.87 Z\" fill=\"#000000\" fill-rule=\"nonzero\" fill-opacity=\"1\" /><path clip-path=\"url(#clip950)\" d=\"M137.797 1300.81 L145.436 1300.81 L145.436 1274.45 L137.126 1276.12 L137.126 1271.86 L145.39 1270.19 L150.066 1270.19 L150.066 1300.81 L157.705 1300.81 L157.705 1304.75 L137.797 1304.75 L137.797 1300.81 Z\" fill=\"#000000\" fill-rule=\"nonzero\" fill-opacity=\"1\" /><path clip-path=\"url(#clip950)\" d=\"M171.177 1300.81 L187.496 1300.81 L187.496 1304.75 L165.552 1304.75 L165.552 1300.81 Q168.214 1298.06 172.797 1293.43 Q177.403 1288.78 178.584 1287.44 Q180.829 1284.91 181.709 1283.18 Q182.612 1281.42 182.612 1279.73 Q182.612 1276.97 180.667 1275.24 Q178.746 1273.5 175.644 1273.5 Q173.445 1273.5 170.991 1274.26 Q168.561 1275.03 165.783 1276.58 L165.783 1271.86 Q168.607 1270.72 171.061 1270.14 Q173.515 1269.57 175.552 1269.57 Q180.922 1269.57 184.116 1272.25 Q187.311 1274.94 187.311 1279.43 Q187.311 1281.56 186.501 1283.48 Q185.714 1285.38 183.607 1287.97 Q183.028 1288.64 179.927 1291.86 Q176.825 1295.05 171.177 1300.81 Z\" fill=\"#000000\" fill-rule=\"nonzero\" fill-opacity=\"1\" /><path clip-path=\"url(#clip950)\" d=\"M197.357 1270.19 L215.713 1270.19 L215.713 1274.13 L201.639 1274.13 L201.639 1282.6 Q202.658 1282.25 203.676 1282.09 Q204.695 1281.9 205.714 1281.9 Q211.501 1281.9 214.88 1285.07 Q218.26 1288.25 218.26 1293.66 Q218.26 1299.24 214.788 1302.34 Q211.315 1305.42 204.996 1305.42 Q202.82 1305.42 200.552 1305.05 Q198.306 1304.68 195.899 1303.94 L195.899 1299.24 Q197.982 1300.38 200.204 1300.93 Q202.426 1301.49 204.903 1301.49 Q208.908 1301.49 211.246 1299.38 Q213.584 1297.27 213.584 1293.66 Q213.584 1290.05 211.246 1287.94 Q208.908 1285.84 204.903 1285.84 Q203.028 1285.84 201.153 1286.25 Q199.302 1286.67 197.357 1287.55 L197.357 1270.19 Z\" fill=\"#000000\" fill-rule=\"nonzero\" fill-opacity=\"1\" /><path clip-path=\"url(#clip950)\" d=\"M50.9921 1026.48 L80.6679 1026.48 L80.6679 1030.41 L50.9921 1030.41 L50.9921 1026.48 Z\" fill=\"#000000\" fill-rule=\"nonzero\" fill-opacity=\"1\" /><path clip-path=\"url(#clip950)\" d=\"M100.76 1011.83 Q97.1493 1011.83 95.3206 1015.39 Q93.515 1018.93 93.515 1026.06 Q93.515 1033.17 95.3206 1036.73 Q97.1493 1040.28 100.76 1040.28 Q104.395 1040.28 106.2 1036.73 Q108.029 1033.17 108.029 1026.06 Q108.029 1018.93 106.2 1015.39 Q104.395 1011.83 100.76 1011.83 M100.76 1008.12 Q106.571 1008.12 109.626 1012.73 Q112.705 1017.31 112.705 1026.06 Q112.705 1034.79 109.626 1039.4 Q106.571 1043.98 100.76 1043.98 Q94.9502 1043.98 91.8715 1039.4 Q88.816 1034.79 88.816 1026.06 Q88.816 1017.31 91.8715 1012.73 Q94.9502 1008.12 100.76 1008.12 Z\" fill=\"#000000\" fill-rule=\"nonzero\" fill-opacity=\"1\" /><path clip-path=\"url(#clip950)\" d=\"M120.922 1037.43 L125.807 1037.43 L125.807 1043.31 L120.922 1043.31 L120.922 1037.43 Z\" fill=\"#000000\" fill-rule=\"nonzero\" fill-opacity=\"1\" /><path clip-path=\"url(#clip950)\" d=\"M136.802 1039.37 L144.441 1039.37 L144.441 1013.01 L136.131 1014.67 L136.131 1010.41 L144.394 1008.75 L149.07 1008.75 L149.07 1039.37 L156.709 1039.37 L156.709 1043.31 L136.802 1043.31 L136.802 1039.37 Z\" fill=\"#000000\" fill-rule=\"nonzero\" fill-opacity=\"1\" /><path clip-path=\"url(#clip950)\" d=\"M176.153 1011.83 Q172.542 1011.83 170.714 1015.39 Q168.908 1018.93 168.908 1026.06 Q168.908 1033.17 170.714 1036.73 Q172.542 1040.28 176.153 1040.28 Q179.788 1040.28 181.593 1036.73 Q183.422 1033.17 183.422 1026.06 Q183.422 1018.93 181.593 1015.39 Q179.788 1011.83 176.153 1011.83 M176.153 1008.12 Q181.964 1008.12 185.019 1012.73 Q188.098 1017.31 188.098 1026.06 Q188.098 1034.79 185.019 1039.4 Q181.964 1043.98 176.153 1043.98 Q170.343 1043.98 167.265 1039.4 Q164.209 1034.79 164.209 1026.06 Q164.209 1017.31 167.265 1012.73 Q170.343 1008.12 176.153 1008.12 Z\" fill=\"#000000\" fill-rule=\"nonzero\" fill-opacity=\"1\" /><path clip-path=\"url(#clip950)\" d=\"M206.315 1011.83 Q202.704 1011.83 200.876 1015.39 Q199.07 1018.93 199.07 1026.06 Q199.07 1033.17 200.876 1036.73 Q202.704 1040.28 206.315 1040.28 Q209.95 1040.28 211.755 1036.73 Q213.584 1033.17 213.584 1026.06 Q213.584 1018.93 211.755 1015.39 Q209.95 1011.83 206.315 1011.83 M206.315 1008.12 Q212.126 1008.12 215.181 1012.73 Q218.26 1017.31 218.26 1026.06 Q218.26 1034.79 215.181 1039.4 Q212.126 1043.98 206.315 1043.98 Q200.505 1043.98 197.427 1039.4 Q194.371 1034.79 194.371 1026.06 Q194.371 1017.31 197.427 1012.73 Q200.505 1008.12 206.315 1008.12 Z\" fill=\"#000000\" fill-rule=\"nonzero\" fill-opacity=\"1\" /><path clip-path=\"url(#clip950)\" d=\"M51.9875 765.038 L81.6633 765.038 L81.6633 768.973 L51.9875 768.973 L51.9875 765.038 Z\" fill=\"#000000\" fill-rule=\"nonzero\" fill-opacity=\"1\" /><path clip-path=\"url(#clip950)\" d=\"M101.756 750.385 Q98.1447 750.385 96.316 753.95 Q94.5104 757.491 94.5104 764.621 Q94.5104 771.727 96.316 775.292 Q98.1447 778.834 101.756 778.834 Q105.39 778.834 107.196 775.292 Q109.024 771.727 109.024 764.621 Q109.024 757.491 107.196 753.95 Q105.39 750.385 101.756 750.385 M101.756 746.681 Q107.566 746.681 110.621 751.288 Q113.7 755.871 113.7 764.621 Q113.7 773.348 110.621 777.954 Q107.566 782.538 101.756 782.538 Q95.9456 782.538 92.8669 777.954 Q89.8114 773.348 89.8114 764.621 Q89.8114 755.871 92.8669 751.288 Q95.9456 746.681 101.756 746.681 Z\" fill=\"#000000\" fill-rule=\"nonzero\" fill-opacity=\"1\" /><path clip-path=\"url(#clip950)\" d=\"M121.918 775.987 L126.802 775.987 L126.802 781.866 L121.918 781.866 L121.918 775.987 Z\" fill=\"#000000\" fill-rule=\"nonzero\" fill-opacity=\"1\" /><path clip-path=\"url(#clip950)\" d=\"M146.987 750.385 Q143.376 750.385 141.547 753.95 Q139.742 757.491 139.742 764.621 Q139.742 771.727 141.547 775.292 Q143.376 778.834 146.987 778.834 Q150.621 778.834 152.427 775.292 Q154.255 771.727 154.255 764.621 Q154.255 757.491 152.427 753.95 Q150.621 750.385 146.987 750.385 M146.987 746.681 Q152.797 746.681 155.853 751.288 Q158.931 755.871 158.931 764.621 Q158.931 773.348 155.853 777.954 Q152.797 782.538 146.987 782.538 Q141.177 782.538 138.098 777.954 Q135.043 773.348 135.043 764.621 Q135.043 755.871 138.098 751.288 Q141.177 746.681 146.987 746.681 Z\" fill=\"#000000\" fill-rule=\"nonzero\" fill-opacity=\"1\" /><path clip-path=\"url(#clip950)\" d=\"M165.968 747.306 L188.19 747.306 L188.19 749.297 L175.644 781.866 L170.76 781.866 L182.565 751.241 L165.968 751.241 L165.968 747.306 Z\" fill=\"#000000\" fill-rule=\"nonzero\" fill-opacity=\"1\" /><path clip-path=\"url(#clip950)\" d=\"M197.357 747.306 L215.713 747.306 L215.713 751.241 L201.639 751.241 L201.639 759.714 Q202.658 759.366 203.676 759.204 Q204.695 759.019 205.714 759.019 Q211.501 759.019 214.88 762.19 Q218.26 765.362 218.26 770.778 Q218.26 776.357 214.788 779.459 Q211.315 782.538 204.996 782.538 Q202.82 782.538 200.552 782.167 Q198.306 781.797 195.899 781.056 L195.899 776.357 Q197.982 777.491 200.204 778.047 Q202.426 778.602 204.903 778.602 Q208.908 778.602 211.246 776.496 Q213.584 774.389 213.584 770.778 Q213.584 767.167 211.246 765.061 Q208.908 762.954 204.903 762.954 Q203.028 762.954 201.153 763.371 Q199.302 763.788 197.357 764.667 L197.357 747.306 Z\" fill=\"#000000\" fill-rule=\"nonzero\" fill-opacity=\"1\" /><path clip-path=\"url(#clip950)\" d=\"M50.9921 503.596 L80.6679 503.596 L80.6679 507.531 L50.9921 507.531 L50.9921 503.596 Z\" fill=\"#000000\" fill-rule=\"nonzero\" fill-opacity=\"1\" /><path clip-path=\"url(#clip950)\" d=\"M100.76 488.943 Q97.1493 488.943 95.3206 492.508 Q93.515 496.049 93.515 503.179 Q93.515 510.285 95.3206 513.85 Q97.1493 517.392 100.76 517.392 Q104.395 517.392 106.2 513.85 Q108.029 510.285 108.029 503.179 Q108.029 496.049 106.2 492.508 Q104.395 488.943 100.76 488.943 M100.76 485.239 Q106.571 485.239 109.626 489.846 Q112.705 494.429 112.705 503.179 Q112.705 511.906 109.626 516.512 Q106.571 521.096 100.76 521.096 Q94.9502 521.096 91.8715 516.512 Q88.816 511.906 88.816 503.179 Q88.816 494.429 91.8715 489.846 Q94.9502 485.239 100.76 485.239 Z\" fill=\"#000000\" fill-rule=\"nonzero\" fill-opacity=\"1\" /><path clip-path=\"url(#clip950)\" d=\"M120.922 514.545 L125.807 514.545 L125.807 520.424 L120.922 520.424 L120.922 514.545 Z\" fill=\"#000000\" fill-rule=\"nonzero\" fill-opacity=\"1\" /><path clip-path=\"url(#clip950)\" d=\"M145.992 488.943 Q142.381 488.943 140.552 492.508 Q138.746 496.049 138.746 503.179 Q138.746 510.285 140.552 513.85 Q142.381 517.392 145.992 517.392 Q149.626 517.392 151.431 513.85 Q153.26 510.285 153.26 503.179 Q153.26 496.049 151.431 492.508 Q149.626 488.943 145.992 488.943 M145.992 485.239 Q151.802 485.239 154.857 489.846 Q157.936 494.429 157.936 503.179 Q157.936 511.906 154.857 516.512 Q151.802 521.096 145.992 521.096 Q140.181 521.096 137.103 516.512 Q134.047 511.906 134.047 503.179 Q134.047 494.429 137.103 489.846 Q140.181 485.239 145.992 485.239 Z\" fill=\"#000000\" fill-rule=\"nonzero\" fill-opacity=\"1\" /><path clip-path=\"url(#clip950)\" d=\"M166.2 485.864 L184.556 485.864 L184.556 489.799 L170.482 489.799 L170.482 498.272 Q171.501 497.924 172.519 497.762 Q173.538 497.577 174.556 497.577 Q180.343 497.577 183.723 500.748 Q187.103 503.92 187.103 509.336 Q187.103 514.915 183.63 518.017 Q180.158 521.096 173.839 521.096 Q171.663 521.096 169.394 520.725 Q167.149 520.355 164.742 519.614 L164.742 514.915 Q166.825 516.049 169.047 516.605 Q171.269 517.16 173.746 517.16 Q177.751 517.16 180.089 515.054 Q182.427 512.947 182.427 509.336 Q182.427 505.725 180.089 503.619 Q177.751 501.512 173.746 501.512 Q171.871 501.512 169.996 501.929 Q168.144 502.346 166.2 503.225 L166.2 485.864 Z\" fill=\"#000000\" fill-rule=\"nonzero\" fill-opacity=\"1\" /><path clip-path=\"url(#clip950)\" d=\"M206.315 488.943 Q202.704 488.943 200.876 492.508 Q199.07 496.049 199.07 503.179 Q199.07 510.285 200.876 513.85 Q202.704 517.392 206.315 517.392 Q209.95 517.392 211.755 513.85 Q213.584 510.285 213.584 503.179 Q213.584 496.049 211.755 492.508 Q209.95 488.943 206.315 488.943 M206.315 485.239 Q212.126 485.239 215.181 489.846 Q218.26 494.429 218.26 503.179 Q218.26 511.906 215.181 516.512 Q212.126 521.096 206.315 521.096 Q200.505 521.096 197.427 516.512 Q194.371 511.906 194.371 503.179 Q194.371 494.429 197.427 489.846 Q200.505 485.239 206.315 485.239 Z\" fill=\"#000000\" fill-rule=\"nonzero\" fill-opacity=\"1\" /><path clip-path=\"url(#clip950)\" d=\"M51.9875 242.154 L81.6633 242.154 L81.6633 246.089 L51.9875 246.089 L51.9875 242.154 Z\" fill=\"#000000\" fill-rule=\"nonzero\" fill-opacity=\"1\" /><path clip-path=\"url(#clip950)\" d=\"M101.756 227.501 Q98.1447 227.501 96.316 231.066 Q94.5104 234.607 94.5104 241.737 Q94.5104 248.844 96.316 252.408 Q98.1447 255.95 101.756 255.95 Q105.39 255.95 107.196 252.408 Q109.024 248.844 109.024 241.737 Q109.024 234.607 107.196 231.066 Q105.39 227.501 101.756 227.501 M101.756 223.797 Q107.566 223.797 110.621 228.404 Q113.7 232.987 113.7 241.737 Q113.7 250.464 110.621 255.07 Q107.566 259.654 101.756 259.654 Q95.9456 259.654 92.8669 255.07 Q89.8114 250.464 89.8114 241.737 Q89.8114 232.987 92.8669 228.404 Q95.9456 223.797 101.756 223.797 Z\" fill=\"#000000\" fill-rule=\"nonzero\" fill-opacity=\"1\" /><path clip-path=\"url(#clip950)\" d=\"M121.918 253.103 L126.802 253.103 L126.802 258.982 L121.918 258.982 L121.918 253.103 Z\" fill=\"#000000\" fill-rule=\"nonzero\" fill-opacity=\"1\" /><path clip-path=\"url(#clip950)\" d=\"M146.987 227.501 Q143.376 227.501 141.547 231.066 Q139.742 234.607 139.742 241.737 Q139.742 248.844 141.547 252.408 Q143.376 255.95 146.987 255.95 Q150.621 255.95 152.427 252.408 Q154.255 248.844 154.255 241.737 Q154.255 234.607 152.427 231.066 Q150.621 227.501 146.987 227.501 M146.987 223.797 Q152.797 223.797 155.853 228.404 Q158.931 232.987 158.931 241.737 Q158.931 250.464 155.853 255.07 Q152.797 259.654 146.987 259.654 Q141.177 259.654 138.098 255.07 Q135.043 250.464 135.043 241.737 Q135.043 232.987 138.098 228.404 Q141.177 223.797 146.987 223.797 Z\" fill=\"#000000\" fill-rule=\"nonzero\" fill-opacity=\"1\" /><path clip-path=\"url(#clip950)\" d=\"M171.177 255.047 L187.496 255.047 L187.496 258.982 L165.552 258.982 L165.552 255.047 Q168.214 252.293 172.797 247.663 Q177.403 243.01 178.584 241.668 Q180.829 239.144 181.709 237.408 Q182.612 235.649 182.612 233.959 Q182.612 231.205 180.667 229.469 Q178.746 227.733 175.644 227.733 Q173.445 227.733 170.991 228.496 Q168.561 229.26 165.783 230.811 L165.783 226.089 Q168.607 224.955 171.061 224.376 Q173.515 223.797 175.552 223.797 Q180.922 223.797 184.116 226.483 Q187.311 229.168 187.311 233.658 Q187.311 235.788 186.501 237.709 Q185.714 239.607 183.607 242.2 Q183.028 242.871 179.927 246.089 Q176.825 249.283 171.177 255.047 Z\" fill=\"#000000\" fill-rule=\"nonzero\" fill-opacity=\"1\" /><path clip-path=\"url(#clip950)\" d=\"M197.357 224.422 L215.713 224.422 L215.713 228.358 L201.639 228.358 L201.639 236.83 Q202.658 236.482 203.676 236.32 Q204.695 236.135 205.714 236.135 Q211.501 236.135 214.88 239.307 Q218.26 242.478 218.26 247.894 Q218.26 253.473 214.788 256.575 Q211.315 259.654 204.996 259.654 Q202.82 259.654 200.552 259.283 Q198.306 258.913 195.899 258.172 L195.899 253.473 Q197.982 254.607 200.204 255.163 Q202.426 255.718 204.903 255.718 Q208.908 255.718 211.246 253.612 Q213.584 251.506 213.584 247.894 Q213.584 244.283 211.246 242.177 Q208.908 240.07 204.903 240.07 Q203.028 240.07 201.153 240.487 Q199.302 240.904 197.357 241.783 L197.357 224.422 Z\" fill=\"#000000\" fill-rule=\"nonzero\" fill-opacity=\"1\" /><polyline clip-path=\"url(#clip952)\" style=\"stroke:#009af9; stroke-linecap:round; stroke-linejoin:round; stroke-width:4; stroke-opacity:1; fill:none\" points=\"313.651,1445.72 412.637,1372.08 511.622,1298.94 610.608,1185.8 709.594,1113.97 808.579,932.316 907.565,968.47 1006.55,898.195 1105.54,720.506 1204.52,513.375 1303.51,803.008 1402.49,733.957 1501.48,559.363 1600.46,355.859 1699.45,201.131 1798.44,742.237 1897.42,673.646 1996.41,500.212 2095.39,298.058 2194.38,144.363 2293.36,87.9763 \"/>\n",
       "<line clip-path=\"url(#clip952)\" x1=\"313.651\" y1=\"1445.72\" x2=\"313.651\" y2=\"1429.72\" style=\"stroke:#009af9; stroke-width:4; stroke-opacity:1\"/>\n",
       "<line clip-path=\"url(#clip952)\" x1=\"313.651\" y1=\"1445.72\" x2=\"297.651\" y2=\"1445.72\" style=\"stroke:#009af9; stroke-width:4; stroke-opacity:1\"/>\n",
       "<line clip-path=\"url(#clip952)\" x1=\"313.651\" y1=\"1445.72\" x2=\"313.651\" y2=\"1461.72\" style=\"stroke:#009af9; stroke-width:4; stroke-opacity:1\"/>\n",
       "<line clip-path=\"url(#clip952)\" x1=\"313.651\" y1=\"1445.72\" x2=\"329.651\" y2=\"1445.72\" style=\"stroke:#009af9; stroke-width:4; stroke-opacity:1\"/>\n",
       "<line clip-path=\"url(#clip952)\" x1=\"412.637\" y1=\"1372.08\" x2=\"412.637\" y2=\"1356.08\" style=\"stroke:#009af9; stroke-width:4; stroke-opacity:1\"/>\n",
       "<line clip-path=\"url(#clip952)\" x1=\"412.637\" y1=\"1372.08\" x2=\"396.637\" y2=\"1372.08\" style=\"stroke:#009af9; stroke-width:4; stroke-opacity:1\"/>\n",
       "<line clip-path=\"url(#clip952)\" x1=\"412.637\" y1=\"1372.08\" x2=\"412.637\" y2=\"1388.08\" style=\"stroke:#009af9; stroke-width:4; stroke-opacity:1\"/>\n",
       "<line clip-path=\"url(#clip952)\" x1=\"412.637\" y1=\"1372.08\" x2=\"428.637\" y2=\"1372.08\" style=\"stroke:#009af9; stroke-width:4; stroke-opacity:1\"/>\n",
       "<line clip-path=\"url(#clip952)\" x1=\"511.622\" y1=\"1298.94\" x2=\"511.622\" y2=\"1282.94\" style=\"stroke:#009af9; stroke-width:4; stroke-opacity:1\"/>\n",
       "<line clip-path=\"url(#clip952)\" x1=\"511.622\" y1=\"1298.94\" x2=\"495.622\" y2=\"1298.94\" style=\"stroke:#009af9; stroke-width:4; stroke-opacity:1\"/>\n",
       "<line clip-path=\"url(#clip952)\" x1=\"511.622\" y1=\"1298.94\" x2=\"511.622\" y2=\"1314.94\" style=\"stroke:#009af9; stroke-width:4; stroke-opacity:1\"/>\n",
       "<line clip-path=\"url(#clip952)\" x1=\"511.622\" y1=\"1298.94\" x2=\"527.622\" y2=\"1298.94\" style=\"stroke:#009af9; stroke-width:4; stroke-opacity:1\"/>\n",
       "<line clip-path=\"url(#clip952)\" x1=\"610.608\" y1=\"1185.8\" x2=\"610.608\" y2=\"1169.8\" style=\"stroke:#009af9; stroke-width:4; stroke-opacity:1\"/>\n",
       "<line clip-path=\"url(#clip952)\" x1=\"610.608\" y1=\"1185.8\" x2=\"594.608\" y2=\"1185.8\" style=\"stroke:#009af9; stroke-width:4; stroke-opacity:1\"/>\n",
       "<line clip-path=\"url(#clip952)\" x1=\"610.608\" y1=\"1185.8\" x2=\"610.608\" y2=\"1201.8\" style=\"stroke:#009af9; stroke-width:4; stroke-opacity:1\"/>\n",
       "<line clip-path=\"url(#clip952)\" x1=\"610.608\" y1=\"1185.8\" x2=\"626.608\" y2=\"1185.8\" style=\"stroke:#009af9; stroke-width:4; stroke-opacity:1\"/>\n",
       "<line clip-path=\"url(#clip952)\" x1=\"709.594\" y1=\"1113.97\" x2=\"709.594\" y2=\"1097.97\" style=\"stroke:#009af9; stroke-width:4; stroke-opacity:1\"/>\n",
       "<line clip-path=\"url(#clip952)\" x1=\"709.594\" y1=\"1113.97\" x2=\"693.594\" y2=\"1113.97\" style=\"stroke:#009af9; stroke-width:4; stroke-opacity:1\"/>\n",
       "<line clip-path=\"url(#clip952)\" x1=\"709.594\" y1=\"1113.97\" x2=\"709.594\" y2=\"1129.97\" style=\"stroke:#009af9; stroke-width:4; stroke-opacity:1\"/>\n",
       "<line clip-path=\"url(#clip952)\" x1=\"709.594\" y1=\"1113.97\" x2=\"725.594\" y2=\"1113.97\" style=\"stroke:#009af9; stroke-width:4; stroke-opacity:1\"/>\n",
       "<line clip-path=\"url(#clip952)\" x1=\"808.579\" y1=\"932.316\" x2=\"808.579\" y2=\"916.316\" style=\"stroke:#009af9; stroke-width:4; stroke-opacity:1\"/>\n",
       "<line clip-path=\"url(#clip952)\" x1=\"808.579\" y1=\"932.316\" x2=\"792.579\" y2=\"932.316\" style=\"stroke:#009af9; stroke-width:4; stroke-opacity:1\"/>\n",
       "<line clip-path=\"url(#clip952)\" x1=\"808.579\" y1=\"932.316\" x2=\"808.579\" y2=\"948.316\" style=\"stroke:#009af9; stroke-width:4; stroke-opacity:1\"/>\n",
       "<line clip-path=\"url(#clip952)\" x1=\"808.579\" y1=\"932.316\" x2=\"824.579\" y2=\"932.316\" style=\"stroke:#009af9; stroke-width:4; stroke-opacity:1\"/>\n",
       "<line clip-path=\"url(#clip952)\" x1=\"907.565\" y1=\"968.47\" x2=\"907.565\" y2=\"952.47\" style=\"stroke:#009af9; stroke-width:4; stroke-opacity:1\"/>\n",
       "<line clip-path=\"url(#clip952)\" x1=\"907.565\" y1=\"968.47\" x2=\"891.565\" y2=\"968.47\" style=\"stroke:#009af9; stroke-width:4; stroke-opacity:1\"/>\n",
       "<line clip-path=\"url(#clip952)\" x1=\"907.565\" y1=\"968.47\" x2=\"907.565\" y2=\"984.47\" style=\"stroke:#009af9; stroke-width:4; stroke-opacity:1\"/>\n",
       "<line clip-path=\"url(#clip952)\" x1=\"907.565\" y1=\"968.47\" x2=\"923.565\" y2=\"968.47\" style=\"stroke:#009af9; stroke-width:4; stroke-opacity:1\"/>\n",
       "<line clip-path=\"url(#clip952)\" x1=\"1006.55\" y1=\"898.195\" x2=\"1006.55\" y2=\"882.195\" style=\"stroke:#009af9; stroke-width:4; stroke-opacity:1\"/>\n",
       "<line clip-path=\"url(#clip952)\" x1=\"1006.55\" y1=\"898.195\" x2=\"990.551\" y2=\"898.195\" style=\"stroke:#009af9; stroke-width:4; stroke-opacity:1\"/>\n",
       "<line clip-path=\"url(#clip952)\" x1=\"1006.55\" y1=\"898.195\" x2=\"1006.55\" y2=\"914.195\" style=\"stroke:#009af9; stroke-width:4; stroke-opacity:1\"/>\n",
       "<line clip-path=\"url(#clip952)\" x1=\"1006.55\" y1=\"898.195\" x2=\"1022.55\" y2=\"898.195\" style=\"stroke:#009af9; stroke-width:4; stroke-opacity:1\"/>\n",
       "<line clip-path=\"url(#clip952)\" x1=\"1105.54\" y1=\"720.506\" x2=\"1105.54\" y2=\"704.506\" style=\"stroke:#009af9; stroke-width:4; stroke-opacity:1\"/>\n",
       "<line clip-path=\"url(#clip952)\" x1=\"1105.54\" y1=\"720.506\" x2=\"1089.54\" y2=\"720.506\" style=\"stroke:#009af9; stroke-width:4; stroke-opacity:1\"/>\n",
       "<line clip-path=\"url(#clip952)\" x1=\"1105.54\" y1=\"720.506\" x2=\"1105.54\" y2=\"736.506\" style=\"stroke:#009af9; stroke-width:4; stroke-opacity:1\"/>\n",
       "<line clip-path=\"url(#clip952)\" x1=\"1105.54\" y1=\"720.506\" x2=\"1121.54\" y2=\"720.506\" style=\"stroke:#009af9; stroke-width:4; stroke-opacity:1\"/>\n",
       "<line clip-path=\"url(#clip952)\" x1=\"1204.52\" y1=\"513.375\" x2=\"1204.52\" y2=\"497.375\" style=\"stroke:#009af9; stroke-width:4; stroke-opacity:1\"/>\n",
       "<line clip-path=\"url(#clip952)\" x1=\"1204.52\" y1=\"513.375\" x2=\"1188.52\" y2=\"513.375\" style=\"stroke:#009af9; stroke-width:4; stroke-opacity:1\"/>\n",
       "<line clip-path=\"url(#clip952)\" x1=\"1204.52\" y1=\"513.375\" x2=\"1204.52\" y2=\"529.375\" style=\"stroke:#009af9; stroke-width:4; stroke-opacity:1\"/>\n",
       "<line clip-path=\"url(#clip952)\" x1=\"1204.52\" y1=\"513.375\" x2=\"1220.52\" y2=\"513.375\" style=\"stroke:#009af9; stroke-width:4; stroke-opacity:1\"/>\n",
       "<line clip-path=\"url(#clip952)\" x1=\"1303.51\" y1=\"803.008\" x2=\"1303.51\" y2=\"787.008\" style=\"stroke:#009af9; stroke-width:4; stroke-opacity:1\"/>\n",
       "<line clip-path=\"url(#clip952)\" x1=\"1303.51\" y1=\"803.008\" x2=\"1287.51\" y2=\"803.008\" style=\"stroke:#009af9; stroke-width:4; stroke-opacity:1\"/>\n",
       "<line clip-path=\"url(#clip952)\" x1=\"1303.51\" y1=\"803.008\" x2=\"1303.51\" y2=\"819.008\" style=\"stroke:#009af9; stroke-width:4; stroke-opacity:1\"/>\n",
       "<line clip-path=\"url(#clip952)\" x1=\"1303.51\" y1=\"803.008\" x2=\"1319.51\" y2=\"803.008\" style=\"stroke:#009af9; stroke-width:4; stroke-opacity:1\"/>\n",
       "<line clip-path=\"url(#clip952)\" x1=\"1402.49\" y1=\"733.957\" x2=\"1402.49\" y2=\"717.957\" style=\"stroke:#009af9; stroke-width:4; stroke-opacity:1\"/>\n",
       "<line clip-path=\"url(#clip952)\" x1=\"1402.49\" y1=\"733.957\" x2=\"1386.49\" y2=\"733.957\" style=\"stroke:#009af9; stroke-width:4; stroke-opacity:1\"/>\n",
       "<line clip-path=\"url(#clip952)\" x1=\"1402.49\" y1=\"733.957\" x2=\"1402.49\" y2=\"749.957\" style=\"stroke:#009af9; stroke-width:4; stroke-opacity:1\"/>\n",
       "<line clip-path=\"url(#clip952)\" x1=\"1402.49\" y1=\"733.957\" x2=\"1418.49\" y2=\"733.957\" style=\"stroke:#009af9; stroke-width:4; stroke-opacity:1\"/>\n",
       "<line clip-path=\"url(#clip952)\" x1=\"1501.48\" y1=\"559.363\" x2=\"1501.48\" y2=\"543.363\" style=\"stroke:#009af9; stroke-width:4; stroke-opacity:1\"/>\n",
       "<line clip-path=\"url(#clip952)\" x1=\"1501.48\" y1=\"559.363\" x2=\"1485.48\" y2=\"559.363\" style=\"stroke:#009af9; stroke-width:4; stroke-opacity:1\"/>\n",
       "<line clip-path=\"url(#clip952)\" x1=\"1501.48\" y1=\"559.363\" x2=\"1501.48\" y2=\"575.363\" style=\"stroke:#009af9; stroke-width:4; stroke-opacity:1\"/>\n",
       "<line clip-path=\"url(#clip952)\" x1=\"1501.48\" y1=\"559.363\" x2=\"1517.48\" y2=\"559.363\" style=\"stroke:#009af9; stroke-width:4; stroke-opacity:1\"/>\n",
       "<line clip-path=\"url(#clip952)\" x1=\"1600.46\" y1=\"355.859\" x2=\"1600.46\" y2=\"339.859\" style=\"stroke:#009af9; stroke-width:4; stroke-opacity:1\"/>\n",
       "<line clip-path=\"url(#clip952)\" x1=\"1600.46\" y1=\"355.859\" x2=\"1584.46\" y2=\"355.859\" style=\"stroke:#009af9; stroke-width:4; stroke-opacity:1\"/>\n",
       "<line clip-path=\"url(#clip952)\" x1=\"1600.46\" y1=\"355.859\" x2=\"1600.46\" y2=\"371.859\" style=\"stroke:#009af9; stroke-width:4; stroke-opacity:1\"/>\n",
       "<line clip-path=\"url(#clip952)\" x1=\"1600.46\" y1=\"355.859\" x2=\"1616.46\" y2=\"355.859\" style=\"stroke:#009af9; stroke-width:4; stroke-opacity:1\"/>\n",
       "<line clip-path=\"url(#clip952)\" x1=\"1699.45\" y1=\"201.131\" x2=\"1699.45\" y2=\"185.131\" style=\"stroke:#009af9; stroke-width:4; stroke-opacity:1\"/>\n",
       "<line clip-path=\"url(#clip952)\" x1=\"1699.45\" y1=\"201.131\" x2=\"1683.45\" y2=\"201.131\" style=\"stroke:#009af9; stroke-width:4; stroke-opacity:1\"/>\n",
       "<line clip-path=\"url(#clip952)\" x1=\"1699.45\" y1=\"201.131\" x2=\"1699.45\" y2=\"217.131\" style=\"stroke:#009af9; stroke-width:4; stroke-opacity:1\"/>\n",
       "<line clip-path=\"url(#clip952)\" x1=\"1699.45\" y1=\"201.131\" x2=\"1715.45\" y2=\"201.131\" style=\"stroke:#009af9; stroke-width:4; stroke-opacity:1\"/>\n",
       "<line clip-path=\"url(#clip952)\" x1=\"1798.44\" y1=\"742.237\" x2=\"1798.44\" y2=\"726.237\" style=\"stroke:#009af9; stroke-width:4; stroke-opacity:1\"/>\n",
       "<line clip-path=\"url(#clip952)\" x1=\"1798.44\" y1=\"742.237\" x2=\"1782.44\" y2=\"742.237\" style=\"stroke:#009af9; stroke-width:4; stroke-opacity:1\"/>\n",
       "<line clip-path=\"url(#clip952)\" x1=\"1798.44\" y1=\"742.237\" x2=\"1798.44\" y2=\"758.237\" style=\"stroke:#009af9; stroke-width:4; stroke-opacity:1\"/>\n",
       "<line clip-path=\"url(#clip952)\" x1=\"1798.44\" y1=\"742.237\" x2=\"1814.44\" y2=\"742.237\" style=\"stroke:#009af9; stroke-width:4; stroke-opacity:1\"/>\n",
       "<line clip-path=\"url(#clip952)\" x1=\"1897.42\" y1=\"673.646\" x2=\"1897.42\" y2=\"657.646\" style=\"stroke:#009af9; stroke-width:4; stroke-opacity:1\"/>\n",
       "<line clip-path=\"url(#clip952)\" x1=\"1897.42\" y1=\"673.646\" x2=\"1881.42\" y2=\"673.646\" style=\"stroke:#009af9; stroke-width:4; stroke-opacity:1\"/>\n",
       "<line clip-path=\"url(#clip952)\" x1=\"1897.42\" y1=\"673.646\" x2=\"1897.42\" y2=\"689.646\" style=\"stroke:#009af9; stroke-width:4; stroke-opacity:1\"/>\n",
       "<line clip-path=\"url(#clip952)\" x1=\"1897.42\" y1=\"673.646\" x2=\"1913.42\" y2=\"673.646\" style=\"stroke:#009af9; stroke-width:4; stroke-opacity:1\"/>\n",
       "<line clip-path=\"url(#clip952)\" x1=\"1996.41\" y1=\"500.212\" x2=\"1996.41\" y2=\"484.212\" style=\"stroke:#009af9; stroke-width:4; stroke-opacity:1\"/>\n",
       "<line clip-path=\"url(#clip952)\" x1=\"1996.41\" y1=\"500.212\" x2=\"1980.41\" y2=\"500.212\" style=\"stroke:#009af9; stroke-width:4; stroke-opacity:1\"/>\n",
       "<line clip-path=\"url(#clip952)\" x1=\"1996.41\" y1=\"500.212\" x2=\"1996.41\" y2=\"516.212\" style=\"stroke:#009af9; stroke-width:4; stroke-opacity:1\"/>\n",
       "<line clip-path=\"url(#clip952)\" x1=\"1996.41\" y1=\"500.212\" x2=\"2012.41\" y2=\"500.212\" style=\"stroke:#009af9; stroke-width:4; stroke-opacity:1\"/>\n",
       "<line clip-path=\"url(#clip952)\" x1=\"2095.39\" y1=\"298.058\" x2=\"2095.39\" y2=\"282.058\" style=\"stroke:#009af9; stroke-width:4; stroke-opacity:1\"/>\n",
       "<line clip-path=\"url(#clip952)\" x1=\"2095.39\" y1=\"298.058\" x2=\"2079.39\" y2=\"298.058\" style=\"stroke:#009af9; stroke-width:4; stroke-opacity:1\"/>\n",
       "<line clip-path=\"url(#clip952)\" x1=\"2095.39\" y1=\"298.058\" x2=\"2095.39\" y2=\"314.058\" style=\"stroke:#009af9; stroke-width:4; stroke-opacity:1\"/>\n",
       "<line clip-path=\"url(#clip952)\" x1=\"2095.39\" y1=\"298.058\" x2=\"2111.39\" y2=\"298.058\" style=\"stroke:#009af9; stroke-width:4; stroke-opacity:1\"/>\n",
       "<line clip-path=\"url(#clip952)\" x1=\"2194.38\" y1=\"144.363\" x2=\"2194.38\" y2=\"128.363\" style=\"stroke:#009af9; stroke-width:4; stroke-opacity:1\"/>\n",
       "<line clip-path=\"url(#clip952)\" x1=\"2194.38\" y1=\"144.363\" x2=\"2178.38\" y2=\"144.363\" style=\"stroke:#009af9; stroke-width:4; stroke-opacity:1\"/>\n",
       "<line clip-path=\"url(#clip952)\" x1=\"2194.38\" y1=\"144.363\" x2=\"2194.38\" y2=\"160.363\" style=\"stroke:#009af9; stroke-width:4; stroke-opacity:1\"/>\n",
       "<line clip-path=\"url(#clip952)\" x1=\"2194.38\" y1=\"144.363\" x2=\"2210.38\" y2=\"144.363\" style=\"stroke:#009af9; stroke-width:4; stroke-opacity:1\"/>\n",
       "<line clip-path=\"url(#clip952)\" x1=\"2293.36\" y1=\"87.9763\" x2=\"2293.36\" y2=\"71.9763\" style=\"stroke:#009af9; stroke-width:4; stroke-opacity:1\"/>\n",
       "<line clip-path=\"url(#clip952)\" x1=\"2293.36\" y1=\"87.9763\" x2=\"2277.36\" y2=\"87.9763\" style=\"stroke:#009af9; stroke-width:4; stroke-opacity:1\"/>\n",
       "<line clip-path=\"url(#clip952)\" x1=\"2293.36\" y1=\"87.9763\" x2=\"2293.36\" y2=\"103.976\" style=\"stroke:#009af9; stroke-width:4; stroke-opacity:1\"/>\n",
       "<line clip-path=\"url(#clip952)\" x1=\"2293.36\" y1=\"87.9763\" x2=\"2309.36\" y2=\"87.9763\" style=\"stroke:#009af9; stroke-width:4; stroke-opacity:1\"/>\n",
       "<path clip-path=\"url(#clip950)\" d=\"M324.21 198.898 L586.49 198.898 L586.49 95.2176 L324.21 95.2176  Z\" fill=\"#ffffff\" fill-rule=\"evenodd\" fill-opacity=\"1\"/>\n",
       "<polyline clip-path=\"url(#clip950)\" style=\"stroke:#000000; stroke-linecap:round; stroke-linejoin:round; stroke-width:4; stroke-opacity:1; fill:none\" points=\"324.21,198.898 586.49,198.898 586.49,95.2176 324.21,95.2176 324.21,198.898 \"/>\n",
       "<polyline clip-path=\"url(#clip950)\" style=\"stroke:#009af9; stroke-linecap:round; stroke-linejoin:round; stroke-width:4; stroke-opacity:1; fill:none\" points=\"347.526,147.058 487.426,147.058 \"/>\n",
       "<line clip-path=\"url(#clip950)\" x1=\"417.476\" y1=\"147.058\" x2=\"417.476\" y2=\"125.468\" style=\"stroke:#009af9; stroke-width:4.55111; stroke-opacity:1\"/>\n",
       "<line clip-path=\"url(#clip950)\" x1=\"417.476\" y1=\"147.058\" x2=\"395.887\" y2=\"147.058\" style=\"stroke:#009af9; stroke-width:4.55111; stroke-opacity:1\"/>\n",
       "<line clip-path=\"url(#clip950)\" x1=\"417.476\" y1=\"147.058\" x2=\"417.476\" y2=\"168.647\" style=\"stroke:#009af9; stroke-width:4.55111; stroke-opacity:1\"/>\n",
       "<line clip-path=\"url(#clip950)\" x1=\"417.476\" y1=\"147.058\" x2=\"439.066\" y2=\"147.058\" style=\"stroke:#009af9; stroke-width:4.55111; stroke-opacity:1\"/>\n",
       "<path clip-path=\"url(#clip950)\" d=\"M524.585 166.745 Q522.78 171.375 521.067 172.787 Q519.354 174.199 516.483 174.199 L513.081 174.199 L513.081 170.634 L515.581 170.634 Q517.34 170.634 518.312 169.8 Q519.284 168.967 520.465 165.865 L521.229 163.921 L510.743 138.412 L515.256 138.412 L523.358 158.689 L531.46 138.412 L535.974 138.412 L524.585 166.745 Z\" fill=\"#000000\" fill-rule=\"nonzero\" fill-opacity=\"1\" /><path clip-path=\"url(#clip950)\" d=\"M543.266 160.402 L550.904 160.402 L550.904 134.037 L542.594 135.703 L542.594 131.444 L550.858 129.778 L555.534 129.778 L555.534 160.402 L563.173 160.402 L563.173 164.338 L543.266 164.338 L543.266 160.402 Z\" fill=\"#000000\" fill-rule=\"nonzero\" fill-opacity=\"1\" /></svg>\n"
      ],
      "text/html": [
       "<?xml version=\"1.0\" encoding=\"utf-8\"?>\n",
       "<svg xmlns=\"http://www.w3.org/2000/svg\" xmlns:xlink=\"http://www.w3.org/1999/xlink\" width=\"600\" height=\"400\" viewBox=\"0 0 2400 1600\">\n",
       "<defs>\n",
       "  <clipPath id=\"clip000\">\n",
       "    <rect x=\"0\" y=\"0\" width=\"2400\" height=\"1600\"/>\n",
       "  </clipPath>\n",
       "</defs>\n",
       "<path clip-path=\"url(#clip000)\" d=\"M0 1600 L2400 1600 L2400 0 L0 0  Z\" fill=\"#ffffff\" fill-rule=\"evenodd\" fill-opacity=\"1\"/>\n",
       "<defs>\n",
       "  <clipPath id=\"clip001\">\n",
       "    <rect x=\"480\" y=\"0\" width=\"1681\" height=\"1600\"/>\n",
       "  </clipPath>\n",
       "</defs>\n",
       "<path clip-path=\"url(#clip000)\" d=\"M254.26 1486.45 L2352.76 1486.45 L2352.76 47.2441 L254.26 47.2441  Z\" fill=\"#ffffff\" fill-rule=\"evenodd\" fill-opacity=\"1\"/>\n",
       "<defs>\n",
       "  <clipPath id=\"clip002\">\n",
       "    <rect x=\"254\" y=\"47\" width=\"2099\" height=\"1440\"/>\n",
       "  </clipPath>\n",
       "</defs>\n",
       "<polyline clip-path=\"url(#clip002)\" style=\"stroke:#000000; stroke-linecap:round; stroke-linejoin:round; stroke-width:2; stroke-opacity:0.1; fill:none\" points=\"709.594,1486.45 709.594,47.2441 \"/>\n",
       "<polyline clip-path=\"url(#clip002)\" style=\"stroke:#000000; stroke-linecap:round; stroke-linejoin:round; stroke-width:2; stroke-opacity:0.1; fill:none\" points=\"1204.52,1486.45 1204.52,47.2441 \"/>\n",
       "<polyline clip-path=\"url(#clip002)\" style=\"stroke:#000000; stroke-linecap:round; stroke-linejoin:round; stroke-width:2; stroke-opacity:0.1; fill:none\" points=\"1699.45,1486.45 1699.45,47.2441 \"/>\n",
       "<polyline clip-path=\"url(#clip002)\" style=\"stroke:#000000; stroke-linecap:round; stroke-linejoin:round; stroke-width:2; stroke-opacity:0.1; fill:none\" points=\"2194.38,1486.45 2194.38,47.2441 \"/>\n",
       "<polyline clip-path=\"url(#clip002)\" style=\"stroke:#000000; stroke-linecap:round; stroke-linejoin:round; stroke-width:2; stroke-opacity:0.1; fill:none\" points=\"254.26,1287.47 2352.76,1287.47 \"/>\n",
       "<polyline clip-path=\"url(#clip002)\" style=\"stroke:#000000; stroke-linecap:round; stroke-linejoin:round; stroke-width:2; stroke-opacity:0.1; fill:none\" points=\"254.26,1026.03 2352.76,1026.03 \"/>\n",
       "<polyline clip-path=\"url(#clip002)\" style=\"stroke:#000000; stroke-linecap:round; stroke-linejoin:round; stroke-width:2; stroke-opacity:0.1; fill:none\" points=\"254.26,764.586 2352.76,764.586 \"/>\n",
       "<polyline clip-path=\"url(#clip002)\" style=\"stroke:#000000; stroke-linecap:round; stroke-linejoin:round; stroke-width:2; stroke-opacity:0.1; fill:none\" points=\"254.26,503.144 2352.76,503.144 \"/>\n",
       "<polyline clip-path=\"url(#clip002)\" style=\"stroke:#000000; stroke-linecap:round; stroke-linejoin:round; stroke-width:2; stroke-opacity:0.1; fill:none\" points=\"254.26,241.702 2352.76,241.702 \"/>\n",
       "<polyline clip-path=\"url(#clip000)\" style=\"stroke:#000000; stroke-linecap:round; stroke-linejoin:round; stroke-width:4; stroke-opacity:1; fill:none\" points=\"254.26,1486.45 2352.76,1486.45 \"/>\n",
       "<polyline clip-path=\"url(#clip000)\" style=\"stroke:#000000; stroke-linecap:round; stroke-linejoin:round; stroke-width:4; stroke-opacity:1; fill:none\" points=\"709.594,1486.45 709.594,1467.55 \"/>\n",
       "<polyline clip-path=\"url(#clip000)\" style=\"stroke:#000000; stroke-linecap:round; stroke-linejoin:round; stroke-width:4; stroke-opacity:1; fill:none\" points=\"1204.52,1486.45 1204.52,1467.55 \"/>\n",
       "<polyline clip-path=\"url(#clip000)\" style=\"stroke:#000000; stroke-linecap:round; stroke-linejoin:round; stroke-width:4; stroke-opacity:1; fill:none\" points=\"1699.45,1486.45 1699.45,1467.55 \"/>\n",
       "<polyline clip-path=\"url(#clip000)\" style=\"stroke:#000000; stroke-linecap:round; stroke-linejoin:round; stroke-width:4; stroke-opacity:1; fill:none\" points=\"2194.38,1486.45 2194.38,1467.55 \"/>\n",
       "<path clip-path=\"url(#clip000)\" d=\"M699.872 1514.29 L718.228 1514.29 L718.228 1518.22 L704.154 1518.22 L704.154 1526.7 Q705.173 1526.35 706.191 1526.19 Q707.21 1526 708.228 1526 Q714.015 1526 717.395 1529.17 Q720.774 1532.34 720.774 1537.76 Q720.774 1543.34 717.302 1546.44 Q713.83 1549.52 707.51 1549.52 Q705.335 1549.52 703.066 1549.15 Q700.821 1548.78 698.413 1548.04 L698.413 1543.34 Q700.497 1544.47 702.719 1545.03 Q704.941 1545.58 707.418 1545.58 Q711.423 1545.58 713.76 1543.48 Q716.098 1541.37 716.098 1537.76 Q716.098 1534.15 713.76 1532.04 Q711.423 1529.94 707.418 1529.94 Q705.543 1529.94 703.668 1530.35 Q701.816 1530.77 699.872 1531.65 L699.872 1514.29 Z\" fill=\"#000000\" fill-rule=\"nonzero\" fill-opacity=\"1\" /><path clip-path=\"url(#clip000)\" d=\"M1179.21 1544.91 L1186.85 1544.91 L1186.85 1518.55 L1178.54 1520.21 L1178.54 1515.95 L1186.8 1514.29 L1191.48 1514.29 L1191.48 1544.91 L1199.12 1544.91 L1199.12 1548.85 L1179.21 1548.85 L1179.21 1544.91 Z\" fill=\"#000000\" fill-rule=\"nonzero\" fill-opacity=\"1\" /><path clip-path=\"url(#clip000)\" d=\"M1218.56 1517.37 Q1214.95 1517.37 1213.12 1520.93 Q1211.32 1524.47 1211.32 1531.6 Q1211.32 1538.71 1213.12 1542.27 Q1214.95 1545.82 1218.56 1545.82 Q1222.2 1545.82 1224 1542.27 Q1225.83 1538.71 1225.83 1531.6 Q1225.83 1524.47 1224 1520.93 Q1222.2 1517.37 1218.56 1517.37 M1218.56 1513.66 Q1224.37 1513.66 1227.43 1518.27 Q1230.51 1522.85 1230.51 1531.6 Q1230.51 1540.33 1227.43 1544.94 Q1224.37 1549.52 1218.56 1549.52 Q1212.75 1549.52 1209.67 1544.94 Q1206.62 1540.33 1206.62 1531.6 Q1206.62 1522.85 1209.67 1518.27 Q1212.75 1513.66 1218.56 1513.66 Z\" fill=\"#000000\" fill-rule=\"nonzero\" fill-opacity=\"1\" /><path clip-path=\"url(#clip000)\" d=\"M1674.64 1544.91 L1682.27 1544.91 L1682.27 1518.55 L1673.96 1520.21 L1673.96 1515.95 L1682.23 1514.29 L1686.9 1514.29 L1686.9 1544.91 L1694.54 1544.91 L1694.54 1548.85 L1674.64 1548.85 L1674.64 1544.91 Z\" fill=\"#000000\" fill-rule=\"nonzero\" fill-opacity=\"1\" /><path clip-path=\"url(#clip000)\" d=\"M1704.03 1514.29 L1722.39 1514.29 L1722.39 1518.22 L1708.32 1518.22 L1708.32 1526.7 Q1709.33 1526.35 1710.35 1526.19 Q1711.37 1526 1712.39 1526 Q1718.18 1526 1721.56 1529.17 Q1724.94 1532.34 1724.94 1537.76 Q1724.94 1543.34 1721.46 1546.44 Q1717.99 1549.52 1711.67 1549.52 Q1709.5 1549.52 1707.23 1549.15 Q1704.98 1548.78 1702.58 1548.04 L1702.58 1543.34 Q1704.66 1544.47 1706.88 1545.03 Q1709.1 1545.58 1711.58 1545.58 Q1715.58 1545.58 1717.92 1543.48 Q1720.26 1541.37 1720.26 1537.76 Q1720.26 1534.15 1717.92 1532.04 Q1715.58 1529.94 1711.58 1529.94 Q1709.71 1529.94 1707.83 1530.35 Q1705.98 1530.77 1704.03 1531.65 L1704.03 1514.29 Z\" fill=\"#000000\" fill-rule=\"nonzero\" fill-opacity=\"1\" /><path clip-path=\"url(#clip000)\" d=\"M2173.15 1544.91 L2189.47 1544.91 L2189.47 1548.85 L2167.53 1548.85 L2167.53 1544.91 Q2170.19 1542.16 2174.77 1537.53 Q2179.38 1532.88 2180.56 1531.53 Q2182.8 1529.01 2183.68 1527.27 Q2184.59 1525.51 2184.59 1523.82 Q2184.59 1521.07 2182.64 1519.33 Q2180.72 1517.6 2177.62 1517.6 Q2175.42 1517.6 2172.97 1518.36 Q2170.54 1519.13 2167.76 1520.68 L2167.76 1515.95 Q2170.58 1514.82 2173.04 1514.24 Q2175.49 1513.66 2177.53 1513.66 Q2182.9 1513.66 2186.09 1516.35 Q2189.29 1519.03 2189.29 1523.52 Q2189.29 1525.65 2188.48 1527.57 Q2187.69 1529.47 2185.58 1532.07 Q2185 1532.74 2181.9 1535.95 Q2178.8 1539.15 2173.15 1544.91 Z\" fill=\"#000000\" fill-rule=\"nonzero\" fill-opacity=\"1\" /><path clip-path=\"url(#clip000)\" d=\"M2209.29 1517.37 Q2205.68 1517.37 2203.85 1520.93 Q2202.04 1524.47 2202.04 1531.6 Q2202.04 1538.71 2203.85 1542.27 Q2205.68 1545.82 2209.29 1545.82 Q2212.92 1545.82 2214.73 1542.27 Q2216.55 1538.71 2216.55 1531.6 Q2216.55 1524.47 2214.73 1520.93 Q2212.92 1517.37 2209.29 1517.37 M2209.29 1513.66 Q2215.1 1513.66 2218.15 1518.27 Q2221.23 1522.85 2221.23 1531.6 Q2221.23 1540.33 2218.15 1544.94 Q2215.1 1549.52 2209.29 1549.52 Q2203.48 1549.52 2200.4 1544.94 Q2197.34 1540.33 2197.34 1531.6 Q2197.34 1522.85 2200.4 1518.27 Q2203.48 1513.66 2209.29 1513.66 Z\" fill=\"#000000\" fill-rule=\"nonzero\" fill-opacity=\"1\" /><polyline clip-path=\"url(#clip000)\" style=\"stroke:#000000; stroke-linecap:round; stroke-linejoin:round; stroke-width:4; stroke-opacity:1; fill:none\" points=\"254.26,1486.45 254.26,47.2441 \"/>\n",
       "<polyline clip-path=\"url(#clip000)\" style=\"stroke:#000000; stroke-linecap:round; stroke-linejoin:round; stroke-width:4; stroke-opacity:1; fill:none\" points=\"254.26,1287.47 273.157,1287.47 \"/>\n",
       "<polyline clip-path=\"url(#clip000)\" style=\"stroke:#000000; stroke-linecap:round; stroke-linejoin:round; stroke-width:4; stroke-opacity:1; fill:none\" points=\"254.26,1026.03 273.157,1026.03 \"/>\n",
       "<polyline clip-path=\"url(#clip000)\" style=\"stroke:#000000; stroke-linecap:round; stroke-linejoin:round; stroke-width:4; stroke-opacity:1; fill:none\" points=\"254.26,764.586 273.157,764.586 \"/>\n",
       "<polyline clip-path=\"url(#clip000)\" style=\"stroke:#000000; stroke-linecap:round; stroke-linejoin:round; stroke-width:4; stroke-opacity:1; fill:none\" points=\"254.26,503.144 273.157,503.144 \"/>\n",
       "<polyline clip-path=\"url(#clip000)\" style=\"stroke:#000000; stroke-linecap:round; stroke-linejoin:round; stroke-width:4; stroke-opacity:1; fill:none\" points=\"254.26,241.702 273.157,241.702 \"/>\n",
       "<path clip-path=\"url(#clip000)\" d=\"M51.9875 1287.92 L81.6633 1287.92 L81.6633 1291.86 L51.9875 1291.86 L51.9875 1287.92 Z\" fill=\"#000000\" fill-rule=\"nonzero\" fill-opacity=\"1\" /><path clip-path=\"url(#clip000)\" d=\"M101.756 1273.27 Q98.1447 1273.27 96.316 1276.83 Q94.5104 1280.38 94.5104 1287.5 Q94.5104 1294.61 96.316 1298.18 Q98.1447 1301.72 101.756 1301.72 Q105.39 1301.72 107.196 1298.18 Q109.024 1294.61 109.024 1287.5 Q109.024 1280.38 107.196 1276.83 Q105.39 1273.27 101.756 1273.27 M101.756 1269.57 Q107.566 1269.57 110.621 1274.17 Q113.7 1278.75 113.7 1287.5 Q113.7 1296.23 110.621 1300.84 Q107.566 1305.42 101.756 1305.42 Q95.9456 1305.42 92.8669 1300.84 Q89.8114 1296.23 89.8114 1287.5 Q89.8114 1278.75 92.8669 1274.17 Q95.9456 1269.57 101.756 1269.57 Z\" fill=\"#000000\" fill-rule=\"nonzero\" fill-opacity=\"1\" /><path clip-path=\"url(#clip000)\" d=\"M121.918 1298.87 L126.802 1298.87 L126.802 1304.75 L121.918 1304.75 L121.918 1298.87 Z\" fill=\"#000000\" fill-rule=\"nonzero\" fill-opacity=\"1\" /><path clip-path=\"url(#clip000)\" d=\"M137.797 1300.81 L145.436 1300.81 L145.436 1274.45 L137.126 1276.12 L137.126 1271.86 L145.39 1270.19 L150.066 1270.19 L150.066 1300.81 L157.705 1300.81 L157.705 1304.75 L137.797 1304.75 L137.797 1300.81 Z\" fill=\"#000000\" fill-rule=\"nonzero\" fill-opacity=\"1\" /><path clip-path=\"url(#clip000)\" d=\"M171.177 1300.81 L187.496 1300.81 L187.496 1304.75 L165.552 1304.75 L165.552 1300.81 Q168.214 1298.06 172.797 1293.43 Q177.403 1288.78 178.584 1287.44 Q180.829 1284.91 181.709 1283.18 Q182.612 1281.42 182.612 1279.73 Q182.612 1276.97 180.667 1275.24 Q178.746 1273.5 175.644 1273.5 Q173.445 1273.5 170.991 1274.26 Q168.561 1275.03 165.783 1276.58 L165.783 1271.86 Q168.607 1270.72 171.061 1270.14 Q173.515 1269.57 175.552 1269.57 Q180.922 1269.57 184.116 1272.25 Q187.311 1274.94 187.311 1279.43 Q187.311 1281.56 186.501 1283.48 Q185.714 1285.38 183.607 1287.97 Q183.028 1288.64 179.927 1291.86 Q176.825 1295.05 171.177 1300.81 Z\" fill=\"#000000\" fill-rule=\"nonzero\" fill-opacity=\"1\" /><path clip-path=\"url(#clip000)\" d=\"M197.357 1270.19 L215.713 1270.19 L215.713 1274.13 L201.639 1274.13 L201.639 1282.6 Q202.658 1282.25 203.676 1282.09 Q204.695 1281.9 205.714 1281.9 Q211.501 1281.9 214.88 1285.07 Q218.26 1288.25 218.26 1293.66 Q218.26 1299.24 214.788 1302.34 Q211.315 1305.42 204.996 1305.42 Q202.82 1305.42 200.552 1305.05 Q198.306 1304.68 195.899 1303.94 L195.899 1299.24 Q197.982 1300.38 200.204 1300.93 Q202.426 1301.49 204.903 1301.49 Q208.908 1301.49 211.246 1299.38 Q213.584 1297.27 213.584 1293.66 Q213.584 1290.05 211.246 1287.94 Q208.908 1285.84 204.903 1285.84 Q203.028 1285.84 201.153 1286.25 Q199.302 1286.67 197.357 1287.55 L197.357 1270.19 Z\" fill=\"#000000\" fill-rule=\"nonzero\" fill-opacity=\"1\" /><path clip-path=\"url(#clip000)\" d=\"M50.9921 1026.48 L80.6679 1026.48 L80.6679 1030.41 L50.9921 1030.41 L50.9921 1026.48 Z\" fill=\"#000000\" fill-rule=\"nonzero\" fill-opacity=\"1\" /><path clip-path=\"url(#clip000)\" d=\"M100.76 1011.83 Q97.1493 1011.83 95.3206 1015.39 Q93.515 1018.93 93.515 1026.06 Q93.515 1033.17 95.3206 1036.73 Q97.1493 1040.28 100.76 1040.28 Q104.395 1040.28 106.2 1036.73 Q108.029 1033.17 108.029 1026.06 Q108.029 1018.93 106.2 1015.39 Q104.395 1011.83 100.76 1011.83 M100.76 1008.12 Q106.571 1008.12 109.626 1012.73 Q112.705 1017.31 112.705 1026.06 Q112.705 1034.79 109.626 1039.4 Q106.571 1043.98 100.76 1043.98 Q94.9502 1043.98 91.8715 1039.4 Q88.816 1034.79 88.816 1026.06 Q88.816 1017.31 91.8715 1012.73 Q94.9502 1008.12 100.76 1008.12 Z\" fill=\"#000000\" fill-rule=\"nonzero\" fill-opacity=\"1\" /><path clip-path=\"url(#clip000)\" d=\"M120.922 1037.43 L125.807 1037.43 L125.807 1043.31 L120.922 1043.31 L120.922 1037.43 Z\" fill=\"#000000\" fill-rule=\"nonzero\" fill-opacity=\"1\" /><path clip-path=\"url(#clip000)\" d=\"M136.802 1039.37 L144.441 1039.37 L144.441 1013.01 L136.131 1014.67 L136.131 1010.41 L144.394 1008.75 L149.07 1008.75 L149.07 1039.37 L156.709 1039.37 L156.709 1043.31 L136.802 1043.31 L136.802 1039.37 Z\" fill=\"#000000\" fill-rule=\"nonzero\" fill-opacity=\"1\" /><path clip-path=\"url(#clip000)\" d=\"M176.153 1011.83 Q172.542 1011.83 170.714 1015.39 Q168.908 1018.93 168.908 1026.06 Q168.908 1033.17 170.714 1036.73 Q172.542 1040.28 176.153 1040.28 Q179.788 1040.28 181.593 1036.73 Q183.422 1033.17 183.422 1026.06 Q183.422 1018.93 181.593 1015.39 Q179.788 1011.83 176.153 1011.83 M176.153 1008.12 Q181.964 1008.12 185.019 1012.73 Q188.098 1017.31 188.098 1026.06 Q188.098 1034.79 185.019 1039.4 Q181.964 1043.98 176.153 1043.98 Q170.343 1043.98 167.265 1039.4 Q164.209 1034.79 164.209 1026.06 Q164.209 1017.31 167.265 1012.73 Q170.343 1008.12 176.153 1008.12 Z\" fill=\"#000000\" fill-rule=\"nonzero\" fill-opacity=\"1\" /><path clip-path=\"url(#clip000)\" d=\"M206.315 1011.83 Q202.704 1011.83 200.876 1015.39 Q199.07 1018.93 199.07 1026.06 Q199.07 1033.17 200.876 1036.73 Q202.704 1040.28 206.315 1040.28 Q209.95 1040.28 211.755 1036.73 Q213.584 1033.17 213.584 1026.06 Q213.584 1018.93 211.755 1015.39 Q209.95 1011.83 206.315 1011.83 M206.315 1008.12 Q212.126 1008.12 215.181 1012.73 Q218.26 1017.31 218.26 1026.06 Q218.26 1034.79 215.181 1039.4 Q212.126 1043.98 206.315 1043.98 Q200.505 1043.98 197.427 1039.4 Q194.371 1034.79 194.371 1026.06 Q194.371 1017.31 197.427 1012.73 Q200.505 1008.12 206.315 1008.12 Z\" fill=\"#000000\" fill-rule=\"nonzero\" fill-opacity=\"1\" /><path clip-path=\"url(#clip000)\" d=\"M51.9875 765.038 L81.6633 765.038 L81.6633 768.973 L51.9875 768.973 L51.9875 765.038 Z\" fill=\"#000000\" fill-rule=\"nonzero\" fill-opacity=\"1\" /><path clip-path=\"url(#clip000)\" d=\"M101.756 750.385 Q98.1447 750.385 96.316 753.95 Q94.5104 757.491 94.5104 764.621 Q94.5104 771.727 96.316 775.292 Q98.1447 778.834 101.756 778.834 Q105.39 778.834 107.196 775.292 Q109.024 771.727 109.024 764.621 Q109.024 757.491 107.196 753.95 Q105.39 750.385 101.756 750.385 M101.756 746.681 Q107.566 746.681 110.621 751.288 Q113.7 755.871 113.7 764.621 Q113.7 773.348 110.621 777.954 Q107.566 782.538 101.756 782.538 Q95.9456 782.538 92.8669 777.954 Q89.8114 773.348 89.8114 764.621 Q89.8114 755.871 92.8669 751.288 Q95.9456 746.681 101.756 746.681 Z\" fill=\"#000000\" fill-rule=\"nonzero\" fill-opacity=\"1\" /><path clip-path=\"url(#clip000)\" d=\"M121.918 775.987 L126.802 775.987 L126.802 781.866 L121.918 781.866 L121.918 775.987 Z\" fill=\"#000000\" fill-rule=\"nonzero\" fill-opacity=\"1\" /><path clip-path=\"url(#clip000)\" d=\"M146.987 750.385 Q143.376 750.385 141.547 753.95 Q139.742 757.491 139.742 764.621 Q139.742 771.727 141.547 775.292 Q143.376 778.834 146.987 778.834 Q150.621 778.834 152.427 775.292 Q154.255 771.727 154.255 764.621 Q154.255 757.491 152.427 753.95 Q150.621 750.385 146.987 750.385 M146.987 746.681 Q152.797 746.681 155.853 751.288 Q158.931 755.871 158.931 764.621 Q158.931 773.348 155.853 777.954 Q152.797 782.538 146.987 782.538 Q141.177 782.538 138.098 777.954 Q135.043 773.348 135.043 764.621 Q135.043 755.871 138.098 751.288 Q141.177 746.681 146.987 746.681 Z\" fill=\"#000000\" fill-rule=\"nonzero\" fill-opacity=\"1\" /><path clip-path=\"url(#clip000)\" d=\"M165.968 747.306 L188.19 747.306 L188.19 749.297 L175.644 781.866 L170.76 781.866 L182.565 751.241 L165.968 751.241 L165.968 747.306 Z\" fill=\"#000000\" fill-rule=\"nonzero\" fill-opacity=\"1\" /><path clip-path=\"url(#clip000)\" d=\"M197.357 747.306 L215.713 747.306 L215.713 751.241 L201.639 751.241 L201.639 759.714 Q202.658 759.366 203.676 759.204 Q204.695 759.019 205.714 759.019 Q211.501 759.019 214.88 762.19 Q218.26 765.362 218.26 770.778 Q218.26 776.357 214.788 779.459 Q211.315 782.538 204.996 782.538 Q202.82 782.538 200.552 782.167 Q198.306 781.797 195.899 781.056 L195.899 776.357 Q197.982 777.491 200.204 778.047 Q202.426 778.602 204.903 778.602 Q208.908 778.602 211.246 776.496 Q213.584 774.389 213.584 770.778 Q213.584 767.167 211.246 765.061 Q208.908 762.954 204.903 762.954 Q203.028 762.954 201.153 763.371 Q199.302 763.788 197.357 764.667 L197.357 747.306 Z\" fill=\"#000000\" fill-rule=\"nonzero\" fill-opacity=\"1\" /><path clip-path=\"url(#clip000)\" d=\"M50.9921 503.596 L80.6679 503.596 L80.6679 507.531 L50.9921 507.531 L50.9921 503.596 Z\" fill=\"#000000\" fill-rule=\"nonzero\" fill-opacity=\"1\" /><path clip-path=\"url(#clip000)\" d=\"M100.76 488.943 Q97.1493 488.943 95.3206 492.508 Q93.515 496.049 93.515 503.179 Q93.515 510.285 95.3206 513.85 Q97.1493 517.392 100.76 517.392 Q104.395 517.392 106.2 513.85 Q108.029 510.285 108.029 503.179 Q108.029 496.049 106.2 492.508 Q104.395 488.943 100.76 488.943 M100.76 485.239 Q106.571 485.239 109.626 489.846 Q112.705 494.429 112.705 503.179 Q112.705 511.906 109.626 516.512 Q106.571 521.096 100.76 521.096 Q94.9502 521.096 91.8715 516.512 Q88.816 511.906 88.816 503.179 Q88.816 494.429 91.8715 489.846 Q94.9502 485.239 100.76 485.239 Z\" fill=\"#000000\" fill-rule=\"nonzero\" fill-opacity=\"1\" /><path clip-path=\"url(#clip000)\" d=\"M120.922 514.545 L125.807 514.545 L125.807 520.424 L120.922 520.424 L120.922 514.545 Z\" fill=\"#000000\" fill-rule=\"nonzero\" fill-opacity=\"1\" /><path clip-path=\"url(#clip000)\" d=\"M145.992 488.943 Q142.381 488.943 140.552 492.508 Q138.746 496.049 138.746 503.179 Q138.746 510.285 140.552 513.85 Q142.381 517.392 145.992 517.392 Q149.626 517.392 151.431 513.85 Q153.26 510.285 153.26 503.179 Q153.26 496.049 151.431 492.508 Q149.626 488.943 145.992 488.943 M145.992 485.239 Q151.802 485.239 154.857 489.846 Q157.936 494.429 157.936 503.179 Q157.936 511.906 154.857 516.512 Q151.802 521.096 145.992 521.096 Q140.181 521.096 137.103 516.512 Q134.047 511.906 134.047 503.179 Q134.047 494.429 137.103 489.846 Q140.181 485.239 145.992 485.239 Z\" fill=\"#000000\" fill-rule=\"nonzero\" fill-opacity=\"1\" /><path clip-path=\"url(#clip000)\" d=\"M166.2 485.864 L184.556 485.864 L184.556 489.799 L170.482 489.799 L170.482 498.272 Q171.501 497.924 172.519 497.762 Q173.538 497.577 174.556 497.577 Q180.343 497.577 183.723 500.748 Q187.103 503.92 187.103 509.336 Q187.103 514.915 183.63 518.017 Q180.158 521.096 173.839 521.096 Q171.663 521.096 169.394 520.725 Q167.149 520.355 164.742 519.614 L164.742 514.915 Q166.825 516.049 169.047 516.605 Q171.269 517.16 173.746 517.16 Q177.751 517.16 180.089 515.054 Q182.427 512.947 182.427 509.336 Q182.427 505.725 180.089 503.619 Q177.751 501.512 173.746 501.512 Q171.871 501.512 169.996 501.929 Q168.144 502.346 166.2 503.225 L166.2 485.864 Z\" fill=\"#000000\" fill-rule=\"nonzero\" fill-opacity=\"1\" /><path clip-path=\"url(#clip000)\" d=\"M206.315 488.943 Q202.704 488.943 200.876 492.508 Q199.07 496.049 199.07 503.179 Q199.07 510.285 200.876 513.85 Q202.704 517.392 206.315 517.392 Q209.95 517.392 211.755 513.85 Q213.584 510.285 213.584 503.179 Q213.584 496.049 211.755 492.508 Q209.95 488.943 206.315 488.943 M206.315 485.239 Q212.126 485.239 215.181 489.846 Q218.26 494.429 218.26 503.179 Q218.26 511.906 215.181 516.512 Q212.126 521.096 206.315 521.096 Q200.505 521.096 197.427 516.512 Q194.371 511.906 194.371 503.179 Q194.371 494.429 197.427 489.846 Q200.505 485.239 206.315 485.239 Z\" fill=\"#000000\" fill-rule=\"nonzero\" fill-opacity=\"1\" /><path clip-path=\"url(#clip000)\" d=\"M51.9875 242.154 L81.6633 242.154 L81.6633 246.089 L51.9875 246.089 L51.9875 242.154 Z\" fill=\"#000000\" fill-rule=\"nonzero\" fill-opacity=\"1\" /><path clip-path=\"url(#clip000)\" d=\"M101.756 227.501 Q98.1447 227.501 96.316 231.066 Q94.5104 234.607 94.5104 241.737 Q94.5104 248.844 96.316 252.408 Q98.1447 255.95 101.756 255.95 Q105.39 255.95 107.196 252.408 Q109.024 248.844 109.024 241.737 Q109.024 234.607 107.196 231.066 Q105.39 227.501 101.756 227.501 M101.756 223.797 Q107.566 223.797 110.621 228.404 Q113.7 232.987 113.7 241.737 Q113.7 250.464 110.621 255.07 Q107.566 259.654 101.756 259.654 Q95.9456 259.654 92.8669 255.07 Q89.8114 250.464 89.8114 241.737 Q89.8114 232.987 92.8669 228.404 Q95.9456 223.797 101.756 223.797 Z\" fill=\"#000000\" fill-rule=\"nonzero\" fill-opacity=\"1\" /><path clip-path=\"url(#clip000)\" d=\"M121.918 253.103 L126.802 253.103 L126.802 258.982 L121.918 258.982 L121.918 253.103 Z\" fill=\"#000000\" fill-rule=\"nonzero\" fill-opacity=\"1\" /><path clip-path=\"url(#clip000)\" d=\"M146.987 227.501 Q143.376 227.501 141.547 231.066 Q139.742 234.607 139.742 241.737 Q139.742 248.844 141.547 252.408 Q143.376 255.95 146.987 255.95 Q150.621 255.95 152.427 252.408 Q154.255 248.844 154.255 241.737 Q154.255 234.607 152.427 231.066 Q150.621 227.501 146.987 227.501 M146.987 223.797 Q152.797 223.797 155.853 228.404 Q158.931 232.987 158.931 241.737 Q158.931 250.464 155.853 255.07 Q152.797 259.654 146.987 259.654 Q141.177 259.654 138.098 255.07 Q135.043 250.464 135.043 241.737 Q135.043 232.987 138.098 228.404 Q141.177 223.797 146.987 223.797 Z\" fill=\"#000000\" fill-rule=\"nonzero\" fill-opacity=\"1\" /><path clip-path=\"url(#clip000)\" d=\"M171.177 255.047 L187.496 255.047 L187.496 258.982 L165.552 258.982 L165.552 255.047 Q168.214 252.293 172.797 247.663 Q177.403 243.01 178.584 241.668 Q180.829 239.144 181.709 237.408 Q182.612 235.649 182.612 233.959 Q182.612 231.205 180.667 229.469 Q178.746 227.733 175.644 227.733 Q173.445 227.733 170.991 228.496 Q168.561 229.26 165.783 230.811 L165.783 226.089 Q168.607 224.955 171.061 224.376 Q173.515 223.797 175.552 223.797 Q180.922 223.797 184.116 226.483 Q187.311 229.168 187.311 233.658 Q187.311 235.788 186.501 237.709 Q185.714 239.607 183.607 242.2 Q183.028 242.871 179.927 246.089 Q176.825 249.283 171.177 255.047 Z\" fill=\"#000000\" fill-rule=\"nonzero\" fill-opacity=\"1\" /><path clip-path=\"url(#clip000)\" d=\"M197.357 224.422 L215.713 224.422 L215.713 228.358 L201.639 228.358 L201.639 236.83 Q202.658 236.482 203.676 236.32 Q204.695 236.135 205.714 236.135 Q211.501 236.135 214.88 239.307 Q218.26 242.478 218.26 247.894 Q218.26 253.473 214.788 256.575 Q211.315 259.654 204.996 259.654 Q202.82 259.654 200.552 259.283 Q198.306 258.913 195.899 258.172 L195.899 253.473 Q197.982 254.607 200.204 255.163 Q202.426 255.718 204.903 255.718 Q208.908 255.718 211.246 253.612 Q213.584 251.506 213.584 247.894 Q213.584 244.283 211.246 242.177 Q208.908 240.07 204.903 240.07 Q203.028 240.07 201.153 240.487 Q199.302 240.904 197.357 241.783 L197.357 224.422 Z\" fill=\"#000000\" fill-rule=\"nonzero\" fill-opacity=\"1\" /><polyline clip-path=\"url(#clip002)\" style=\"stroke:#009af9; stroke-linecap:round; stroke-linejoin:round; stroke-width:4; stroke-opacity:1; fill:none\" points=\"313.651,1445.72 412.637,1372.08 511.622,1298.94 610.608,1185.8 709.594,1113.97 808.579,932.316 907.565,968.47 1006.55,898.195 1105.54,720.506 1204.52,513.375 1303.51,803.008 1402.49,733.957 1501.48,559.363 1600.46,355.859 1699.45,201.131 1798.44,742.237 1897.42,673.646 1996.41,500.212 2095.39,298.058 2194.38,144.363 2293.36,87.9763 \"/>\n",
       "<line clip-path=\"url(#clip002)\" x1=\"313.651\" y1=\"1445.72\" x2=\"313.651\" y2=\"1429.72\" style=\"stroke:#009af9; stroke-width:4; stroke-opacity:1\"/>\n",
       "<line clip-path=\"url(#clip002)\" x1=\"313.651\" y1=\"1445.72\" x2=\"297.651\" y2=\"1445.72\" style=\"stroke:#009af9; stroke-width:4; stroke-opacity:1\"/>\n",
       "<line clip-path=\"url(#clip002)\" x1=\"313.651\" y1=\"1445.72\" x2=\"313.651\" y2=\"1461.72\" style=\"stroke:#009af9; stroke-width:4; stroke-opacity:1\"/>\n",
       "<line clip-path=\"url(#clip002)\" x1=\"313.651\" y1=\"1445.72\" x2=\"329.651\" y2=\"1445.72\" style=\"stroke:#009af9; stroke-width:4; stroke-opacity:1\"/>\n",
       "<line clip-path=\"url(#clip002)\" x1=\"412.637\" y1=\"1372.08\" x2=\"412.637\" y2=\"1356.08\" style=\"stroke:#009af9; stroke-width:4; stroke-opacity:1\"/>\n",
       "<line clip-path=\"url(#clip002)\" x1=\"412.637\" y1=\"1372.08\" x2=\"396.637\" y2=\"1372.08\" style=\"stroke:#009af9; stroke-width:4; stroke-opacity:1\"/>\n",
       "<line clip-path=\"url(#clip002)\" x1=\"412.637\" y1=\"1372.08\" x2=\"412.637\" y2=\"1388.08\" style=\"stroke:#009af9; stroke-width:4; stroke-opacity:1\"/>\n",
       "<line clip-path=\"url(#clip002)\" x1=\"412.637\" y1=\"1372.08\" x2=\"428.637\" y2=\"1372.08\" style=\"stroke:#009af9; stroke-width:4; stroke-opacity:1\"/>\n",
       "<line clip-path=\"url(#clip002)\" x1=\"511.622\" y1=\"1298.94\" x2=\"511.622\" y2=\"1282.94\" style=\"stroke:#009af9; stroke-width:4; stroke-opacity:1\"/>\n",
       "<line clip-path=\"url(#clip002)\" x1=\"511.622\" y1=\"1298.94\" x2=\"495.622\" y2=\"1298.94\" style=\"stroke:#009af9; stroke-width:4; stroke-opacity:1\"/>\n",
       "<line clip-path=\"url(#clip002)\" x1=\"511.622\" y1=\"1298.94\" x2=\"511.622\" y2=\"1314.94\" style=\"stroke:#009af9; stroke-width:4; stroke-opacity:1\"/>\n",
       "<line clip-path=\"url(#clip002)\" x1=\"511.622\" y1=\"1298.94\" x2=\"527.622\" y2=\"1298.94\" style=\"stroke:#009af9; stroke-width:4; stroke-opacity:1\"/>\n",
       "<line clip-path=\"url(#clip002)\" x1=\"610.608\" y1=\"1185.8\" x2=\"610.608\" y2=\"1169.8\" style=\"stroke:#009af9; stroke-width:4; stroke-opacity:1\"/>\n",
       "<line clip-path=\"url(#clip002)\" x1=\"610.608\" y1=\"1185.8\" x2=\"594.608\" y2=\"1185.8\" style=\"stroke:#009af9; stroke-width:4; stroke-opacity:1\"/>\n",
       "<line clip-path=\"url(#clip002)\" x1=\"610.608\" y1=\"1185.8\" x2=\"610.608\" y2=\"1201.8\" style=\"stroke:#009af9; stroke-width:4; stroke-opacity:1\"/>\n",
       "<line clip-path=\"url(#clip002)\" x1=\"610.608\" y1=\"1185.8\" x2=\"626.608\" y2=\"1185.8\" style=\"stroke:#009af9; stroke-width:4; stroke-opacity:1\"/>\n",
       "<line clip-path=\"url(#clip002)\" x1=\"709.594\" y1=\"1113.97\" x2=\"709.594\" y2=\"1097.97\" style=\"stroke:#009af9; stroke-width:4; stroke-opacity:1\"/>\n",
       "<line clip-path=\"url(#clip002)\" x1=\"709.594\" y1=\"1113.97\" x2=\"693.594\" y2=\"1113.97\" style=\"stroke:#009af9; stroke-width:4; stroke-opacity:1\"/>\n",
       "<line clip-path=\"url(#clip002)\" x1=\"709.594\" y1=\"1113.97\" x2=\"709.594\" y2=\"1129.97\" style=\"stroke:#009af9; stroke-width:4; stroke-opacity:1\"/>\n",
       "<line clip-path=\"url(#clip002)\" x1=\"709.594\" y1=\"1113.97\" x2=\"725.594\" y2=\"1113.97\" style=\"stroke:#009af9; stroke-width:4; stroke-opacity:1\"/>\n",
       "<line clip-path=\"url(#clip002)\" x1=\"808.579\" y1=\"932.316\" x2=\"808.579\" y2=\"916.316\" style=\"stroke:#009af9; stroke-width:4; stroke-opacity:1\"/>\n",
       "<line clip-path=\"url(#clip002)\" x1=\"808.579\" y1=\"932.316\" x2=\"792.579\" y2=\"932.316\" style=\"stroke:#009af9; stroke-width:4; stroke-opacity:1\"/>\n",
       "<line clip-path=\"url(#clip002)\" x1=\"808.579\" y1=\"932.316\" x2=\"808.579\" y2=\"948.316\" style=\"stroke:#009af9; stroke-width:4; stroke-opacity:1\"/>\n",
       "<line clip-path=\"url(#clip002)\" x1=\"808.579\" y1=\"932.316\" x2=\"824.579\" y2=\"932.316\" style=\"stroke:#009af9; stroke-width:4; stroke-opacity:1\"/>\n",
       "<line clip-path=\"url(#clip002)\" x1=\"907.565\" y1=\"968.47\" x2=\"907.565\" y2=\"952.47\" style=\"stroke:#009af9; stroke-width:4; stroke-opacity:1\"/>\n",
       "<line clip-path=\"url(#clip002)\" x1=\"907.565\" y1=\"968.47\" x2=\"891.565\" y2=\"968.47\" style=\"stroke:#009af9; stroke-width:4; stroke-opacity:1\"/>\n",
       "<line clip-path=\"url(#clip002)\" x1=\"907.565\" y1=\"968.47\" x2=\"907.565\" y2=\"984.47\" style=\"stroke:#009af9; stroke-width:4; stroke-opacity:1\"/>\n",
       "<line clip-path=\"url(#clip002)\" x1=\"907.565\" y1=\"968.47\" x2=\"923.565\" y2=\"968.47\" style=\"stroke:#009af9; stroke-width:4; stroke-opacity:1\"/>\n",
       "<line clip-path=\"url(#clip002)\" x1=\"1006.55\" y1=\"898.195\" x2=\"1006.55\" y2=\"882.195\" style=\"stroke:#009af9; stroke-width:4; stroke-opacity:1\"/>\n",
       "<line clip-path=\"url(#clip002)\" x1=\"1006.55\" y1=\"898.195\" x2=\"990.551\" y2=\"898.195\" style=\"stroke:#009af9; stroke-width:4; stroke-opacity:1\"/>\n",
       "<line clip-path=\"url(#clip002)\" x1=\"1006.55\" y1=\"898.195\" x2=\"1006.55\" y2=\"914.195\" style=\"stroke:#009af9; stroke-width:4; stroke-opacity:1\"/>\n",
       "<line clip-path=\"url(#clip002)\" x1=\"1006.55\" y1=\"898.195\" x2=\"1022.55\" y2=\"898.195\" style=\"stroke:#009af9; stroke-width:4; stroke-opacity:1\"/>\n",
       "<line clip-path=\"url(#clip002)\" x1=\"1105.54\" y1=\"720.506\" x2=\"1105.54\" y2=\"704.506\" style=\"stroke:#009af9; stroke-width:4; stroke-opacity:1\"/>\n",
       "<line clip-path=\"url(#clip002)\" x1=\"1105.54\" y1=\"720.506\" x2=\"1089.54\" y2=\"720.506\" style=\"stroke:#009af9; stroke-width:4; stroke-opacity:1\"/>\n",
       "<line clip-path=\"url(#clip002)\" x1=\"1105.54\" y1=\"720.506\" x2=\"1105.54\" y2=\"736.506\" style=\"stroke:#009af9; stroke-width:4; stroke-opacity:1\"/>\n",
       "<line clip-path=\"url(#clip002)\" x1=\"1105.54\" y1=\"720.506\" x2=\"1121.54\" y2=\"720.506\" style=\"stroke:#009af9; stroke-width:4; stroke-opacity:1\"/>\n",
       "<line clip-path=\"url(#clip002)\" x1=\"1204.52\" y1=\"513.375\" x2=\"1204.52\" y2=\"497.375\" style=\"stroke:#009af9; stroke-width:4; stroke-opacity:1\"/>\n",
       "<line clip-path=\"url(#clip002)\" x1=\"1204.52\" y1=\"513.375\" x2=\"1188.52\" y2=\"513.375\" style=\"stroke:#009af9; stroke-width:4; stroke-opacity:1\"/>\n",
       "<line clip-path=\"url(#clip002)\" x1=\"1204.52\" y1=\"513.375\" x2=\"1204.52\" y2=\"529.375\" style=\"stroke:#009af9; stroke-width:4; stroke-opacity:1\"/>\n",
       "<line clip-path=\"url(#clip002)\" x1=\"1204.52\" y1=\"513.375\" x2=\"1220.52\" y2=\"513.375\" style=\"stroke:#009af9; stroke-width:4; stroke-opacity:1\"/>\n",
       "<line clip-path=\"url(#clip002)\" x1=\"1303.51\" y1=\"803.008\" x2=\"1303.51\" y2=\"787.008\" style=\"stroke:#009af9; stroke-width:4; stroke-opacity:1\"/>\n",
       "<line clip-path=\"url(#clip002)\" x1=\"1303.51\" y1=\"803.008\" x2=\"1287.51\" y2=\"803.008\" style=\"stroke:#009af9; stroke-width:4; stroke-opacity:1\"/>\n",
       "<line clip-path=\"url(#clip002)\" x1=\"1303.51\" y1=\"803.008\" x2=\"1303.51\" y2=\"819.008\" style=\"stroke:#009af9; stroke-width:4; stroke-opacity:1\"/>\n",
       "<line clip-path=\"url(#clip002)\" x1=\"1303.51\" y1=\"803.008\" x2=\"1319.51\" y2=\"803.008\" style=\"stroke:#009af9; stroke-width:4; stroke-opacity:1\"/>\n",
       "<line clip-path=\"url(#clip002)\" x1=\"1402.49\" y1=\"733.957\" x2=\"1402.49\" y2=\"717.957\" style=\"stroke:#009af9; stroke-width:4; stroke-opacity:1\"/>\n",
       "<line clip-path=\"url(#clip002)\" x1=\"1402.49\" y1=\"733.957\" x2=\"1386.49\" y2=\"733.957\" style=\"stroke:#009af9; stroke-width:4; stroke-opacity:1\"/>\n",
       "<line clip-path=\"url(#clip002)\" x1=\"1402.49\" y1=\"733.957\" x2=\"1402.49\" y2=\"749.957\" style=\"stroke:#009af9; stroke-width:4; stroke-opacity:1\"/>\n",
       "<line clip-path=\"url(#clip002)\" x1=\"1402.49\" y1=\"733.957\" x2=\"1418.49\" y2=\"733.957\" style=\"stroke:#009af9; stroke-width:4; stroke-opacity:1\"/>\n",
       "<line clip-path=\"url(#clip002)\" x1=\"1501.48\" y1=\"559.363\" x2=\"1501.48\" y2=\"543.363\" style=\"stroke:#009af9; stroke-width:4; stroke-opacity:1\"/>\n",
       "<line clip-path=\"url(#clip002)\" x1=\"1501.48\" y1=\"559.363\" x2=\"1485.48\" y2=\"559.363\" style=\"stroke:#009af9; stroke-width:4; stroke-opacity:1\"/>\n",
       "<line clip-path=\"url(#clip002)\" x1=\"1501.48\" y1=\"559.363\" x2=\"1501.48\" y2=\"575.363\" style=\"stroke:#009af9; stroke-width:4; stroke-opacity:1\"/>\n",
       "<line clip-path=\"url(#clip002)\" x1=\"1501.48\" y1=\"559.363\" x2=\"1517.48\" y2=\"559.363\" style=\"stroke:#009af9; stroke-width:4; stroke-opacity:1\"/>\n",
       "<line clip-path=\"url(#clip002)\" x1=\"1600.46\" y1=\"355.859\" x2=\"1600.46\" y2=\"339.859\" style=\"stroke:#009af9; stroke-width:4; stroke-opacity:1\"/>\n",
       "<line clip-path=\"url(#clip002)\" x1=\"1600.46\" y1=\"355.859\" x2=\"1584.46\" y2=\"355.859\" style=\"stroke:#009af9; stroke-width:4; stroke-opacity:1\"/>\n",
       "<line clip-path=\"url(#clip002)\" x1=\"1600.46\" y1=\"355.859\" x2=\"1600.46\" y2=\"371.859\" style=\"stroke:#009af9; stroke-width:4; stroke-opacity:1\"/>\n",
       "<line clip-path=\"url(#clip002)\" x1=\"1600.46\" y1=\"355.859\" x2=\"1616.46\" y2=\"355.859\" style=\"stroke:#009af9; stroke-width:4; stroke-opacity:1\"/>\n",
       "<line clip-path=\"url(#clip002)\" x1=\"1699.45\" y1=\"201.131\" x2=\"1699.45\" y2=\"185.131\" style=\"stroke:#009af9; stroke-width:4; stroke-opacity:1\"/>\n",
       "<line clip-path=\"url(#clip002)\" x1=\"1699.45\" y1=\"201.131\" x2=\"1683.45\" y2=\"201.131\" style=\"stroke:#009af9; stroke-width:4; stroke-opacity:1\"/>\n",
       "<line clip-path=\"url(#clip002)\" x1=\"1699.45\" y1=\"201.131\" x2=\"1699.45\" y2=\"217.131\" style=\"stroke:#009af9; stroke-width:4; stroke-opacity:1\"/>\n",
       "<line clip-path=\"url(#clip002)\" x1=\"1699.45\" y1=\"201.131\" x2=\"1715.45\" y2=\"201.131\" style=\"stroke:#009af9; stroke-width:4; stroke-opacity:1\"/>\n",
       "<line clip-path=\"url(#clip002)\" x1=\"1798.44\" y1=\"742.237\" x2=\"1798.44\" y2=\"726.237\" style=\"stroke:#009af9; stroke-width:4; stroke-opacity:1\"/>\n",
       "<line clip-path=\"url(#clip002)\" x1=\"1798.44\" y1=\"742.237\" x2=\"1782.44\" y2=\"742.237\" style=\"stroke:#009af9; stroke-width:4; stroke-opacity:1\"/>\n",
       "<line clip-path=\"url(#clip002)\" x1=\"1798.44\" y1=\"742.237\" x2=\"1798.44\" y2=\"758.237\" style=\"stroke:#009af9; stroke-width:4; stroke-opacity:1\"/>\n",
       "<line clip-path=\"url(#clip002)\" x1=\"1798.44\" y1=\"742.237\" x2=\"1814.44\" y2=\"742.237\" style=\"stroke:#009af9; stroke-width:4; stroke-opacity:1\"/>\n",
       "<line clip-path=\"url(#clip002)\" x1=\"1897.42\" y1=\"673.646\" x2=\"1897.42\" y2=\"657.646\" style=\"stroke:#009af9; stroke-width:4; stroke-opacity:1\"/>\n",
       "<line clip-path=\"url(#clip002)\" x1=\"1897.42\" y1=\"673.646\" x2=\"1881.42\" y2=\"673.646\" style=\"stroke:#009af9; stroke-width:4; stroke-opacity:1\"/>\n",
       "<line clip-path=\"url(#clip002)\" x1=\"1897.42\" y1=\"673.646\" x2=\"1897.42\" y2=\"689.646\" style=\"stroke:#009af9; stroke-width:4; stroke-opacity:1\"/>\n",
       "<line clip-path=\"url(#clip002)\" x1=\"1897.42\" y1=\"673.646\" x2=\"1913.42\" y2=\"673.646\" style=\"stroke:#009af9; stroke-width:4; stroke-opacity:1\"/>\n",
       "<line clip-path=\"url(#clip002)\" x1=\"1996.41\" y1=\"500.212\" x2=\"1996.41\" y2=\"484.212\" style=\"stroke:#009af9; stroke-width:4; stroke-opacity:1\"/>\n",
       "<line clip-path=\"url(#clip002)\" x1=\"1996.41\" y1=\"500.212\" x2=\"1980.41\" y2=\"500.212\" style=\"stroke:#009af9; stroke-width:4; stroke-opacity:1\"/>\n",
       "<line clip-path=\"url(#clip002)\" x1=\"1996.41\" y1=\"500.212\" x2=\"1996.41\" y2=\"516.212\" style=\"stroke:#009af9; stroke-width:4; stroke-opacity:1\"/>\n",
       "<line clip-path=\"url(#clip002)\" x1=\"1996.41\" y1=\"500.212\" x2=\"2012.41\" y2=\"500.212\" style=\"stroke:#009af9; stroke-width:4; stroke-opacity:1\"/>\n",
       "<line clip-path=\"url(#clip002)\" x1=\"2095.39\" y1=\"298.058\" x2=\"2095.39\" y2=\"282.058\" style=\"stroke:#009af9; stroke-width:4; stroke-opacity:1\"/>\n",
       "<line clip-path=\"url(#clip002)\" x1=\"2095.39\" y1=\"298.058\" x2=\"2079.39\" y2=\"298.058\" style=\"stroke:#009af9; stroke-width:4; stroke-opacity:1\"/>\n",
       "<line clip-path=\"url(#clip002)\" x1=\"2095.39\" y1=\"298.058\" x2=\"2095.39\" y2=\"314.058\" style=\"stroke:#009af9; stroke-width:4; stroke-opacity:1\"/>\n",
       "<line clip-path=\"url(#clip002)\" x1=\"2095.39\" y1=\"298.058\" x2=\"2111.39\" y2=\"298.058\" style=\"stroke:#009af9; stroke-width:4; stroke-opacity:1\"/>\n",
       "<line clip-path=\"url(#clip002)\" x1=\"2194.38\" y1=\"144.363\" x2=\"2194.38\" y2=\"128.363\" style=\"stroke:#009af9; stroke-width:4; stroke-opacity:1\"/>\n",
       "<line clip-path=\"url(#clip002)\" x1=\"2194.38\" y1=\"144.363\" x2=\"2178.38\" y2=\"144.363\" style=\"stroke:#009af9; stroke-width:4; stroke-opacity:1\"/>\n",
       "<line clip-path=\"url(#clip002)\" x1=\"2194.38\" y1=\"144.363\" x2=\"2194.38\" y2=\"160.363\" style=\"stroke:#009af9; stroke-width:4; stroke-opacity:1\"/>\n",
       "<line clip-path=\"url(#clip002)\" x1=\"2194.38\" y1=\"144.363\" x2=\"2210.38\" y2=\"144.363\" style=\"stroke:#009af9; stroke-width:4; stroke-opacity:1\"/>\n",
       "<line clip-path=\"url(#clip002)\" x1=\"2293.36\" y1=\"87.9763\" x2=\"2293.36\" y2=\"71.9763\" style=\"stroke:#009af9; stroke-width:4; stroke-opacity:1\"/>\n",
       "<line clip-path=\"url(#clip002)\" x1=\"2293.36\" y1=\"87.9763\" x2=\"2277.36\" y2=\"87.9763\" style=\"stroke:#009af9; stroke-width:4; stroke-opacity:1\"/>\n",
       "<line clip-path=\"url(#clip002)\" x1=\"2293.36\" y1=\"87.9763\" x2=\"2293.36\" y2=\"103.976\" style=\"stroke:#009af9; stroke-width:4; stroke-opacity:1\"/>\n",
       "<line clip-path=\"url(#clip002)\" x1=\"2293.36\" y1=\"87.9763\" x2=\"2309.36\" y2=\"87.9763\" style=\"stroke:#009af9; stroke-width:4; stroke-opacity:1\"/>\n",
       "<path clip-path=\"url(#clip000)\" d=\"M324.21 198.898 L586.49 198.898 L586.49 95.2176 L324.21 95.2176  Z\" fill=\"#ffffff\" fill-rule=\"evenodd\" fill-opacity=\"1\"/>\n",
       "<polyline clip-path=\"url(#clip000)\" style=\"stroke:#000000; stroke-linecap:round; stroke-linejoin:round; stroke-width:4; stroke-opacity:1; fill:none\" points=\"324.21,198.898 586.49,198.898 586.49,95.2176 324.21,95.2176 324.21,198.898 \"/>\n",
       "<polyline clip-path=\"url(#clip000)\" style=\"stroke:#009af9; stroke-linecap:round; stroke-linejoin:round; stroke-width:4; stroke-opacity:1; fill:none\" points=\"347.526,147.058 487.426,147.058 \"/>\n",
       "<line clip-path=\"url(#clip000)\" x1=\"417.476\" y1=\"147.058\" x2=\"417.476\" y2=\"125.468\" style=\"stroke:#009af9; stroke-width:4.55111; stroke-opacity:1\"/>\n",
       "<line clip-path=\"url(#clip000)\" x1=\"417.476\" y1=\"147.058\" x2=\"395.887\" y2=\"147.058\" style=\"stroke:#009af9; stroke-width:4.55111; stroke-opacity:1\"/>\n",
       "<line clip-path=\"url(#clip000)\" x1=\"417.476\" y1=\"147.058\" x2=\"417.476\" y2=\"168.647\" style=\"stroke:#009af9; stroke-width:4.55111; stroke-opacity:1\"/>\n",
       "<line clip-path=\"url(#clip000)\" x1=\"417.476\" y1=\"147.058\" x2=\"439.066\" y2=\"147.058\" style=\"stroke:#009af9; stroke-width:4.55111; stroke-opacity:1\"/>\n",
       "<path clip-path=\"url(#clip000)\" d=\"M524.585 166.745 Q522.78 171.375 521.067 172.787 Q519.354 174.199 516.483 174.199 L513.081 174.199 L513.081 170.634 L515.581 170.634 Q517.34 170.634 518.312 169.8 Q519.284 168.967 520.465 165.865 L521.229 163.921 L510.743 138.412 L515.256 138.412 L523.358 158.689 L531.46 138.412 L535.974 138.412 L524.585 166.745 Z\" fill=\"#000000\" fill-rule=\"nonzero\" fill-opacity=\"1\" /><path clip-path=\"url(#clip000)\" d=\"M543.266 160.402 L550.904 160.402 L550.904 134.037 L542.594 135.703 L542.594 131.444 L550.858 129.778 L555.534 129.778 L555.534 160.402 L563.173 160.402 L563.173 164.338 L543.266 164.338 L543.266 160.402 Z\" fill=\"#000000\" fill-rule=\"nonzero\" fill-opacity=\"1\" /></svg>\n"
      ]
     },
     "execution_count": 15,
     "metadata": {},
     "output_type": "execute_result"
    }
   ],
   "source": [
    "plot(real(χ₀_qω[:,101]),markershape=:auto)"
   ]
  },
  {
   "cell_type": "markdown",
   "metadata": {},
   "source": [
    "## Bubble Test"
   ]
  },
  {
   "cell_type": "code",
   "execution_count": 16,
   "metadata": {},
   "outputs": [
    {
     "name": "stdout",
     "output_type": "stream",
     "text": [
      "\u001b[36m\u001b[1m[ \u001b[22m\u001b[39m\u001b[36m\u001b[1mInfo: \u001b[22m\u001b[39mReading Inputs...\n",
      "\u001b[36m\u001b[1m[ \u001b[22m\u001b[39m\u001b[36m\u001b[1mInfo: \u001b[22m\u001b[39mSetting up calculation for kGrid 2Dsc-0.25-0.05-0.025 of size 10\n",
      "\u001b[36m\u001b[1m┌ \u001b[22m\u001b[39m\u001b[36m\u001b[1mInfo: \u001b[22m\u001b[39mInputs Read. Starting Computation.\n",
      "\u001b[36m\u001b[1m│ \u001b[22m\u001b[39m    Local susceptibilities with ranges are:\n",
      "\u001b[36m\u001b[1m│ \u001b[22m\u001b[39m    χLoc_m(1:301) = 0.3838, χLoc_d(1:301) = 0.1017\n",
      "\u001b[36m\u001b[1m│ \u001b[22m\u001b[39m    sum χupup check (plain ?≈? tail sub ?≈? imp_dens ?≈? n/2 (1-n/2)): 0.2401531297823682 ?=? 0.2427835212727256 ?≈? 0.2427835212727254 ≟ 0.24275850716113093\"\n",
      "\u001b[36m\u001b[1m│ \u001b[22m\u001b[39mLocal EoM check for the first 5 frequencies: 0.0033, 0.0033, 0.0033, 0.0033, 0.0033  \n",
      "\u001b[36m\u001b[1m└ \u001b[22m\u001b[39m    \n"
     ]
    },
    {
     "name": "stderr",
     "output_type": "stream",
     "text": [
      "DBG: NOT using diagonal terms in λ₀\n"
     ]
    },
    {
     "data": {
      "text/plain": [
       "calc_χλ_notebook (generic function with 1 method)"
      ]
     },
     "execution_count": 16,
     "metadata": {},
     "output_type": "execute_result"
    }
   ],
   "source": [
    "using Test\n",
    "using OffsetArrays\n",
    "using JLD2\n",
    "using Plots\n",
    "include(\"../src/ladderDGA_core.jl\")\n",
    "include(\"../src/helpers.jl\")\n",
    "include(\"../src/IO.jl\")\n",
    "include(\"../src/build_chi_asympt.jl\")\n",
    "include(\"../src/dbg_tools.jl\")\n",
    "Nν_shell = 10\n",
    "\n",
    "testf = \"G:/Hamburg/b20.0_mu0.4/ED_out.jld2\" #\"G:/Hamburg/b20.0_mu0.4/ED_out.jld2\"\n",
    "testfc = \"G:/Hamburg/b20.0_mu0.4/lDGAConfig.toml\" #\"G:/Hamburg/b20.0_mu0.4/lDGAConfig.toml\"\n",
    "#testf = \"/home/julian/Hamburg/ED_data/asympt_tests/ED_b14u1_small.jld2\"#\"../test/test_data/ED_s1.jld2\"\n",
    "#testf = \"/home/julian/Hamburg/ED_data/asympt_tests/ED_b14u1.jld2\"\n",
    "#testf = \"/home/julian/Hamburg/ED_data/asympt_tests/ED_b08u2_small.jld2\"#\"../test/test_data/ED_s1.jld2\"\n",
    "\n",
    "wp, mP, sP, env, kGridsStr = readConfig(testfc);\n",
    "lDGAhelper = setup_LDGA(kGridsStr[1], mP, sP, env, silent=false);\n",
    "\n",
    "#test_lambda = \"/home/julian/Hamburg/ED_data/asympt_tests/b14u1_lambda.jld2\"\n",
    "#λch_ed_asym, λsp_ed_asym, λpp_ed_asym = load(test_lambda, \"λch\", \"λsp\", \"λpp\");\n",
    "#λch_ed_amp_asym, λsp_ed_amp_asym, λpp_ed_amp_asym = load(test_lambda, \"λch_amp\", \"λsp_amp\", \"λpp_amp\");\n",
    "#γch_ed_asym, γsp_ed_asym, γpp_ed_asym = load(test_lambda, \"γch\", \"γsp\", \"γpp\");\n",
    "#χsp_ed, χch_ed = load(testf, \"χ_sp_asympt\",\"χ_ch_asympt\") ./ β^2 ;\n",
    "\n",
    "f = jldopen(testf, \"r\")\n",
    "Σ_loc_in = 1 ./ f[\"g0\"] .- 1 ./ f[\"gImp\"];\n",
    "sVk = sum(f[\"Vₖ\"].^2)\n",
    "n = f[\"nden\"]\n",
    "μ = f[\"μ\"]\n",
    "n_iν = f[\"grid_nFermi\"]\n",
    "shift = f[\"grid_shift\"]\n",
    "close(f)\n",
    "\n",
    "function χ₀_shell_sum_core_notebook(β::Float64, ω_ind_grid::AbstractVector{Int}, n_iν::Int, shift)\n",
    "   res = OffsetArray(zeros(ComplexF64, length(ω_ind_grid), 4), ω_ind_grid, 1:4)\n",
    "   iω_grid = iω_array(β, ω_ind_grid)\n",
    "   for ωn in ω_ind_grid\n",
    "        si = shift*trunc(Int,ωn/2)\n",
    "        iν_ind_grid = (-n_iν-abs(minimum(ω_ind_grid))-si):(n_iν+abs(maximum(ω_ind_grid))-si-1)\n",
    "        iν_grid = OffsetArray(iν_array(β, iν_ind_grid), iν_ind_grid)\n",
    "        for νn in (-n_iν-si):(n_iν-si-1)\n",
    "            res[ωn,1] += 1/(iν_grid[νn]^1 * iν_grid[νn+ωn]^1) \n",
    "            res[ωn,2] += 1/(iν_grid[νn]^2 * iν_grid[νn+ωn]^1) + 1/(iν_grid[νn]^1 * iν_grid[νn+ωn]^2) \n",
    "            res[ωn,3] += 1/(iν_grid[νn]^2 * iν_grid[νn+ωn]^2) \n",
    "            res[ωn,4] += 1/(iν_grid[νn]^3 * iν_grid[νn+ωn]^1) + 1/(iν_grid[νn]^1 * iν_grid[νn+ωn]^3) \n",
    "        end\n",
    "    end\n",
    "    return res\n",
    "end\n",
    "\n",
    "function χ₀_shell_sum_notebook(core::OffsetArray{ComplexF64,2}, ωn::Int, β::Float64, c1::Float64, c2::Float64, c3::Float64)::ComplexF64\n",
    "    res = (core[ωn,1] + c1*core[ωn,2] + c2*core[ωn,3] + c3*core[ωn,4])/β\n",
    "    ωn2 = 2*(2*ωn*π/β)^2\n",
    "    res += ωn == 0 ? (β/4-c2*β^3/48-c3*β^3/24) : ((c3-c2)*β/ωn2)\n",
    "    return res\n",
    "end\n",
    "\n",
    "function calc_χλ_notebook(type::Symbol, shell_sum_core, ωn::Int, χ::AbstractArray{ComplexF64,2}, χ₀::AbstractArray{ComplexF64,1}, U::Float64, β::Float64, c1::Float64, c2::Float64, c3::Float64, h::BSE_Asym_Helper)\n",
    "    bs = -χ₀_shell_sum_notebook(shell_sum_core, ωn, β, c1, c2, c3)\n",
    "    s = type == :ch ? -1 : 1\n",
    "    ind_core = (h.Nν_shell+1):(size(χ₀,1)-h.Nν_shell)\n",
    "    χ₀_core = view(χ₀,ind_core)\n",
    "    λ_core = -s*sum(χ,dims=[2])[:,1] ./ χ₀_core .+ s\n",
    "    χ_core = sum(χ) /β^2\n",
    "    F_diag!(type, ωn, U, β, χ₀, h)\n",
    "    λ = (λ_core .- s*view(h.diag_asym_buffer, ind_core) .+ U*bs)/(1+s*U*bs)\n",
    "    λ_s = -sum((U .* λ .- s*U) .* χ₀_core)/β^2\n",
    "    diag_asym_s = -sum(h.diag_asym_buffer .* χ₀)/β^2\n",
    "    χ = (χ_core - bs*(1+2*λ_s-s*U*bs) - diag_asym_s)/(1-U^2 * bs^2)\n",
    "    return χ, λ\n",
    "end"
   ]
  },
  {
   "cell_type": "code",
   "execution_count": 17,
   "metadata": {},
   "outputs": [
    {
     "ename": "LoadError",
     "evalue": "UndefVarError: `Dispersions` not defined in `Main`\nSuggestion: check for spelling errors or missing imports.\nHint: Dispersions is loaded but not imported in the active module Main.",
     "output_type": "error",
     "traceback": [
      "UndefVarError: `Dispersions` not defined in `Main`\nSuggestion: check for spelling errors or missing imports.\nHint: Dispersions is loaded but not imported in the active module Main.",
      "",
      "Stacktrace:",
      " [1] top-level scope",
      "   @ In[17]:10"
     ]
    }
   ],
   "source": [
    "Nk = 4\n",
    "D   = 2\n",
    "kG = LadderDGA.gen_kGrid(kGridsStr[1][1], 2)\n",
    "kG_n     = LadderDGA.gen_kGrid(kGridsStr[1][1], Nk)\n",
    "\n",
    "\n",
    "\n",
    "sampling = [(2*π/Nk) * j - π for j in 1:Nk]\n",
    "kGrid    = collect(Base.product([sampling for Di in 1:D]...))\n",
    "kGrid_lin = kGrid[:]\n",
    "kGrid_red = Dispersions.reduceKArr(kG, kGrid);\n",
    "νGrid     = -2*(sP.n_iν + sP.n_iω):2*(sP.n_iν + sP.n_iω) \n",
    "Σ_loc_os = OffsetArray(cat(conj(reverse(lDGAhelper.Σ_loc.parent)), lDGAhelper.Σ_loc.parent, dims=1),-length(lDGAhelper.Σ_loc):length(lDGAhelper.Σ_loc)-1)\n",
    "gLoc_full = OffsetArray(Array{ComplexF64,2}(undef, length(kGrid), length(νGrid)), 1:length(kGrid), νGrid)\n",
    "\n",
    "for (ki,k) in enumerate(kGrid_lin)\n",
    "    ϵₖ = -2*kG.t*sum(cos.(k))\n",
    "    for (νi,νn) in enumerate(νGrid)\n",
    "        gLoc_full[ki,νn] = 1/((π/mP.β)*(2νn + 1)*1im + mP.μ - ϵₖ - Σ_loc_os[νn])\n",
    "    end\n",
    "end"
   ]
  },
  {
   "cell_type": "code",
   "execution_count": 18,
   "metadata": {},
   "outputs": [],
   "source": [
    "h = lDGAhelper;\n",
    "kGridLoc = gen_kGrid(kGridsStr[1][1], 1)\n",
    "χsp_loc_test = h.χDMFT_m\n",
    "χch_loc_test = h.χDMFT_d;\n",
    "χ₀_loc_test = calc_bubble(:local, h.gImp, h.gImp, kGridLoc, mP, sP);"
   ]
  },
  {
   "cell_type": "code",
   "execution_count": 19,
   "metadata": {},
   "outputs": [
    {
     "data": {
      "text/plain": [
       "1×320×301 χ₀T:\n",
       "[:, :, 1] =\n",
       " 0.0343346+0.00112394im  0.0348906+0.00115323im  …  0.0343346-0.00112394im\n",
       "\n",
       "[:, :, 2] =\n",
       " 0.0339366+0.00110161im  0.0344814+0.00113003im  …  0.0344814-0.00113003im\n",
       "\n",
       "[:, :, 3] =\n",
       " 0.0340817+0.0011076im  0.0346295+0.00113619im  …  0.0340817-0.0011076im\n",
       "\n",
       ";;; … \n",
       "\n",
       "[:, :, 299] =\n",
       " 0.0340817+0.0011076im  0.0346295+0.00113619im  …  0.0340817-0.0011076im\n",
       "\n",
       "[:, :, 300] =\n",
       " 0.0344814+0.00113003im  0.0350405+0.0011595im  …  0.0339366-0.00110161im\n",
       "\n",
       "[:, :, 301] =\n",
       " 0.0343346+0.00112394im  0.0348906+0.00115323im  …  0.0343346-0.00112394im"
      ]
     },
     "execution_count": 19,
     "metadata": {},
     "output_type": "execute_result"
    }
   ],
   "source": [
    "χ₀_loc_test"
   ]
  },
  {
   "cell_type": "code",
   "execution_count": 20,
   "metadata": {},
   "outputs": [
    {
     "name": "stdout",
     "output_type": "stream",
     "text": [
      "max(|old - (-new)|) computation: 2.2737582620239835e-13\n"
     ]
    }
   ],
   "source": [
    "U = lDGAhelper.mP.U\n",
    "β = lDGAhelper.mP.β\n",
    "c2_old = μ-U*(n/2)\n",
    "c3_old = (μ-U*(n/2))^2 + sVk + U^2 * (n/2) * (1 - n/2);\n",
    "\n",
    "c1 = U*n/2 - μ\n",
    "c2 = [(U*n/2 - μ) ^ 2]\n",
    "c3 = (μ-U*(n/2))^2 + sVk + U^2 * (n/2) * (1 - n/2)\n",
    "\n",
    "n_iω = trunc(Int, size(χsp_loc_test,3)/2);\n",
    "bs_old = calc_χ₀_shell_sum_old(β, c2_old, c3_old, n_iω, n_iν, shift);\n",
    "χ₀_core = χ₀_shell_sum_core_notebook(β, -n_iω:n_iω, n_iν, shift)\n",
    "bs = map(x -> χ₀_shell_sum_notebook(χ₀_core, x, β, c1, c2[1], c3), -n_iω:n_iω);\n",
    "\n",
    "println(\"max(|old - (-new)|) computation: \", maximum(abs.(bs_old .+ bs)))"
   ]
  },
  {
   "cell_type": "code",
   "execution_count": 21,
   "metadata": {},
   "outputs": [
    {
     "ename": "LoadError",
     "evalue": "UndefVarError: `helper` not defined in `Main`\nSuggestion: check for spelling errors or missing imports.",
     "output_type": "error",
     "traceback": [
      "UndefVarError: `helper` not defined in `Main`\nSuggestion: check for spelling errors or missing imports.",
      "",
      "Stacktrace:",
      " [1] top-level scope",
      "   @ .\\In[21]:24"
     ]
    }
   ],
   "source": [
    "ωi = 52\n",
    "ωn = ωi - lDGAhelper.sP.n_iω - 1\n",
    "\n",
    "χsp_asym,χch_asym,λsp_asym,λch_asym,tsp,tch = improve_χλ_direct(ωn, χsp_loc_test[:,:,ωi], χch_loc_test[:,:,ωi],\n",
    "                                                                view(χ₀_loc_test,1,:,ωi), U, β, bs_old[ωi], h.sP.χ_helper);;\n",
    "\n",
    "χsp_ω_loc_test = Array{Float64,1}(undef, size(χsp_loc_test,3))\n",
    "χch_ω_loc_test = Array{Float64,1}(undef, size(χch_loc_test,3))\n",
    "λsp_ω_loc_test = Array{ComplexF64,2}(undef, 2*n_iν, size(χsp_loc_test,3))\n",
    "λch_ω_loc_test = Array{ComplexF64,2}(undef, 2*n_iν, size(χch_loc_test,3))\n",
    "χsp_ω_int_loc_test = Array{ComplexF64,1}(undef, size(χsp_loc_test,3))\n",
    "χch_ω_int_loc_test = Array{ComplexF64,1}(undef, size(χch_loc_test,3))\n",
    "λsp_ω_int_loc_test = Array{ComplexF64,2}(undef, 2*n_iν, size(χsp_loc_test,3))\n",
    "λch_ω_int_loc_test = Array{ComplexF64,2}(undef, 2*n_iν, size(χch_loc_test,3))\n",
    "bs = calc_χ₀_shell_sum_old(β, c2_old, c3_old, n_iω, n_iν, shift);\n",
    "\n",
    "χ₀_core = sum(χ₀_loc_test[1,11:110,:], dims=[1])[1,:] ./ β^2 \n",
    "χ₀_res1 = zeros(size(χ₀_core))\n",
    "χ₀_res2 = zeros(size(χ₀_core))\n",
    "χ₀_res3 = zeros(size(χ₀_core))\n",
    "χ₀_rest = χ₀_shell_sum_core_notebook(β, -n_iω:n_iω, n_iν, Int(shift))\n",
    "for ωi in 1:size(χch_loc_test,3)\n",
    "    ωn = ωi - n_iω - 1\n",
    "    χsp_asym,χch_asym,λsp_asym,λch_asym, λsp_core, λch_core = improve_χλ_direct(ωn, χsp_loc_test[:,:,ωi], χch_loc_test[:,:,ωi],\n",
    "                                                            view(χ₀_loc_test,1,:,ωi), U, β, bs[ωi], helper);\n",
    "    χsp_ω_int_loc_test[ωi],λsp_ω_int_loc_test[:,ωi] = calc_χλ_notebook(:sp, χ₀_rest, ωn, χsp_loc_test[:,:,ωi],view(χ₀_loc_test,1,:,ωi), \n",
    "                            U, β, c1, c2[1], c3, helper);\n",
    "    χch_ω_int_loc_test[ωi],λch_ω_int_loc_test[:,ωi] = calc_χλ_notebook(:ch, χ₀_rest, ωn, χch_loc_test[:,:,ωi],view(χ₀_loc_test,1,:,ωi), \n",
    "                            U, β, c1, c2[1], c3, helper);\n",
    "    λsp_ω_loc_test[:,ωi] = λsp_asym\n",
    "    λch_ω_loc_test[:,ωi] = λch_asym\n",
    "    χsp_ω_loc_test[ωi] = real(χsp_asym)\n",
    "    χch_ω_loc_test[ωi] = real(χch_asym)\n",
    "    \n",
    "    χ₀_asym = χ₀_shell_sum_notebook(χ₀_rest, ωn, β, c1, c2[1], c3)\n",
    "    χ₀_res1[ωi] = real((χ₀_core[ωi]) )\n",
    "    χ₀_res2[ωi] = real((χ₀_core[ωi] + χ₀_asym))\n",
    "    χ₀_res3[ωi] = real((χ₀_core[ωi] + χ₀_asym) * (2*ωn*π/β)^2)\n",
    "end\n",
    "\n",
    "plot(χ₀_res1[:], markershape=:auto, label=\"plain sum\")\n",
    "plot!(χ₀_res2[:], markershape=:auto, label=\"improved sum\")\n",
    "plot!(χ₀_res3[:], markershape=:auto, label=\"ω^2 tail\")"
   ]
  },
  {
   "cell_type": "code",
   "execution_count": 22,
   "metadata": {},
   "outputs": [
    {
     "ename": "LoadError",
     "evalue": "UndefVarError: `χsp_ed` not defined in `Main`\nSuggestion: check for spelling errors or missing imports.",
     "output_type": "error",
     "traceback": [
      "UndefVarError: `χsp_ed` not defined in `Main`\nSuggestion: check for spelling errors or missing imports.",
      "",
      "Stacktrace:",
      " [1] top-level scope",
      "   @ In[22]:1"
     ]
    }
   ],
   "source": [
    "max_diff = round(maximum(abs.(real(χsp_ed[(0:n_iω) .+ 1] .- χsp_ω_int_loc_test[n_iω+1:end]))), digits=5)\n",
    "plot(-n_iω:n_iω,real(χsp_ω_int_loc_test[:]), title=\"ED-Improved max Δ = $(max_diff)\",xlabel=\"ωₙ\", ylabel=\"χsp\", markershape=:auto, label=\"χsp improved\")\n",
    "plot!(-n_iω:n_iω,χsp_ω_loc_test, label=\"χsp improved (old)\")\n",
    "plot!(-n_iω:n_iω,real(locQ_sp.χ[1,:]), label=\"χsp internal\", linewidth=2)\n",
    "plot!(0:n_iω, real(χsp_ed[(0:n_iω) .+ 1]), label=\"exact ED\")"
   ]
  },
  {
   "cell_type": "code",
   "execution_count": 23,
   "metadata": {},
   "outputs": [
    {
     "ename": "LoadError",
     "evalue": "UndefVarError: `χch_ed` not defined in `Main`\nSuggestion: check for spelling errors or missing imports.",
     "output_type": "error",
     "traceback": [
      "UndefVarError: `χch_ed` not defined in `Main`\nSuggestion: check for spelling errors or missing imports.",
      "",
      "Stacktrace:",
      " [1] top-level scope",
      "   @ In[23]:1"
     ]
    }
   ],
   "source": [
    "max_diff = round(maximum(abs.(real(χch_ed[(0:n_iω) .+ 1] .- χch_ω_int_loc_test[n_iω+1:end]))), digits=5)\n",
    "plot(-n_iω:n_iω,real(χch_ω_int_loc_test[:]), title=\"ED-Improved max Δ = $(max_diff)\",xlabel=\"ωₙ\", ylabel=\"χch\", markershape=:auto, label=\"χsp improved\")\n",
    "plot!(-n_iω:n_iω,χch_ω_loc_test, label=\"χch improved (old)\")\n",
    "plot!(-n_iω:n_iω,real(locQ_ch.χ[1,:]), label=\"χch internal\", linewidth=2)\n",
    "plot!(0:n_iω, real(χch_ed[(0:n_iω) .+ 1]), label=\"exact ED\")"
   ]
  },
  {
   "cell_type": "code",
   "execution_count": 24,
   "metadata": {},
   "outputs": [
    {
     "ename": "LoadError",
     "evalue": "UndefVarError: `λch_ed_amp_asym` not defined in `Main`\nSuggestion: check for spelling errors or missing imports.",
     "output_type": "error",
     "traceback": [
      "UndefVarError: `λch_ed_amp_asym` not defined in `Main`\nSuggestion: check for spelling errors or missing imports.",
      "",
      "Stacktrace:",
      " [1] top-level scope",
      "   @ In[24]:3"
     ]
    }
   ],
   "source": [
    "plot(real(λch_ω_int_loc_test[:,51]),markershape=:auto,xlabel=\"νₙ\", ylabel=\"λch(νₙ,ω₀)\", label=\"impr (new)\")\n",
    "plot!(real(λch_ω_loc_test[:,51]),markershape=:auto, label=\"impr (old)\")\n",
    "plot!(-real(λch_ed_amp_asym[51:150,101]) .- 1, markershape=:auto, label=\"asym\")\n",
    "hline!([-real(χch_ω_loc_test[51])], label=\"χ₀(ω₀) impr (new)\")"
   ]
  },
  {
   "cell_type": "code",
   "execution_count": 25,
   "metadata": {},
   "outputs": [
    {
     "ename": "LoadError",
     "evalue": "UndefVarError: `λsp_ed_amp_asym` not defined in `Main`\nSuggestion: check for spelling errors or missing imports.",
     "output_type": "error",
     "traceback": [
      "UndefVarError: `λsp_ed_amp_asym` not defined in `Main`\nSuggestion: check for spelling errors or missing imports.",
      "",
      "Stacktrace:",
      " [1] top-level scope",
      "   @ In[25]:3"
     ]
    }
   ],
   "source": [
    "plot(real(λsp_ω_int_loc_test[:,51]), markershape=:auto,xlabel=\"νₙ\", ylabel=\"λsp(νₙ,ω₀)\", label=\"λ impr (new)\")\n",
    "plot!(real(λsp_ω_loc_test[:,51]), markershape=:auto, label=\"λ impr (old)\")\n",
    "plot!(real(λsp_ed_amp_asym[51:150,101]) .+ 1, markershape=:auto, label=\"λ exact\")\n",
    "hline!([-real(χsp_ω_loc_test[51])], label=\"χ₀(ω₀) impr (new)\")\n",
    "hline!([-real(χsp_ω_int_loc_test[51])], label=\"χ₀(ω₀) impr (old)\")"
   ]
  },
  {
   "cell_type": "code",
   "execution_count": 26,
   "metadata": {},
   "outputs": [
    {
     "ename": "LoadError",
     "evalue": "UndefVarError: `helper` not defined in `Main`\nSuggestion: check for spelling errors or missing imports.",
     "output_type": "error",
     "traceback": [
      "UndefVarError: `helper` not defined in `Main`\nSuggestion: check for spelling errors or missing imports.",
      "",
      "Stacktrace:",
      " [1] top-level scope",
      "   @ In[26]:2"
     ]
    }
   ],
   "source": [
    "xr = n_iω+1:n_iω+50\n",
    "rtch = real.(helper.χch_asympt)[1:50]\n",
    "rtsp = real.(helper.χsp_asympt)[1:50]\n",
    "plot(xr .- 51,-((χsp_ω_loc_test[xr] .- rtsp)),markersize=6, alpha=0.6, markershape=:auto, label=\"Err χsp\")\n",
    "plot!(xr .- 51,(-(χch_ω_loc_test[xr] .- rtch)),markersize=6, alpha=0.6, markershape=:auto, label=\"Err χch\")"
   ]
  },
  {
   "cell_type": "markdown",
   "metadata": {},
   "source": [
    "# Non-Local χ₀ sum test\n",
    "\n",
    "First Plot tests the asymptotic bubble sum from the internal LadderDGA code. The result is plotted against the known asymptotic tail of χ₀[q,ω->oo]"
   ]
  },
  {
   "cell_type": "code",
   "execution_count": 27,
   "metadata": {},
   "outputs": [
    {
     "ename": "LoadError",
     "evalue": "BoundsError: attempt to access 3-element Vector{Float64} at index [4]",
     "output_type": "error",
     "traceback": [
      "BoundsError: attempt to access 3-element Vector{Float64} at index [4]",
      "",
      "Stacktrace:",
      " [1] throw_boundserror(A::Vector{Float64}, I::Tuple{Int64})",
      "   @ Base .\\essentials.jl:14",
      " [2] getindex(A::Vector{Float64}, i::Int64)",
      "   @ Base .\\essentials.jl:916",
      " [3] top-level scope",
      "   @ .\\In[27]:17"
     ]
    }
   ],
   "source": [
    "tmp = convert.(ComplexF64, kG.ϵkGrid .+ mP.U*mP.n/2 .- mP.μ)\n",
    "c1 = mP.U*mP.n/2 - mP.μ + kintegrate(kG, kG.ϵkGrid)\n",
    "c2_arr = real.(LadderDGA.conv(kG, tmp, tmp))\n",
    "c3 = real.(kintegrate(kG, tmp .^ 2) + (mP.U^2)*(mP.n/2)*(1-mP.n/2));\n",
    "\n",
    "χ₀_core = sum(bubble.data[:,11:110,:], dims=[2])[:,1,:] ./ mP.β^2 \n",
    "χ₀_res = zeros(size(χ₀_core))\n",
    "χ₀_res2 = zeros(size(χ₀_core))\n",
    "χ₀_res3 = zeros(size(χ₀_core))\n",
    "χ₀_res4 = zeros(size(χ₀_core))\n",
    "χ₀_res5 = zeros(size(χ₀_core))\n",
    "χ₀_rest_int = LadderDGA.BSE_Asymptotics.χ₀_shell_sum_core(mP.β, -sP.n_iω:sP.n_iω, sP.n_iν, Int(sP.shift))\n",
    "χ₀_rest = χ₀_shell_sum_core_notebook(mP.β, -sP.n_iω:sP.n_iω, sP.n_iν, Int(sP.shift))\n",
    "for qi = 1:10\n",
    "for (ωi,ωn) = enumerate(-sP.n_iω:sP.n_iω)\n",
    "    χ₀_asym_int = bubble.asym\n",
    "    χ₀_asym = χ₀_shell_sum_notebook(χ₀_rest, ωn, mP.β, c1, c2_arr[qi], c3)\n",
    "    χ₀_res[qi,ωi] = real((χ₀_core[qi,ωi] + χ₀_asym_int[qi,ωi]) )#* (2*ωn*π/mP.β)^2)\n",
    "    χ₀_res2[qi,ωi] = real((χ₀_core[qi,ωi]) )#* (2*ωn*π/mP.β)^2)\n",
    "    χ₀_res3[qi,ωi] = real((χ₀_core[qi,ωi] + χ₀_asym))\n",
    "    χ₀_res4[qi,ωi] = real((χ₀_core[qi,ωi] + χ₀_asym_int[qi,ωi]) * (2*ωn*π/mP.β)^2)\n",
    "    χ₀_res5[qi,ωi] = real((χ₀_core[qi,ωi] + χ₀_asym) * (2*ωn*π/mP.β)^2)\n",
    "end\n",
    "end"
   ]
  },
  {
   "cell_type": "code",
   "execution_count": 28,
   "metadata": {},
   "outputs": [
    {
     "data": {},
     "execution_count": 28,
     "metadata": {},
     "output_type": "execute_result"
    }
   ],
   "source": [
    "qi_pl = 1\n",
    "q_v = round.(kG.kGrid[qi_pl],digits=1)\n",
    "plot(-50:50,χ₀_res[qi_pl,:], markershape=:auto, markersize=6, ylims=(-0.03,0.01), xlabel=\"ωₙ\", ylabel=\"χ₀[q=$q_v,ωₙ]\", label=\"impr (internal)\")\n",
    "plot!(-50:50,χ₀_res2[qi_pl,:], markershape=:auto, label=\"plain sum\")\n",
    "plot!(-50:50,χ₀_res3[qi_pl,:], markershape=:auto, label=\"impr (notebook)\")"
   ]
  },
  {
   "cell_type": "code",
   "execution_count": 29,
   "metadata": {},
   "outputs": [
    {
     "ename": "LoadError",
     "evalue": "type ModelParameters has no field Ekin_DMFT",
     "output_type": "error",
     "traceback": [
      "type ModelParameters has no field Ekin_DMFT",
      "",
      "Stacktrace:",
      " [1] getproperty(x::ModelParameters, f::Symbol)",
      "   @ Base .\\Base.jl:49",
      " [2] top-level scope",
      "   @ In[29]:1"
     ]
    }
   ],
   "source": [
    "m = mP.Ekin_DMFT/(6*kG.t)\n",
    "b = (2 * mP.Epot_DMFT + mP.Ekin_DMFT - mP.U*(mP.n^2)/2)\n",
    "plot(-χ₀_res4[:,end], label=\"χ₀[q,ω->oo]\", markershape=:auto, markersize=6, xticks=(1:10,map(x -> round.(x,digits=1),kG.kGrid[:])), xrotation = 30)\n",
    "plot!(-χ₀_res5[:,end], markershape=:auto, markersize=3, label=\"χ₀[q,ω->oo] (LadderDGA internal)\" )\n",
    "plot!( m .* kG.ϵkGrid .+ b, label=\"m * ϵ[q] + b\")\n",
    "#plot!( -2.6 .* kG.ϵkGrid .- 6.5,label=\"auch richtig\")"
   ]
  },
  {
   "cell_type": "code",
   "execution_count": 30,
   "metadata": {},
   "outputs": [
    {
     "ename": "LoadError",
     "evalue": "UndefVarError: `locQ_sp` not defined in `Main`\nSuggestion: check for spelling errors or missing imports.",
     "output_type": "error",
     "traceback": [
      "UndefVarError: `locQ_sp` not defined in `Main`\nSuggestion: check for spelling errors or missing imports.",
      "",
      "Stacktrace:",
      " [1] top-level scope",
      "   @ In[30]:1"
     ]
    }
   ],
   "source": [
    "gImp_slice = (201-50):(201+49)\n",
    "λ_asym_test = (((locQ_sp.γ[1,:,51] .* (1 .+ mP.U .* locQ_sp.χ[1, 51]) .- 1) ./ (-mP.U)) .- 1);\n",
    "print(\"Δ (χ₀Loc - gImp * gImp * (-mP.β))\")\n",
    "maximum(abs.(χ₀Loc.data[1,11:110,51] .- (-mP.β).*gImp[1,1,1,gImp_slice].*gImp[1,1,1,gImp_slice]))"
   ]
  },
  {
   "cell_type": "code",
   "execution_count": 31,
   "metadata": {},
   "outputs": [
    {
     "ename": "LoadError",
     "evalue": "UndefVarError: `λsp_ed_amp_asym` not defined in `Main`\nSuggestion: check for spelling errors or missing imports.",
     "output_type": "error",
     "traceback": [
      "UndefVarError: `λsp_ed_amp_asym` not defined in `Main`\nSuggestion: check for spelling errors or missing imports.",
      "",
      "Stacktrace:",
      " [1] top-level scope",
      "   @ In[31]:1"
     ]
    }
   ],
   "source": [
    "plot(real.(λsp_ed_amp_asym[51:150,101] .* (χ₀Loc.data[1,11:110,51]/(-mP.β)) .- λsp_ed_asym[51:150,101]), label=\"Δ (λ_asym - λ_amp_asym)\")"
   ]
  },
  {
   "cell_type": "code",
   "execution_count": 32,
   "metadata": {},
   "outputs": [
    {
     "ename": "LoadError",
     "evalue": "UndefVarError: `locQ_sp` not defined in `Main`\nSuggestion: check for spelling errors or missing imports.",
     "output_type": "error",
     "traceback": [
      "UndefVarError: `locQ_sp` not defined in `Main`\nSuggestion: check for spelling errors or missing imports.",
      "",
      "Stacktrace:",
      " [1] top-level scope",
      "   @ In[32]:7"
     ]
    }
   ],
   "source": [
    "ωi = 51\n",
    "ωn = ωi - sP.n_iω - 1\n",
    "asym_slice = (51:150) .- trunc(Int, ωn/2)\n",
    "asym_omega = ωi + 50\n",
    "#λsp_asym_test = (((locQ_sp.γ[1,:,ωi] .* (1 .+ mP.U .* locQ_sp.χ[1, ωi]) .- 1)  .- 1);\n",
    "s = 1\n",
    "λsp_asym = -(locQ_sp.γ[1,:,ωi] .* (1 .+ s*mP.U .* locQ_sp.χ[1, ωi]) ) .+ s\n",
    "s = -1\n",
    "λch_asym = (locQ_ch.γ[1,:,ωi] .* (1 .+ s*mP.U .* locQ_ch.χ[1, ωi]) ) .+ s\n",
    "\n",
    "plot(-50:49,real.(λsp_ed_amp_asym[asym_slice,asym_omega] .- 1 .- λsp_asym), xlabel=\"νₙ\", label=\"Δ (λ_sp_amp_asym[ω_$ωn] - λ_lDGA_code)\")\n",
    "plot!(-50:49,real.(λch_ed_amp_asym[asym_slice,asym_omega] .- 1 .- λch_asym), xlabel=\"νₙ\", label=\"Δ (λ_ch_amp_asym[ω_$ωn] - λ_lDGA_code)\")\n",
    "#plot!(-50:49,real.(λsp_ed_asym[asym_slice,asym_omega] .- λsp_asym .* (χ₀Loc[1,11:110,ωi]/(-mP.β))), label=\"Δ (λ_asym - λ_lDGA_code .* χ₀/(-β))\")"
   ]
  },
  {
   "cell_type": "code",
   "execution_count": 33,
   "metadata": {},
   "outputs": [
    {
     "ename": "LoadError",
     "evalue": "type ModelParameters has no field sVk",
     "output_type": "error",
     "traceback": [
      "type ModelParameters has no field sVk",
      "",
      "Stacktrace:",
      " [1] getproperty(x::ModelParameters, f::Symbol)",
      "   @ Base .\\Base.jl:49",
      " [2] top-level scope",
      "   @ In[33]:15"
     ]
    }
   ],
   "source": [
    "using LinearAlgebra\n",
    "#include(\"/home/julian/Hamburg/BSE_Asymptotics.jl/src/build_chi_asympt.jl\")\n",
    "\n",
    "function build_diag_updo(ωn, χ₀, h)\n",
    "    i1_l = h.ind1_list\n",
    "    i2_l = view(h.ind2_list, :, ωn)\n",
    "    fill!(h.diag_asym_buffer, 0)\n",
    "    for i in 1:length(i1_l)\n",
    "        i1 = h.I_asympt[i]\n",
    "        i2 = i1_l[i]\n",
    "        i3 = i2_l[i]\n",
    "        h.diag_asym_buffer[i1[1]] += (mP.U^2)*(h.χch_asympt[i2] - h.χpp_asympt[i3])*(-χ₀[i1[2]])/mP.β^2\n",
    "    end\n",
    "end\n",
    "c2 = mP.μ-mP.U*(mP.n/2)\n",
    "c3 = (mP.μ-mP.U*(mP.n/2))^2 + mP.sVk + mP.U^2 * (mP.n/2) * (1 - mP.n/2);\n",
    "bs_old = calc_χ₀_shell_sum_old(mP.β, c2, c3, n_iω, n_iν, Int64(sP.shift));\n",
    "\n",
    "function improve_λ₀2(type, kG, χ₀, locQ, F, h)\n",
    "    s = (type == :ch) ? -1 : +1\n",
    "    tmp = convert.(ComplexF64, kG.ϵkGrid .+ mP.U*mP.n/2 .- mP.μ)\n",
    "    Nq = size(χ₀.data,1)\n",
    "    Nν = length(-sP.n_iν:sP.n_iν-1)\n",
    "    Nω = size(χ₀.data,3)\n",
    "\n",
    "    χ₀_rest = χ₀_shell_sum_core(mP.β, -sP.n_iω:sP.n_iω, sP.n_iν, Int(sP.shift))\n",
    "    \n",
    "    res = zeros(ComplexF64, Nq, Nν, Nω)\n",
    "    res2 = similar(res)\n",
    "    res3 = similar(res)\n",
    "    res3 = similar(res)\n",
    "    res4 = similar(res)\n",
    "    for ωi in 1:Nω\n",
    "        ωn = ωi - sP.n_iω - 1\n",
    "        ind_core = (h.Nν_shell+1):(size(χ₀.data,2)-h.Nν_shell)\n",
    "        λ_asym = -(locQ.γ[1,:,ωi] .* (1 .+ s*mP.U .* locQ.χ[1, ωi]) ) .+ 1\n",
    "        for qi in 1:Nq\n",
    "            λcore = [s*dot(χ₀.data[qi,ind_core,ωi], F[νi,:,ωi] )/(mP.β^2) for νi in 1:size(F,1)]\n",
    "            χ₀_asym = χ₀.asym[qi,ωi]\n",
    "            LadderDGA.BSE_Asymptotics.F_diag!(type, ωn, mP.U, mP.β, χ₀.data[qi,:,ωi], h)\n",
    "            res[qi,:,ωi] = λcore \n",
    "            res2[qi,:,ωi]  = χ₀_asym.*mP.U.*(λ_asym)\n",
    "            res3[qi,:,ωi] .= -χ₀_asym.*mP.U.*(1)\n",
    "            res4[qi,:,ωi]  = view(h.diag_asym_buffer, ind_core)\n",
    "                    #view(h.diag_asym_buffer, ind_core) .+ (λ_loc_ω[ωi] .- s)*mP.U*(χ₀_asym)\n",
    "        end\n",
    "    end\n",
    "    return res, res2, res3, res4\n",
    "end\n",
    "Σ_loc_offs = OffsetArray(cat(conj(reverse(Σ_loc)),Σ_loc_in, dims=1),-length(Σ_loc):length(Σ_loc)-1)\n",
    "core_sp, asym_1_sp, asym_2_sp, asym_3_sp = improve_λ₀2(:sp, kG, bubble, locQ_sp, Fsp, sP.χ_helper);\n",
    "core_ch, asym_1_ch, asym_2_ch, asym_3_ch = improve_λ₀2(:ch, kG, bubble, locQ_ch, Fch, sP.χ_helper);\n",
    "r1_ch = core_ch .+ asym_1_ch .+ asym_2_ch .+ asym_3_ch;\n",
    "r1_sp = core_sp .+ asym_1_sp .+ asym_2_sp .+ asym_3_sp;"
   ]
  },
  {
   "cell_type": "code",
   "execution_count": 34,
   "metadata": {},
   "outputs": [
    {
     "ename": "LoadError",
     "evalue": "ArgumentError: Package LsqFit not found in current path.\n- Run `import Pkg; Pkg.add(\"LsqFit\")` to install the LsqFit package.",
     "output_type": "error",
     "traceback": [
      "ArgumentError: Package LsqFit not found in current path.\n- Run `import Pkg; Pkg.add(\"LsqFit\")` to install the LsqFit package.",
      "",
      "Stacktrace:",
      " [1] macro expansion",
      "   @ .\\loading.jl:2223 [inlined]",
      " [2] macro expansion",
      "   @ .\\lock.jl:273 [inlined]",
      " [3] __require(into::Module, mod::Symbol)",
      "   @ Base .\\loading.jl:2198",
      " [4] #invoke_in_world#3",
      "   @ .\\essentials.jl:1089 [inlined]",
      " [5] invoke_in_world",
      "   @ .\\essentials.jl:1086 [inlined]",
      " [6] require(into::Module, mod::Symbol)",
      "   @ Base .\\loading.jl:2191"
     ]
    }
   ],
   "source": [
    "using LsqFit\n",
    "using Optim\n",
    "qi = 1\n",
    "νi = 51\n",
    "νn = νi - sP.n_iν - 1\n",
    "ωrange_s = -sP.n_iω:sP.n_iω\n",
    "iω_n_arr = OffsetArray(2*im*(ωrange_s)*π/mP.β,ωrange_s)\n",
    "Σ_loc_os = OffsetArray(cat(conj(reverse(Σ_loc)),Σ_loc, dims=1),-length(Σ_loc):length(Σ_loc)-1)\n",
    "r1_sp_full = to_m_index(r1_sp, sP);\n",
    "r1_ch_full = to_m_index(r1_ch, sP);\n",
    "\n",
    "fitr = 20:50\n",
    "@. model(x, p) = real.(p[1] + p[2]/x + p[3]/x^2)\n",
    "xdata = imag.(iω_n_arr[fitr])\n",
    "p0 = [imag(Σ_loc_os[νi-51]), 1.0, 1.0]\n",
    "\n",
    "yd = r1_ch_full[qi,νn,:] .* iω_n_arr\n",
    "ydata_ch_impr2 = imag(yd[fitr])\n",
    "fit2 = curve_fit(model, xdata, ydata_ch_impr2, p0)\n",
    "\n",
    "\n",
    "lmr_ch = imag(yd[50]+yd[-50])/2\n",
    "println(\"ch: fit: $(round(fit2.param[1],digits=4)), Σ_loc: $(round(imag(Σ_loc_os[νi-51]),digits=4)), left-right: $(round(lmr_ch,digits=6))\")\n",
    "p1 = plot(ωrange_s,imag.(r1_ch_full[1,νn,:].parent .* iω_n_arr.parent), ylims=(-0.5,0.5), legend=:topleft, markershape=:auto, label=\"λ₀_ch(ν_$(νn),ωn) * iω\")\n",
    "plot!(ωrange_s,real.(r1_ch_full[1,νn,:].parent .* iω_n_arr.parent.^2 ), markershape=:auto, label=\"λ₀_ch(ν_$(νn),ωn) * iω^2\")\n",
    "#plot!(imag.(core_ch[1,51,1:end] .* iω_i_arr[1:end]), markershape=:auto)\n",
    "hline!([ imag(Σ_loc_os[νn])], label=\"Σ_DMFT(νn=$(νn))\")\n",
    "hline!([ fit2.param[1]], label=\"c_1 fit, c_1/ω\")\n",
    "hline!([lmr_ch], label=\"avg\")"
   ]
  },
  {
   "cell_type": "code",
   "execution_count": 35,
   "metadata": {},
   "outputs": [
    {
     "ename": "LoadError",
     "evalue": "ArgumentError: Package LsqFit not found in current path.\n- Run `import Pkg; Pkg.add(\"LsqFit\")` to install the LsqFit package.",
     "output_type": "error",
     "traceback": [
      "ArgumentError: Package LsqFit not found in current path.\n- Run `import Pkg; Pkg.add(\"LsqFit\")` to install the LsqFit package.",
      "",
      "Stacktrace:",
      " [1] macro expansion",
      "   @ .\\loading.jl:2223 [inlined]",
      " [2] macro expansion",
      "   @ .\\lock.jl:273 [inlined]",
      " [3] __require(into::Module, mod::Symbol)",
      "   @ Base .\\loading.jl:2198",
      " [4] #invoke_in_world#3",
      "   @ .\\essentials.jl:1089 [inlined]",
      " [5] invoke_in_world",
      "   @ .\\essentials.jl:1086 [inlined]",
      " [6] require(into::Module, mod::Symbol)",
      "   @ Base .\\loading.jl:2191"
     ]
    }
   ],
   "source": [
    "using LsqFit\n",
    "qi = 1\n",
    "νi = 51\n",
    "νn = νi - sP.n_iν - 1\n",
    "ωrange_s = -sP.n_iω:sP.n_iω\n",
    "iω_n_arr = OffsetArray(2*im*(ωrange_s)*π/mP.β,ωrange_s)\n",
    "Σ_loc_os = OffsetArray(cat(conj(reverse(Σ_loc)),Σ_loc, dims=1),-length(Σ_loc):length(Σ_loc)-1)\n",
    "r1_sp_full = to_m_index(r1_sp, sP);\n",
    "r1_ch_full = to_m_index(r1_ch, sP);\n",
    "\n",
    "fitr = 30:50\n",
    "@. model(x, p) = real.(p[1] + p[2]/x + p[3]/x^2)\n",
    "xdata = imag.(iω_n_arr[fitr])\n",
    "p0 = [0.0, 0.0, 0.0, 0.0]\n",
    "\n",
    "yd = r1_sp_full[qi,νn,:] .* iω_n_arr\n",
    "ydata_sp_impr2 = imag(yd[fitr])\n",
    "fit2 = curve_fit(model, xdata, ydata_sp_impr2, p0)\n",
    "lmr_sp = imag(yd[50]+yd[-50])/2\n",
    "println(\"sp: fit: $(round(fit2.param[1],digits=4)), Σ_loc: $(round(imag(Σ_loc_os[νi-51]),digits=4)), left-right: $(round(lmr_sp,digits=6))\")\n",
    "\n",
    "p1 = plot(ωrange_s,imag.(r1_sp_full[1,νn,:].parent .* iω_n_arr.parent), ylims=(-0.5,0.5), legend=:topleft, markershape=:auto, label=\"λ₀_sp(ν_$(νn),ωn) * iω\")\n",
    "plot!(ωrange_s,real.(r1_sp_full[1,νn,:].parent .* iω_n_arr.parent.^2 ), markershape=:auto, label=\"λ₀_sp(ν_$(νn),ωn) * iω^2\")\n",
    "#plot!(imag.(core_ch[1,51,1:end] .* iω_i_arr[1:end]), markershape=:auto)\n",
    "hline!([ -imag(Σ_loc_os[νn])], label=\"Σ_DMFT(ν_$(νn))\")\n",
    "hline!([ fit2.param[1]], label=\"c_1 fit, c_1/ω\")\n"
   ]
  },
  {
   "cell_type": "code",
   "execution_count": 36,
   "metadata": {},
   "outputs": [
    {
     "ename": "LoadError",
     "evalue": "UndefVarError: `to_m_index` not defined in `Main`\nSuggestion: check for spelling errors or missing imports.",
     "output_type": "error",
     "traceback": [
      "UndefVarError: `to_m_index` not defined in `Main`\nSuggestion: check for spelling errors or missing imports.",
      "",
      "Stacktrace:",
      " [1] top-level scope",
      "   @ In[36]:1"
     ]
    }
   ],
   "source": [
    "λ_sp_out = to_m_index(λsp_ω_loc_test, sP)\n",
    "λ_ch_out = to_m_index(λch_ω_loc_test, sP)\n",
    "ωrange = -n_iω:n_iω\n",
    "ωl_s = length(ωrange)\n",
    "iω_n_arr = OffsetArray(2*im*(ωrange)*π/β,ωrange)\n",
    "xr = 10:45\n",
    "νn_test = 0\n",
    "plot(imag(λ_sp_out[νn_test,xr] .* iω_n_arr[xr]), markershape=:auto, label=\"λsp[iν_$νn_test] * iω\", legend=:bottomright)\n",
    "plot!(imag(λ_ch_out[νn_test,xr] .* iω_n_arr[xr]), markershape=:auto, label=\"λch[iν_$νn_test] * iω\")\n",
    "hline!(imag.([Σ_loc_offs[νn_test]]), label=\"Im(Σ_DMFT[iν_$νn_test])\")\n",
    "hline!(-imag.([Σ_loc_offs[νn_test]]), label=\"-Im(Σ_DMFT[iν_$νn_test])\")"
   ]
  },
  {
   "cell_type": "markdown",
   "metadata": {},
   "source": [
    "# Non-Local Σ_loc,  λ_r, λ_0 tests\n",
    "\n",
    "Improved asymptotics tests for Σ_loc (lDGA EoM, local case), non-local λʳ(q) and λʳ₀(q) = χʳ₀(q) ⋆ Fʳ\n",
    "\n",
    "## Comments\n",
    "\n",
    "Σν_lDGA and Σν_direct do not have a 1/x tail, since all λ tails cancel each other out."
   ]
  },
  {
   "cell_type": "code",
   "execution_count": 37,
   "metadata": {},
   "outputs": [
    {
     "data": {
      "text/plain": [
       "write_csv (generic function with 1 method)"
      ]
     },
     "execution_count": 37,
     "metadata": {},
     "output_type": "execute_result"
    }
   ],
   "source": [
    "using DelimitedFiles\n",
    "function write_csv() \n",
    "    νr_out = -50:50\n",
    "    for (ii,i) in enumerate(ωrange_s)\n",
    "        writedlm(\"lambda_phys_$(lpad(ii-1, 3, \"0\")).csv\", [collect(νr_out) real.(λ_ch_out[νr_out,i]) imag.(λ_ch_out[νr_out,i]) real.(λ_sp_out[νr_out,i]) imag.(λ_sp_out[νr_out,i])], \"        \\t\")\n",
    "    end\n",
    "end\n",
    "#write_csv()"
   ]
  },
  {
   "cell_type": "markdown",
   "metadata": {},
   "source": [
    "# Self Energy Tests"
   ]
  },
  {
   "cell_type": "code",
   "execution_count": 38,
   "metadata": {},
   "outputs": [
    {
     "ename": "LoadError",
     "evalue": "UndefVarError: `gImp_loc_test` not defined in `Main`\nSuggestion: check for spelling errors or missing imports.",
     "output_type": "error",
     "traceback": [
      "UndefVarError: `gImp_loc_test` not defined in `Main`\nSuggestion: check for spelling errors or missing imports.",
      "",
      "Stacktrace:",
      " [1] top-level scope",
      "   @ .\\In[38]:25"
     ]
    }
   ],
   "source": [
    "γsp_loc_test = (1 .- λsp_ω_loc_test)./transpose(1 .+ U .* χsp_ω_loc_test)\n",
    "γch_loc_test = (1 .+ λch_ω_loc_test)./transpose(1 .- U .* χch_ω_loc_test)\n",
    "Σ_h = n*U/2\n",
    "\n",
    "\n",
    "ωrange = -n_iω:n_iω\n",
    "νrange = -2*n_iν:2*n_iν\n",
    "ωl = length(ωrange)\n",
    "νl = length(νrange)\n",
    "ωrange_s = -n_iω:n_iω\n",
    "ωl_s = length(ωrange_s)\n",
    "#Σ_loc_os = OffsetArray(cat(conj(reverse(Σ_loc)),Σ_loc, dims=1),-length(Σ_loc):length(Σ_loc)-1)\n",
    "Σν_direct = OffsetArray(zeros(ComplexF64, νl),νrange)\n",
    "Σν_lDGA =  OffsetArray(zeros(ComplexF64, νl),νrange)\n",
    "Σ_loc = OffsetArray(cat(conj(reverse(Σ_loc_in)),Σ_loc_in, dims=1),-length(Σ_loc_in):length(Σ_loc_in)-1)\n",
    "iω_n_arr = OffsetArray(2*im*(ωrange_s)*π/β,ωrange_s)\n",
    "ω_sub = OffsetArray(zeros(ComplexF64, νl),νrange)\n",
    "λ_sp_out = OffsetArray(zeros(ComplexF64, νl,ωl), νrange, ωrange)\n",
    "λ_ch_out = OffsetArray(zeros(ComplexF64, νl,ωl), νrange, ωrange)\n",
    "dbg1 = OffsetArray(zeros(ComplexF64, νl,ωl,6), νrange, ωrange, 1:6)\n",
    "νn_test = 0\n",
    "for ωi in 1:size(λch_ω_loc_test,2)\n",
    "    for νi in 1:size(λch_ω_loc_test,1)\n",
    "        ωn,νn = OneToIndex_to_Freq(ωi, νi, n_iω, n_iν, shift)\n",
    "        Σν_direct[νn] += -(U/β) * 0.5 * (λch_ω_loc_test[νi,ωi] + λsp_ω_loc_test[νi,ωi]) * gImp_loc_test[νn + ωn]\n",
    "        Σν_lDGA[νn] += -(U/β) * (0.5 * γch_loc_test[νi,ωi]*(1-U*χch_ω_loc_test[ωi]) - 1.5*γsp_loc_test[νi,ωi]*(1+U*χsp_ω_loc_test[ωi]) + 1)*gImp_loc_test[νn + ωn] + (U/β) * (λsp_ω_loc_test[νi,ωi]) * gImp_loc_test[νn + ωn]\n",
    "        subt = (ωn != 0) ? 1/((2π*im*ωn/β)^2) : 0\n",
    "        ω_sub[νn] += subt\n",
    "        dbg1[νn,ωn, 1] = γch_loc_test[νi,ωi]\n",
    "        dbg1[νn,ωn, 2] = 0.5 *(1-U*χch_ω_loc_test[ωi])\n",
    "        dbg1[νn,ωn, 3] = γsp_loc_test[νi,ωi]\n",
    "        dbg1[νn,ωn, 4] = 1.5*(1+U*χsp_ω_loc_test[ωi])\n",
    "        dbg1[νn,ωn, 5] = λsp_ω_loc_test[νi,ωi]\n",
    "        dbg1[νn,ωn, 6] = gImp_loc_test[νn + ωn]\n",
    "    end\n",
    "end\n",
    "#Σν_lDGA_sub = Σν_lDGA[0:n_iν-1] ./ (1 .- U*β/12 .- (U/β)*ω_sub[0:n_iν-1])#\n",
    "#Σν_direct_sub = Σν_direct[0:n_iν-1] ./  (1 .- U*β/12 .- (U/β)*ω_sub[0:n_iν-1]);"
   ]
  },
  {
   "cell_type": "code",
   "execution_count": 39,
   "metadata": {},
   "outputs": [
    {
     "name": "stderr",
     "output_type": "stream",
     "text": [
      "WARNING: using Dispersions.Nk in module Main conflicts with an existing identifier.\n"
     ]
    },
    {
     "ename": "LoadError",
     "evalue": "UndefVarError: `ν_axis` not defined in `LadderDGA`\nSuggestion: check for spelling errors or missing imports.",
     "output_type": "error",
     "traceback": [
      "UndefVarError: `ν_axis` not defined in `LadderDGA`\nSuggestion: check for spelling errors or missing imports.",
      "",
      "Stacktrace:",
      " [1] getproperty(x::Module, f::Symbol)",
      "   @ Base .\\Base.jl:42",
      " [2] top-level scope",
      "   @ In[39]:3"
     ]
    }
   ],
   "source": [
    "using Dispersions \n",
    "ν0Index_of_ωIndex = LadderDGA.ν0Index_of_ωIndex\n",
    "ν_axis = LadderDGA.ν_axis\n",
    "q_axis = LadderDGA.q_axis\n",
    "\n",
    "\n",
    "\n",
    "function calc_Σ_ω_notebook!(Σ::AbstractArray{ComplexF64,3}, Kνωq::Array{ComplexF64}, Kνωq_pre::Array{ComplexF64, 1},\n",
    "            ωindices::AbstractArray{Int,1},\n",
    "            Q_sp::NonLocalQuantities, Q_ch::NonLocalQuantities, \n",
    "            Gνω::GνqT, λ₀::AbstractArray{ComplexF64,3}, U::Float64, kG, \n",
    "            sP::SimulationParameters)\n",
    "    fill!(Σ, zero(ComplexF64))\n",
    "    nd = length(gridshape(kG))\n",
    "    for ωii in 1:length(ωindices)\n",
    "        ωi = ωindices[ωii]\n",
    "        ωn = (ωi - sP.n_iω) - 1\n",
    "        fsp = 1.5 .* (1 .+ U .* view(Q_sp.χ,:,ωi))\n",
    "        fch = 0.5 .* (1 .- U .* view(Q_ch.χ,:,ωi))\n",
    "        νZero = ν0Index_of_ωIndex(ωi, sP)\n",
    "        maxn = minimum([νZero + sP.n_iν - 1, size(Q_ch.γ,ν_axis), νZero + size(Σ, ν_axis) - 1])\n",
    "        for (νi,νn) in enumerate(νZero:maxn)\n",
    "            v = selectdim(Gνω,nd+1,(νi-1) + ωn + sP.fft_offset)\n",
    "            if kG.Nk == 1\n",
    "                Σ[1,νi,ωii] = (Q_sp.γ[1,νn,ωi] * fsp[1] + Q_ch.γ[1,νn,ωi] * fch[1] - 1.5 + 0.5 - λ₀[1,νn,ωi]) * v[1]\n",
    "            else\n",
    "                @simd for qi in 1:size(Σ,q_axis)\n",
    "                    @inbounds Kνωq_pre[qi] = Q_sp.γ[qi,νn,ωi] * fsp[qi] - Q_ch.γ[qi,νn,ωi] * fch[qi] - 1.5 + 0.5 - λ₀[qi,νn,ωii]\n",
    "                end\n",
    "                conv_fft1!(kG, view(Σ,:,νi,ωii), Kνωq_pre, v)\n",
    "            end\n",
    "        end\n",
    "    end\n",
    "end\n",
    "\n",
    "function calc_Σ_ω_notebook2!(Σ::AbstractArray{ComplexF64,3}, Kνωq::Array{ComplexF64}, Kνωq_pre::Array{ComplexF64, 1},\n",
    "            ωindices::AbstractArray{Int,1},\n",
    "            Q_sp::NonLocalQuantities, Q_ch::NonLocalQuantities, \n",
    "            Gνω::GνqT, λ₀::AbstractArray{ComplexF64,3}, U::Float64, kG, \n",
    "            sP::SimulationParameters)\n",
    "    fill!(Σ, zero(ComplexF64))\n",
    "    nd = length(gridshape(kG))\n",
    "    dbg1 = OffsetArray(zeros(ComplexF64, νl,ωl,6), νrange, ωrange, 1:6)\n",
    "    \n",
    "    for ωi in 1:size(Q_sp.γ,3)\n",
    "        fsp = 1.5 .* (1 .+ U .* view(Q_sp.χ,:,ωi))\n",
    "        fch = 0.5 .* (1 .- U .* view(Q_ch.χ,:,ωi))\n",
    "        for νi in 1:size(Q_sp.γ,2)\n",
    "            ωn, νn = LadderDGA.OneToIndex_to_Freq(ωi, νi, sP)\n",
    "            if νn >= 0 && νn < sP.n_iν\n",
    "            v = selectdim(Gνω,nd+1,νn + ωn + sP.fft_offset)\n",
    "            if kG.Nk == 1\n",
    "                    #Σν_lDGA[νn] += -(U/β) * (0.5 * γch_loc_test[νi,ωi]*(1-U*χch_ω_loc_test[ωi]) - 1.5*γsp_loc_test[νi,ωi]*(1+U*χsp_ω_loc_test[ωi]) + 1)*gImp_loc_test[νn + ωn] + (U/β) * (λsp_ω_loc_test[νi,ωi]) * gImp_loc_test[νn + ωn]\n",
    "\n",
    "                Σ[1,νn,ωn] = -(U) * ((Q_ch.γ[1,νi,ωi]) * fch[1] - Q_sp.γ[1,νi,ωi] * fsp[1] + 1.5 - 0.5 - λ₀[1,νi,ωi]) * v[1]\n",
    "            dbg1[νn,ωn, 1] = Q_ch.γ[1,νi,ωi]\n",
    "            dbg1[νn,ωn, 2] = fch[1]\n",
    "            dbg1[νn,ωn, 3] = Q_sp.γ[1,νi,ωi]\n",
    "            dbg1[νn,ωn, 4] = fsp[1]\n",
    "            dbg1[νn,ωn, 5] = λ₀[1,νi,ωi]\n",
    "            dbg1[νn,ωn, 6] = v[1]\n",
    "            else\n",
    "                @simd for qi in 1:size(Σ,q_axis)\n",
    "                    @inbounds Kνωq_pre[qi] = -(U) * ((Q_ch.γ[qi,νi,ωi]) * fch[1] - Q_sp.γ[qi,νi,ωi] * fsp[qi] + 1.5 - 0.5 - λ₀[qi,νi,ωi])\n",
    "                end\n",
    "                conv_fft1!(kG, view(Σ,:,νn,ωn), Kνωq_pre, v)\n",
    "            end\n",
    "            end\n",
    "        end\n",
    "    end\n",
    "    return dbg1\n",
    "end\n",
    "\n",
    "\n",
    "Nq = size(locQ_sp.χ,1)\n",
    "Nω = size(locQ_sp.χ,2)\n",
    "ωrange = -sP.n_iω:sP.n_iω\n",
    "Σ_hartree = mP.n * mP.U/2.0;\n",
    "ωindices = (sP.dbg_full_eom_omega) ? (1:Nω) : intersect(locQ_sp.usable_ω, locQ_ch.usable_ω)\n",
    "Kνωq = Array{ComplexF64, length(LadderDGA.gridshape(kG))}(undef, LadderDGA.gridshape(kG)...)\n",
    "Kνωq_pre = Array{ComplexF64, 1}(undef, length(kG.kMult))\n",
    "Σ_ladder_ω_notebook  = Array{Complex{Float64},3}(undef,Nq, sP.n_iν, length(ωrange))#OffsetArray( \n",
    "Σ_ladder_ω_notebook2 = OffsetArray( \n",
    "                         Array{Complex{Float64},3}(undef,Nq, sP.n_iν, length(ωrange)),\n",
    "                         1:Nq, 0:sP.n_iν-1, ωrange)\n",
    "kGridLoc = LadderDGA.gen_kGrid(\"3Dsc-0.2041241452319315\", 1)\n",
    "λ₀Loc = calc_λ0(χ₀Loc, Fsp, locQ_sp, mP, sP)\n",
    "calc_Σ_ω_notebook!(Σ_ladder_ω_notebook, Kνωq, Kνωq_pre, ωindices, locQ_sp, locQ_ch, gImp, λ₀Loc, mP.U, kGridLoc, sP)\n",
    "dbg2 = calc_Σ_ω_notebook2!(Σ_ladder_ω_notebook2, Kνωq, Kνωq_pre, ωindices, locQ_sp, locQ_ch, gImp, λ₀Loc, mP.U, kGridLoc, sP);\n",
    "tt2 = sum(Σ_ladder_ω_notebook2.parent, dims=3)[1,:,1] ./mP.β;"
   ]
  },
  {
   "cell_type": "code",
   "execution_count": 40,
   "metadata": {
    "scrolled": true
   },
   "outputs": [
    {
     "ename": "LoadError",
     "evalue": "UndefVarError: `Σ_ladder_ω_notebook2` not defined in `Main`\nSuggestion: check for spelling errors or missing imports.",
     "output_type": "error",
     "traceback": [
      "UndefVarError: `Σ_ladder_ω_notebook2` not defined in `Main`\nSuggestion: check for spelling errors or missing imports.",
      "",
      "Stacktrace:",
      " [1] top-level scope",
      "   @ In[40]:2"
     ]
    }
   ],
   "source": [
    "xr = 0:79\n",
    "tt = sum(Σ_ladder_ω_notebook2.parent, dims=3)[1,:,1] ./ mP.β\n",
    "plot(xr, imag(Σ_loc[xr]), markershape=:auto,markersize=8, label=\"Σ DMFT\", size=(400,300))\n",
    "plot!(xr, imag.(Σν_direct)[xr], markershape=:auto, legend=:bottomright, label=\"EoM direct\")\n",
    "#plot!(xr, imag(Σν_direct_sub[xr .+ 1]), markershape=:auto, label=\"Σ direct_sub\")\n",
    "plot!(xr, imag(Σν_lDGA[xr ]), markershape=:auto, label=\"Σ lDGA\")\n",
    "plot!(0:49, imag(Σ_ladderLoc[1:50]) , markershape=:auto, label=\"Σ lDGA int\", markersize=10,alpha=0.5)\n",
    "plot!(0:49, imag(tt2[1:50]) , markershape=:auto, label=\"Σ lDGA internal_test\")\n",
    "\n",
    "vline!([35], label=\"nFermi\")"
   ]
  },
  {
   "cell_type": "markdown",
   "metadata": {},
   "source": [
    "## Non-Local EoM"
   ]
  },
  {
   "cell_type": "code",
   "execution_count": 41,
   "metadata": {},
   "outputs": [
    {
     "ename": "LoadError",
     "evalue": "UndefVarError: `nlQ_sp` not defined in `Main`\nSuggestion: check for spelling errors or missing imports.",
     "output_type": "error",
     "traceback": [
      "UndefVarError: `nlQ_sp` not defined in `Main`\nSuggestion: check for spelling errors or missing imports.",
      "",
      "Stacktrace:",
      " [1] top-level scope",
      "   @ In[41]:1"
     ]
    }
   ],
   "source": [
    "Nq = size(nlQ_sp.χ,1)\n",
    "Nω = size(nlQ_sp.χ,2)\n",
    "ωrange = -sP.n_iω:sP.n_iω\n",
    "ωindices = 1:Nω\n",
    "qi_pl = 10\n",
    "Kνωq = Array{ComplexF64, length(LadderDGA.gridshape(kG))}(undef, LadderDGA.gridshape(kG)...)\n",
    "Kνωq_pre = Array{ComplexF64, 1}(undef, length(kG.kMult))\n",
    "Σ_ladder_ω_notebook = Array{Complex{Float64},3}(undef,Nq, sP.n_iν, length(ωrange))#OffsetArray( \n",
    "Σ_ladder_ω_notebook2_nl = OffsetArray( \n",
    "                         Array{Complex{Float64},3}(undef,Nq, sP.n_iν, length(ωrange)),\n",
    "                         1:Nq, 0:n_iν-1, ωrange)\n",
    "λ₀ = calc_λ0(bubble, Fsp, locQ_sp, mP, sP)\n",
    "@time calc_Σ_ω_notebook2!(Σ_ladder_ω_notebook2_nl, Kνωq, Kνωq_pre, ωindices, nlQ_sp, nlQ_ch, gLoc_fft, λ₀, mP.U, kG, sP);\n",
    "tt_nl = sum(Σ_ladder_ω_notebook2_nl.parent, dims=3)[:,:,1] ./ mP.β;\n",
    "tt_nl_kint = kintegrate(kG, tt_nl, 1)[1,:];\n",
    "plot(imag(tt_nl_kint), label=\"∫Σ_lDGA(q,νₙ) dq\", markershape=:auto, lagend=:bottomright, size=(500,300), legend=:bottomright)\n",
    "plot!(0:49, imag(tt_nl[qi_pl,1:50]) , markershape=:auto, label=\"Σ lDGA internal_test, q=$(round.(kG.kGrid[qi_pl], digits=1))\")"
   ]
  },
  {
   "cell_type": "code",
   "execution_count": 42,
   "metadata": {},
   "outputs": [
    {
     "ename": "LoadError",
     "evalue": "UndefVarError: `improve_λ₀` not defined in `Main`\nSuggestion: check for spelling errors or missing imports.",
     "output_type": "error",
     "traceback": [
      "UndefVarError: `improve_λ₀` not defined in `Main`\nSuggestion: check for spelling errors or missing imports.",
      "",
      "Stacktrace:",
      " [1] top-level scope",
      "   @ In[42]:1"
     ]
    }
   ],
   "source": [
    "λ_0_sp_f_impr,bs_qw = improve_λ₀(:sp, kG, λ_0_sp_f, bubble, zeros(size(λsp_loc)));\n",
    "bs_w = kintegrate(kG, bs_qw, 1)[1,:];"
   ]
  },
  {
   "cell_type": "code",
   "execution_count": 43,
   "metadata": {},
   "outputs": [
    {
     "ename": "LoadError",
     "evalue": "UndefVarError: `bs_qw` not defined in `Main`\nSuggestion: check for spelling errors or missing imports.",
     "output_type": "error",
     "traceback": [
      "UndefVarError: `bs_qw` not defined in `Main`\nSuggestion: check for spelling errors or missing imports.",
      "",
      "Stacktrace:",
      " [1] top-level scope",
      "   @ In[43]:1"
     ]
    }
   ],
   "source": [
    "plot(abs.(bs_qw[1,xr] .* iω_n_arr[xr] .^2),markershape=:auto,legend=nothing)\n",
    "plot!(abs.(bs_w[xr] .* iω_n_arr[xr] .^2),markershape=:auto,legend=nothing)"
   ]
  },
  {
   "cell_type": "code",
   "execution_count": 44,
   "metadata": {},
   "outputs": [
    {
     "ename": "LoadError",
     "evalue": "UndefVarError: `λ_0_ch_f_impr` not defined in `Main`\nSuggestion: check for spelling errors or missing imports.",
     "output_type": "error",
     "traceback": [
      "UndefVarError: `λ_0_ch_f_impr` not defined in `Main`\nSuggestion: check for spelling errors or missing imports.",
      "",
      "Stacktrace:",
      " [1] top-level scope",
      "   @ In[44]:1"
     ]
    }
   ],
   "source": [
    "λ_0_updo_f_impr  = 0.5 .* (λ_0_ch_f_impr .- λ_0_sp_f_impr)\n",
    "λ_0_updo_f_impr2 = 0.5 .* (λ_0_ch_f_impr2 .- λ_0_sp_f_impr2)\n",
    "\n",
    "p1 = plot(xr, imag.(λ_0_sp_f_impr[qi_p,νi_p,xr .+ sP.n_iω .+ 1] .* iω_n_arr[xr]), markershape=:auto, label=\"sp * iω\", legend=:topleft)\n",
    "plot!(xr, real.(λ_0_sp_f_impr[qi_p,νi_p,xr .+ sP.n_iω .+ 1] .* iω_n_arr[xr] .^2), markershape=:auto, label=\"sp * iω^2\")\n",
    "p2 = plot(xr, imag.(λ_0_ch_f_impr[qi_p,νi_p,xr .+ sP.n_iω .+ 1] .* iω_n_arr[xr]), markershape=:auto, label=\"ch * iω\", legend=:topleft)\n",
    "plot!(xr, real.(λ_0_ch_f_impr[qi_p,νi_p,xr .+ sP.n_iω .+ 1] .* iω_n_arr[xr] .^2), markershape=:auto, label=\"ch * iω^2\")\n",
    "p3 = plot(xr, imag.(λ_0_updo_f_impr[qi_p,νi_p,xr .+ sP.n_iω .+ 1] .* iω_n_arr[xr]), markershape=:auto, label=\"ud * iω\", legend=:topleft)\n",
    "plot!(xr, real.(λ_0_updo_f_impr[qi_p,νi_p,xr .+ sP.n_iω .+ 1] .* iω_n_arr[xr] .^2), markershape=:auto, label=\"ud * iω^2\")\n",
    "\n",
    "p4 = plot(xr, imag.(λ_0_sp_f_impr2[qi_p,νi_p,xr .+ sP.n_iω .+ 1] .* iω_n_arr[xr]), markershape=:auto, label=\"2, sp * iω\", legend=:topleft)\n",
    "plot!(xr, real.(λ_0_sp_f_impr2[qi_p,νi_p,xr .+ sP.n_iω .+ 1] .* iω_n_arr[xr] .^2), markershape=:auto, label=\"2, sp * iω^2\")\n",
    "p5 = plot(xr, imag.(λ_0_ch_f_impr2[qi_p,νi_p,xr .+ sP.n_iω .+ 1] .* iω_n_arr[xr]), markershape=:auto, label=\"2, ch * iω\", legend=:topleft)\n",
    "plot!(xr, real.(λ_0_ch_f_impr2[qi_p,νi_p,xr .+ sP.n_iω .+ 1] .* iω_n_arr[xr] .^2), markershape=:auto, label=\"2, ch * iω^2\")\n",
    "p6 = plot(xr, imag.(λ_0_updo_f_impr2[qi_p,νi_p,xr .+ sP.n_iω .+ 1] .* iω_n_arr[xr]), markershape=:auto, label=\"2, ud * iω\", legend=:topleft)\n",
    "plot!(xr, real.(λ_0_updo_f_impr2[qi_p,νi_p,xr .+ sP.n_iω .+ 1] .* iω_n_arr[xr] .^2), markershape=:auto, label=\"2, ud * iω^2\")\n",
    "title = plot( title=\"λ_0,r improved at q=$(round.(kG.kGrid[qi_p],digits=2)), ν=$(νn_p))\", grid = false, showaxis = false, bottom_margin = -50Plots.px)\n",
    "l = @layout [a{0.01h}; grid(1,3)]\n",
    "plot(title, p4,p5,p6, layout = l, size=(900,600))"
   ]
  },
  {
   "cell_type": "code",
   "execution_count": 45,
   "metadata": {},
   "outputs": [
    {
     "ename": "LoadError",
     "evalue": "UndefVarError: `r1_sp_full` not defined in `Main`\nSuggestion: check for spelling errors or missing imports.",
     "output_type": "error",
     "traceback": [
      "UndefVarError: `r1_sp_full` not defined in `Main`\nSuggestion: check for spelling errors or missing imports.",
      "",
      "Stacktrace:",
      " [1] top-level scope",
      "   @ In[45]:1"
     ]
    }
   ],
   "source": [
    "r1_sp_full[qi,νn,:]"
   ]
  },
  {
   "cell_type": "markdown",
   "metadata": {},
   "source": [
    "# lambda correction\n",
    "## sp"
   ]
  },
  {
   "cell_type": "markdown",
   "metadata": {},
   "source": [
    "## sp + ch"
   ]
  },
  {
   "cell_type": "code",
   "execution_count": null,
   "metadata": {},
   "outputs": [],
   "source": []
  },
  {
   "cell_type": "code",
   "execution_count": null,
   "metadata": {},
   "outputs": [],
   "source": []
  }
 ],
 "metadata": {
  "kernelspec": {
   "display_name": "Julia 1.11.1",
   "language": "julia",
   "name": "julia-1.11"
  },
  "language_info": {
   "file_extension": ".jl",
   "mimetype": "application/julia",
   "name": "julia",
   "version": "1.11.1"
  }
 },
 "nbformat": 4,
 "nbformat_minor": 4
}
