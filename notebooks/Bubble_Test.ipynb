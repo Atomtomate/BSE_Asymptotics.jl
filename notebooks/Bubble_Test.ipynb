{
 "cells": [
  {
   "cell_type": "markdown",
   "metadata": {},
   "source": [
    "# Direct Asympt Local Tests\n",
    "## local χ₀ Sum\n",
    "This tests for the correct tails coefficients for χ₀ in local case."
   ]
  },
  {
   "cell_type": "code",
   "execution_count": 2,
   "metadata": {},
   "outputs": [
    {
     "name": "stderr",
     "output_type": "stream",
     "text": [
      "\u001b[32m\u001b[1m  Activating\u001b[22m\u001b[39m project at `~/Codes/LadderDGA.jl`\n"
     ]
    }
   ],
   "source": [
    "testf = \"/home/julisn/Hamburg/ED_data/asympt_tests/b5.0_mu1.0_tp0.jld2\"\n",
    "testfc = \"/home/julisn/Hamburg/ED_data/asympt_tests/b5.0_mu1.0_tp0.toml\"\n",
    "\n",
    "using Plots\n",
    "using OffsetArrays\n",
    "using JLD2\n",
    "\n",
    "using TimerOutputs\n",
    "using Pkg\n",
    "Pkg.activate(\"/home/julisn/Codes/LadderDGA.jl\")\n",
    "using LadderDGA\n",
    "using FFTW\n",
    "\n",
    "F_from_χ = LadderDGA.F_from_χ\n",
    "_eltype = ComplexF64;\n"
   ]
  },
  {
   "cell_type": "code",
   "execution_count": 3,
   "metadata": {},
   "outputs": [
    {
     "name": "stdout",
     "output_type": "stream",
     "text": [
      "\u001b[36m\u001b[1m[ \u001b[22m\u001b[39m\u001b[36m\u001b[1mInfo: \u001b[22m\u001b[39mReading Inputs...\n",
      "\u001b[36m\u001b[1m[ \u001b[22m\u001b[39m\u001b[36m\u001b[1mInfo: \u001b[22m\u001b[39mSetting up calculation for kGrid 2Dsc-0.25-0.0-0.0 of size 10\n",
      "DBG: NOT using diagonal terms in λ₀\n",
      "\u001b[36m\u001b[1m┌ \u001b[22m\u001b[39m\u001b[36m\u001b[1mInfo: \u001b[22m\u001b[39mInputs Read. Starting Computation.\n",
      "\u001b[36m\u001b[1m│ \u001b[22m\u001b[39mLocal susceptibilities with ranges are:\n",
      "\u001b[36m\u001b[1m│ \u001b[22m\u001b[39mχLoc_m(1:201) = 0.4485, χLoc_d(1:201) = 0.0515\n",
      "\u001b[36m\u001b[1m└ \u001b[22m\u001b[39msum χupup check (plain ?≈? tail sub ?≈? imp_dens ?≈? n/2 (1-n/2)): 0.24961002239163782 ?=? 0.24999962312363214 ?≈? 0.24999962312363216 ≟ 0.24999999999999997\"\n"
     ]
    }
   ],
   "source": [
    "wp, mP, sP, env, kGridsStr = readConfig(testfc);\n",
    "lDGAhelper = setup_LDGA(kGridsStr[1], mP, sP, env);"
   ]
  },
  {
   "cell_type": "code",
   "execution_count": null,
   "metadata": {},
   "outputs": [
    {
     "name": "stdout",
     "output_type": "stream",
     "text": [
      "\u001b[36m\u001b[1m[ \u001b[22m\u001b[39m\u001b[36m\u001b[1mInfo: \u001b[22m\u001b[39mm channel: |∑χ(q=0,ω≠0)| = 0.000266644763 ≟ 0\n",
      "\u001b[36m\u001b[1m[ \u001b[22m\u001b[39m\u001b[36m\u001b[1mInfo: \u001b[22m\u001b[39md channel: |∑χ(q=0,ω≠0)| = 0.00024166647 ≟ 0\n",
      "DBG: NOT using diagonal terms in λ₀\n"
     ]
    }
   ],
   "source": [
    "FUpDo = F_from_χ(0.5 * (lDGAhelper.χDMFT_d .- lDGAhelper.χDMFT_m), lDGAhelper.gImp[1,:], sP, mP.β);\n",
    "Fsp = F_from_χ(lDGAhelper.χDMFT_m, lDGAhelper.gImp[1,:], sP, mP.β);\n",
    "Fch = F_from_χ(lDGAhelper.χDMFT_d, lDGAhelper.gImp[1,:], sP, mP.β);\n",
    "bubble = calc_bubble(:DMFT, lDGAhelper);\n",
    "χm, γm  = calc_χγ(:m, lDGAhelper, bubble);\n",
    "χd, γd = calc_χγ(:d, lDGAhelper, bubble);\n",
    "λ₀ = calc_λ0(bubble, lDGAhelper)"
   ]
  },
  {
   "cell_type": "code",
   "execution_count": 3,
   "metadata": {},
   "outputs": [
    {
     "ename": "LoadError",
     "evalue": "UndefVarError: FullKGrid not defined",
     "output_type": "error",
     "traceback": [
      "UndefVarError: FullKGrid not defined",
      "",
      "Stacktrace:",
      " [1] top-level scope",
      "   @ In[3]:33",
      " [2] eval",
      "   @ ./boot.jl:373 [inlined]",
      " [3] include_string(mapexpr::typeof(REPL.softscope), mod::Module, code::String, filename::String)",
      "   @ Base ./loading.jl:1196"
     ]
    }
   ],
   "source": [
    "function scKGrid(ksteps :: Int64)\n",
    "    kGrid = Array{NTuple{3,Float64},1}(undef,ksteps^3)\n",
    "    #[(2*π/Nk) * j - π for j in 1:Nk]\n",
    "    ki_monkhorst = [(2*i - ksteps )/(2*ksteps) for i in 1:ksteps]\n",
    "    for kx in 0:ksteps-1 \n",
    "        for ky in 0:ksteps-1\n",
    "            for kz in 0:ksteps-1\n",
    "                kGrid[kx*ksteps^2+ky*ksteps+kz+1] = (2*pi*ki_monkhorst[kx+1],\n",
    "                 2*pi*ki_monkhorst[ky+1],\n",
    "                 2*pi*ki_monkhorst[kz+1])\n",
    "            end\n",
    "        end\n",
    "    end \n",
    "    return kGrid\n",
    "end\n",
    "\n",
    "using ShiftedArrays\n",
    "\n",
    "function calc_bubble_notebook(Gνω, kG, kG_red, β, νgrid, ωgrid)\n",
    "    data = Array{ComplexF64,3}(undef, length(kG.kGrid), length(νgrid), length(ωgrid))\n",
    "    ifft_post(x) = ShiftedArrays.circshift(x, floor.(Int, gridshape(kG) ./ 2) .+ 1)\n",
    "    for (ωi,ωn) in enumerate(ωgrid)\n",
    "        for (νi,νn) in enumerate(νgrid)\n",
    "            v1 = fft(reshape(Gνω[:,ωn],gridshape(kG)))\n",
    "            v2 = fft(reshape(Gνω[:,νn+ωn],gridshape(kG)))\n",
    "            data[:,νi,ωi] = -β .* ifft_post(ifft(v1 .* v2))[:] ./ Dispersions.Nk(kG)\n",
    "        end\n",
    "    end\n",
    "\n",
    "    return data\n",
    "end\n",
    "\n",
    "function naive_bubble(fk::FullKGrid{T}, νgrid) where T\n",
    "    ωn = 0\n",
    "    \n",
    "    Σ_loc = 0#2.734962277113537 - 0.41638191263582125im\n",
    "    β = 14.0\n",
    "    μ = 0.5\n",
    "    disp(ki) = Dispersions.gen_ϵkGrid(T, [ki], fk.t)[1]\n",
    "    res = zeros(Complex{Float64}, length(fk.kGrid), length(νgrid))\n",
    "    for (νi, νn) in enumerate(νgrid)\n",
    "    for (kii,ki) in enumerate(fk.kGrid)\n",
    "        for (qii,qi) in enumerate(fk.kGrid)\n",
    "            Σ_int_ωn = Σ_loc\n",
    "            Σ_int_ωn_νn = Σ_loc\n",
    "            w1 = 1im * (π*(2*ωn+1)/β) + μ - disp(ki)\n",
    "            w2 = 1im * (π*(2*(ωn+νn)+1)/β) + μ - disp(ki .+ qi)\n",
    "            res[qii,νi] = res[qii,νi] - 1.0 / (w1 * w2)\n",
    "        end\n",
    "    end\n",
    "    end\n",
    "    return β .* res ./ length(fk.kGrid)\n",
    "end\n",
    "\n",
    "function naive_conv(kG::ReducedKGrid, arr1::AbstractArray, arr2::AbstractArray)\n",
    "    Nk(kG) == 1 && return arr1 .* arr2\n",
    "    a1 = expandKArr(kG, arr1)\n",
    "    a2 = expandKArr(kG, arr2)\n",
    "    res = zeros(eltype(arr1), size(a1))\n",
    "    mi = size(a2)\n",
    "    for j in CartesianIndices(a2)\n",
    "        for i in CartesianIndices(a1)\n",
    "            ii = mod1.(Tuple(j) .+ Tuple(i) .- Tuple(ones(Int,length(i))), size(a1))\n",
    "            res[j] += a1[j]*a2[ii...]\n",
    "        end\n",
    "    end\n",
    "    return res ./ Nk(kG)\n",
    "end"
   ]
  },
  {
   "cell_type": "code",
   "execution_count": 4,
   "metadata": {},
   "outputs": [
    {
     "ename": "LoadError",
     "evalue": "MethodError: no method matching scKGrid(::typeof(Nk))\n\u001b[0mClosest candidates are:\n\u001b[0m  scKGrid(\u001b[91m::Int64\u001b[39m) at In[3]:1",
     "output_type": "error",
     "traceback": [
      "MethodError: no method matching scKGrid(::typeof(Nk))\n\u001b[0mClosest candidates are:\n\u001b[0m  scKGrid(\u001b[91m::Int64\u001b[39m) at In[3]:1",
      "",
      "Stacktrace:",
      " [1] top-level scope",
      "   @ In[4]:4",
      " [2] eval",
      "   @ ./boot.jl:373 [inlined]",
      " [3] include_string(mapexpr::typeof(REPL.softscope), mod::Module, code::String, filename::String)",
      "   @ Base ./loading.jl:1196"
     ]
    }
   ],
   "source": [
    "using Dispersions\n",
    "Nki = 6;\n",
    "\n",
    "kPoints= scKGrid(Nk);\n",
    "kGrid = LadderDGA.gen_kGrid(\"3Dsc-0.2041241452319315\", Nki)\n",
    "kGrid_full = LadderDGA.gen_kGrid(\"3Dsc-0.2041241452319315\", Nki,full=true)\n",
    "νGrid = -2*(sP.n_iν + sP.n_iω):2*(sP.n_iν + sP.n_iω) \n",
    "\n",
    "nd = 3\n",
    "G_fft = OffsetArray(Array{ComplexF64, 2}(undef, length(kGrid_full.kGrid), length(νGrid)), 1:length(kGrid_full.kGrid), νGrid)\n",
    "GTest = OffsetArray(Array{ComplexF64,2}(undef, length(kGrid_full.kGrid), length(νGrid)), 1:length(kGrid_full.kGrid), νGrid)\n",
    "G_manual = OffsetArray(Array{ComplexF64, 2}(undef, Dispersions.Nk(kGrid_full), length(νGrid)),1:Dispersions.Nk(kGrid_full),νGrid)\n",
    "\n",
    "for (νi,νn) in enumerate(νGrid)\n",
    "    for (ki,ϵₖ) in enumerate(kGrid_full.ϵkGrid)\n",
    "        GTest[ki,νn] = 1/((π/mP.β)*(2*νn + 1)*1im - mP.μ + ϵₖ)\n",
    "    end\n",
    "    #expanded_arr = expandKArr(kGrid, GTest[:,νn].parent)\n",
    "    G_manual[:,νn]=GTest[:,νn]\n",
    "    G_fft[:,νn]=fft(reshape(GTest[:,νn],gridshape(kGrid_full)...))[:]\n",
    "    #selectdim(G_fft,nd+1,νi) .= fft(reshape(G_manual[:,νi], gridshape(kGrid_full)...))\n",
    "end"
   ]
  },
  {
   "cell_type": "code",
   "execution_count": 5,
   "metadata": {},
   "outputs": [
    {
     "ename": "LoadError",
     "evalue": "UndefVarError: kGrid_full not defined",
     "output_type": "error",
     "traceback": [
      "UndefVarError: kGrid_full not defined",
      "",
      "Stacktrace:",
      " [1] top-level scope",
      "   @ In[5]:2",
      " [2] eval",
      "   @ ./boot.jl:373 [inlined]",
      " [3] include_string(mapexpr::typeof(REPL.softscope), mod::Module, code::String, filename::String)",
      "   @ Base ./loading.jl:1196"
     ]
    }
   ],
   "source": [
    "#bubble_test = calc_bubble(G_fft, kGrid, mP, sP);\n",
    "bubble_test2 = naive_bubble(kGrid_full, -100:100);"
   ]
  },
  {
   "cell_type": "code",
   "execution_count": 6,
   "metadata": {},
   "outputs": [
    {
     "ename": "LoadError",
     "evalue": "UndefVarError: bubble_test2 not defined",
     "output_type": "error",
     "traceback": [
      "UndefVarError: bubble_test2 not defined",
      "",
      "Stacktrace:",
      " [1] top-level scope",
      "   @ In[6]:1",
      " [2] eval",
      "   @ ./boot.jl:373 [inlined]",
      " [3] include_string(mapexpr::typeof(REPL.softscope), mod::Module, code::String, filename::String)",
      "   @ Base ./loading.jl:1196"
     ]
    }
   ],
   "source": [
    "reduceKArr(kGrid, reshape(bubble_test2[:,101], gridshape(kGrid_full)))"
   ]
  },
  {
   "cell_type": "code",
   "execution_count": 7,
   "metadata": {},
   "outputs": [
    {
     "ename": "LoadError",
     "evalue": "UndefVarError: bubble_test2 not defined",
     "output_type": "error",
     "traceback": [
      "UndefVarError: bubble_test2 not defined",
      "",
      "Stacktrace:",
      " [1] top-level scope",
      "   @ In[7]:1",
      " [2] eval",
      "   @ ./boot.jl:373 [inlined]",
      " [3] include_string(mapexpr::typeof(REPL.softscope), mod::Module, code::String, filename::String)",
      "   @ Base ./loading.jl:1196"
     ]
    }
   ],
   "source": [
    "bubble_test2[:,201]"
   ]
  },
  {
   "cell_type": "code",
   "execution_count": 8,
   "metadata": {},
   "outputs": [
    {
     "ename": "LoadError",
     "evalue": "UndefVarError: testdata not defined",
     "output_type": "error",
     "traceback": [
      "UndefVarError: testdata not defined",
      "",
      "Stacktrace:",
      " [1] top-level scope",
      "   @ In[8]:1",
      " [2] eval",
      "   @ ./boot.jl:373 [inlined]",
      " [3] include_string(mapexpr::typeof(REPL.softscope), mod::Module, code::String, filename::String)",
      "   @ Base ./loading.jl:1196"
     ]
    }
   ],
   "source": [
    "testdata[:,6,2]"
   ]
  },
  {
   "cell_type": "code",
   "execution_count": 9,
   "metadata": {},
   "outputs": [
    {
     "ename": "LoadError",
     "evalue": "UndefVarError: testdata not defined",
     "output_type": "error",
     "traceback": [
      "UndefVarError: testdata not defined",
      "",
      "Stacktrace:",
      " [1] top-level scope",
      "   @ In[9]:1",
      " [2] eval",
      "   @ ./boot.jl:373 [inlined]",
      " [3] include_string(mapexpr::typeof(REPL.softscope), mod::Module, code::String, filename::String)",
      "   @ Base ./loading.jl:1196"
     ]
    }
   ],
   "source": [
    "reduceKArr(kGrid, reshape(testdata[:,6,2], gridshape(kGrid_full)))"
   ]
  },
  {
   "cell_type": "code",
   "execution_count": 10,
   "metadata": {},
   "outputs": [
    {
     "ename": "LoadError",
     "evalue": "UndefVarError: G_manual not defined",
     "output_type": "error",
     "traceback": [
      "UndefVarError: G_manual not defined",
      "",
      "Stacktrace:",
      " [1] top-level scope",
      "   @ In[10]:1",
      " [2] eval",
      "   @ ./boot.jl:373 [inlined]",
      " [3] include_string(mapexpr::typeof(REPL.softscope), mod::Module, code::String, filename::String)",
      "   @ Base ./loading.jl:1196"
     ]
    }
   ],
   "source": [
    "testdata=calc_bubble_notebook(G_manual,kGrid_full, kGrid,14.0,-5:5,-1:1)\n",
    "reduceKArr(kGrid, reshape(testdata[:,6,2], gridshape(kGrid)))"
   ]
  },
  {
   "cell_type": "code",
   "execution_count": 11,
   "metadata": {},
   "outputs": [
    {
     "ename": "LoadError",
     "evalue": "cannot assign a value to variable Dispersions.Nk from module Main",
     "output_type": "error",
     "traceback": [
      "cannot assign a value to variable Dispersions.Nk from module Main",
      "",
      "Stacktrace:",
      " [1] top-level scope",
      "   @ In[11]:2",
      " [2] eval",
      "   @ ./boot.jl:373 [inlined]",
      " [3] include_string(mapexpr::typeof(REPL.softscope), mod::Module, code::String, filename::String)",
      "   @ Base ./loading.jl:1196"
     ]
    }
   ],
   "source": [
    "using Dispersions\n",
    "Nk = 20;\n",
    "\n",
    "kPoints= ScKGrid(Nk);\n",
    "kGrid = LadderDGA.gen_kGrid(\"3Dsc-0.2041241452319315\", Nk)\n",
    "kGrid_full = LadderDGA.gen_kGrid(\"3Dsc-0.2041241452319315\", Nk,full=true)\n",
    "νGrid = -2*(sP.n_iν + sP.n_iω):2*(sP.n_iν + sP.n_iω) \n",
    "\n",
    "nd = 3\n",
    "G_fft = Array{ComplexF64, nd+1}(undef, gridshape(kGrid)..., length(νGrid))\n",
    "GTest = OffsetArray(Array{ComplexF64,2}(undef, length(kGrid_full.kGrid), length(νGrid)), 1:length(kGrid_full.kGrid), νGrid)\n",
    "G_manual = Array{ComplexF64, 2}(undef, Nk^3, length(νGrid))\n",
    "\n",
    "for (νi,νn) in enumerate(νGrid)\n",
    "    for (ki,ϵₖ) in enumerate(kGrid_full.ϵkGrid)\n",
    "        GTest[ki,νn] = 1/((π/mP.β)*(2*νn + 1)*1im - mP.μ + ϵₖ)\n",
    "    end\n",
    "    #expanded_arr = expandKArr(kGrid, GTest[:,νn].parent)\n",
    "    G_manual[:,νi]=GTest[:,νn]\n",
    "    selectdim(G_fft,nd+1,νi) .= fft(reshape(G_manual[:,νi], gridshape(kGrid_full)...))\n",
    "end"
   ]
  },
  {
   "cell_type": "code",
   "execution_count": 12,
   "metadata": {},
   "outputs": [
    {
     "ename": "LoadError",
     "evalue": "type WorkerPool has no field μ",
     "output_type": "error",
     "traceback": [
      "type WorkerPool has no field μ",
      "",
      "Stacktrace:",
      " [1] getproperty(x::Distributed.WorkerPool, f::Symbol)",
      "   @ Base ./Base.jl:42",
      " [2] top-level scope",
      "   @ In[12]:1",
      " [3] eval",
      "   @ ./boot.jl:373 [inlined]",
      " [4] include_string(mapexpr::typeof(REPL.softscope), mod::Module, code::String, filename::String)",
      "   @ Base ./loading.jl:1196"
     ]
    }
   ],
   "source": [
    "mP.μ"
   ]
  },
  {
   "cell_type": "code",
   "execution_count": 13,
   "metadata": {},
   "outputs": [
    {
     "ename": "LoadError",
     "evalue": "MethodError: no method matching gen_kGrid(::String, ::typeof(Nk); full=true)\n\u001b[0mClosest candidates are:\n\u001b[0m  gen_kGrid(::String, \u001b[91m::Int64\u001b[39m) at ~/.julia/packages/Dispersions/sQvZB/src/KGrid.jl:58\u001b[91m got unsupported keyword argument \"full\"\u001b[39m",
     "output_type": "error",
     "traceback": [
      "MethodError: no method matching gen_kGrid(::String, ::typeof(Nk); full=true)\n\u001b[0mClosest candidates are:\n\u001b[0m  gen_kGrid(::String, \u001b[91m::Int64\u001b[39m) at ~/.julia/packages/Dispersions/sQvZB/src/KGrid.jl:58\u001b[91m got unsupported keyword argument \"full\"\u001b[39m",
      "",
      "Stacktrace:",
      " [1] top-level scope",
      "   @ In[13]:1",
      " [2] eval",
      "   @ ./boot.jl:373 [inlined]",
      " [3] include_string(mapexpr::typeof(REPL.softscope), mod::Module, code::String, filename::String)",
      "   @ Base ./loading.jl:1196"
     ]
    }
   ],
   "source": [
    "kGrid_full = LadderDGA.gen_kGrid(\"3Dsc-0.2041241452319315\", Nk,full=true)"
   ]
  },
  {
   "cell_type": "code",
   "execution_count": 14,
   "metadata": {},
   "outputs": [
    {
     "ename": "LoadError",
     "evalue": "UndefVarError: kGrid not defined",
     "output_type": "error",
     "traceback": [
      "UndefVarError: kGrid not defined",
      "",
      "Stacktrace:",
      " [1] top-level scope",
      "   @ In[14]:1",
      " [2] eval",
      "   @ ./boot.jl:373 [inlined]",
      " [3] include_string(mapexpr::typeof(REPL.softscope), mod::Module, code::String, filename::String)",
      "   @ Base ./loading.jl:1196"
     ]
    }
   ],
   "source": [
    "Γ_to_X = findall(x -> (x[2] ≈ 0) && (x[3] ≈ 0), kGrid.kGrid)[1:end-1]\n",
    "X_to_M = findall(x -> (x[1] ≈ π) && (x[3] ≈ 0), kGrid.kGrid)[1:end-1]\n",
    "M_to_Γ = reverse(findall(x -> (x[1] ≈ x[2]) && (x[3] ≈ 0), kGrid.kGrid))[1:end-1]\n",
    "Γ_to_R = findall(x -> (x[1] ≈ x[2]) && (x[3] ≈ x[2]), kGrid.kGrid)[1:end-1];\n",
    "path = cat(Γ_to_X, X_to_M, M_to_Γ, Γ_to_R, dims=1);"
   ]
  },
  {
   "cell_type": "code",
   "execution_count": 15,
   "metadata": {},
   "outputs": [
    {
     "ename": "LoadError",
     "evalue": "UndefVarError: kGrid_full not defined",
     "output_type": "error",
     "traceback": [
      "UndefVarError: kGrid_full not defined",
      "",
      "Stacktrace:",
      " [1] top-level scope",
      "   @ In[15]:1",
      " [2] eval",
      "   @ ./boot.jl:373 [inlined]",
      " [3] include_string(mapexpr::typeof(REPL.softscope), mod::Module, code::String, filename::String)",
      "   @ Base ./loading.jl:1196"
     ]
    }
   ],
   "source": [
    "Γ_to_X = findall(x -> (x[2] ≈ 0) && (x[3] ≈ 0), kGrid_full.kGrid)[1:end-1]\n",
    "X_to_M = findall(x -> (x[1] ≈ π) && (x[3] ≈ 0), kGrid_full.kGrid)[1:end-1]\n",
    "M_to_Γ = reverse(findall(x -> (x[1] ≈ x[2]) && (x[3] ≈ 0), kGrid_full.kGrid))[1:end-1]\n",
    "Γ_to_R = findall(x -> (x[1] ≈ x[2]) && (x[3] ≈ x[2]), kGrid_full.kGrid)[1:end-1];\n",
    "path = cat(Γ_to_X, X_to_M, M_to_Γ, Γ_to_R, dims=1);"
   ]
  },
  {
   "cell_type": "code",
   "execution_count": 16,
   "metadata": {},
   "outputs": [
    {
     "ename": "LoadError",
     "evalue": "UndefVarError: kGrid_full not defined",
     "output_type": "error",
     "traceback": [
      "UndefVarError: kGrid_full not defined",
      "",
      "Stacktrace:",
      " [1] top-level scope",
      "   @ In[16]:1",
      " [2] eval",
      "   @ ./boot.jl:373 [inlined]",
      " [3] include_string(mapexpr::typeof(REPL.softscope), mod::Module, code::String, filename::String)",
      "   @ Base ./loading.jl:1196"
     ]
    }
   ],
   "source": [
    "testi=findall(x -> x[1]==x[2] && x[3]==x[2],kGrid_full.kGrid)\n",
    "kGrid_full.kGrid[testi]"
   ]
  },
  {
   "cell_type": "code",
   "execution_count": 17,
   "metadata": {},
   "outputs": [
    {
     "ename": "LoadError",
     "evalue": "UndefVarError: kGrid_full not defined",
     "output_type": "error",
     "traceback": [
      "UndefVarError: kGrid_full not defined",
      "",
      "Stacktrace:",
      " [1] top-level scope",
      "   @ In[17]:1",
      " [2] eval",
      "   @ ./boot.jl:373 [inlined]",
      " [3] include_string(mapexpr::typeof(REPL.softscope), mod::Module, code::String, filename::String)",
      "   @ Base ./loading.jl:1196"
     ]
    }
   ],
   "source": [
    "kVectors = vec(kGrid_full.kGrid)\n",
    "#println(kVectors)\n",
    "bubble = zeros(ComplexF64,length(path))\n",
    "for (qi,q) in enumerate(path)\n",
    "    for i in 1:length(G_manual[:,1])\n",
    "        kq=[0.0,0.0,0.0]\n",
    "        for k in 1:3\n",
    "            println(\"a($k): \", kVectors[i][k]+kGrid_full.kGrid[q][k])\n",
    "            if isapprox(kVectors[i][k]+kGrid_full.kGrid[q][k],-π,atol=1e-8)\n",
    "                kq[k]=π\n",
    "            elseif isapprox(kVectors[i][k]+kGrid_full.kGrid[q][k],π,atol=1e-8)\n",
    "                kq[k]=π\n",
    "            elseif kVectors[i][k]+kGrid_full.kGrid[q][k] >=0\n",
    "                kq[k]=mod(kVectors[i][k]+kGrid_full.kGrid[q][k]+π,2*π)-π\n",
    "            else\n",
    "                kq[k]=mod(-(kVectors[i][k]+kGrid_full.kGrid[q][k])+π,2*π)-π\n",
    "            end\n",
    "        end\n",
    "        kqi = findfirst(x -> isapprox(x[1],kq[1],atol=1e-8) && isapprox(x[2],kq[2],atol=1e-8) && isapprox(x[3],kq[3],atol=0.00000000001),kVectors)    \n",
    "        println(kq)\n",
    "        println(kqi)\n",
    "        for j in 1:length(G_manual[1,:])\n",
    "            bubble[qi]+=G_manual[i,j]*G_manual[kqi,j]\n",
    "        end\n",
    "    end\n",
    "    bubble[qi] = -mP.β*bubble[qi]/(length(G_manual[:,1])*length(G_manual[1,:]))\n",
    "end"
   ]
  },
  {
   "cell_type": "code",
   "execution_count": 18,
   "metadata": {},
   "outputs": [
    {
     "ename": "LoadError",
     "evalue": "UndefVarError: G_manual not defined",
     "output_type": "error",
     "traceback": [
      "UndefVarError: G_manual not defined",
      "",
      "Stacktrace:",
      " [1] top-level scope",
      "   @ In[18]:1",
      " [2] eval",
      "   @ ./boot.jl:373 [inlined]",
      " [3] include_string(mapexpr::typeof(REPL.softscope), mod::Module, code::String, filename::String)",
      "   @ Base ./loading.jl:1196"
     ]
    }
   ],
   "source": [
    "plot(imag(G_manual[1,:]))"
   ]
  },
  {
   "cell_type": "code",
   "execution_count": 19,
   "metadata": {},
   "outputs": [
    {
     "ename": "LoadError",
     "evalue": "UndefVarError: bubble not defined",
     "output_type": "error",
     "traceback": [
      "UndefVarError: bubble not defined",
      "",
      "Stacktrace:",
      " [1] top-level scope",
      "   @ :0",
      " [2] eval",
      "   @ ./boot.jl:373 [inlined]",
      " [3] include_string(mapexpr::typeof(REPL.softscope), mod::Module, code::String, filename::String)",
      "   @ Base ./loading.jl:1196"
     ]
    }
   ],
   "source": [
    "bubble"
   ]
  },
  {
   "cell_type": "code",
   "execution_count": 20,
   "metadata": {},
   "outputs": [
    {
     "ename": "LoadError",
     "evalue": "UndefVarError: bubble not defined",
     "output_type": "error",
     "traceback": [
      "UndefVarError: bubble not defined",
      "",
      "Stacktrace:",
      " [1] top-level scope",
      "   @ In[20]:1",
      " [2] eval",
      "   @ ./boot.jl:373 [inlined]",
      " [3] include_string(mapexpr::typeof(REPL.softscope), mod::Module, code::String, filename::String)",
      "   @ Base ./loading.jl:1196"
     ]
    }
   ],
   "source": [
    "plot(real(bubble),markershape=:auto)"
   ]
  },
  {
   "cell_type": "code",
   "execution_count": 21,
   "metadata": {},
   "outputs": [
    {
     "ename": "LoadError",
     "evalue": "UndefVarError: G_fft not defined",
     "output_type": "error",
     "traceback": [
      "UndefVarError: G_fft not defined",
      "",
      "Stacktrace:",
      " [1] top-level scope",
      "   @ In[21]:5",
      " [2] eval",
      "   @ ./boot.jl:373 [inlined]",
      " [3] include_string(mapexpr::typeof(REPL.softscope), mod::Module, code::String, filename::String)",
      "   @ Base ./loading.jl:1196"
     ]
    }
   ],
   "source": [
    "#G_re=reshape(GTest,(4,4,4,length(νGrid)))\n",
    "#G_fft = FFTW.fft(G_re)\n",
    "#print(size(G_fft))\n",
    "#print(kGrid.kGrid)\n",
    "χ₀_qνω = LadderDGA.calc_bubble(G_fft, kGrid, mP, sP).data;\n",
    "χ₀_qω  = sum(χ₀_qνω, dims=2)[:,1,:]/mP.β;"
   ]
  },
  {
   "cell_type": "code",
   "execution_count": 22,
   "metadata": {},
   "outputs": [
    {
     "ename": "LoadError",
     "evalue": "UndefVarError: χ₀_qω not defined",
     "output_type": "error",
     "traceback": [
      "UndefVarError: χ₀_qω not defined",
      "",
      "Stacktrace:",
      " [1] top-level scope",
      "   @ In[22]:1",
      " [2] eval",
      "   @ ./boot.jl:373 [inlined]",
      " [3] include_string(mapexpr::typeof(REPL.softscope), mod::Module, code::String, filename::String)",
      "   @ Base ./loading.jl:1196"
     ]
    }
   ],
   "source": [
    "plot(real(χ₀_qω[path,101]) ,markershape=:auto)"
   ]
  },
  {
   "cell_type": "code",
   "execution_count": 23,
   "metadata": {},
   "outputs": [
    {
     "ename": "LoadError",
     "evalue": "UndefVarError: χ₀_qω not defined",
     "output_type": "error",
     "traceback": [
      "UndefVarError: χ₀_qω not defined",
      "",
      "Stacktrace:",
      " [1] top-level scope",
      "   @ In[23]:1",
      " [2] eval",
      "   @ ./boot.jl:373 [inlined]",
      " [3] include_string(mapexpr::typeof(REPL.softscope), mod::Module, code::String, filename::String)",
      "   @ Base ./loading.jl:1196"
     ]
    }
   ],
   "source": [
    "plot(real(χ₀_qω[path,101]) ,markershape=:auto)"
   ]
  },
  {
   "cell_type": "code",
   "execution_count": 24,
   "metadata": {},
   "outputs": [
    {
     "ename": "LoadError",
     "evalue": "ArgumentError: Package NPZ not found in current path:\n- Run `import Pkg; Pkg.add(\"NPZ\")` to install the NPZ package.\n",
     "output_type": "error",
     "traceback": [
      "ArgumentError: Package NPZ not found in current path:\n- Run `import Pkg; Pkg.add(\"NPZ\")` to install the NPZ package.\n",
      "",
      "Stacktrace:",
      " [1] require(into::Module, mod::Symbol)",
      "   @ Base ./loading.jl:967",
      " [2] eval",
      "   @ ./boot.jl:373 [inlined]",
      " [3] include_string(mapexpr::typeof(REPL.softscope), mod::Module, code::String, filename::String)",
      "   @ Base ./loading.jl:1196"
     ]
    }
   ],
   "source": [
    "using NPZ\n",
    "npzwrite(\"/Users/user/Promotion/RPA/data/SC/datenJulian.npy\",χ₀_qω[path,101])"
   ]
  },
  {
   "cell_type": "code",
   "execution_count": 25,
   "metadata": {},
   "outputs": [
    {
     "ename": "LoadError",
     "evalue": "UndefVarError: χ₀_qω not defined",
     "output_type": "error",
     "traceback": [
      "UndefVarError: χ₀_qω not defined",
      "",
      "Stacktrace:",
      " [1] top-level scope",
      "   @ In[25]:1",
      " [2] eval",
      "   @ ./boot.jl:373 [inlined]",
      " [3] include_string(mapexpr::typeof(REPL.softscope), mod::Module, code::String, filename::String)",
      "   @ Base ./loading.jl:1196"
     ]
    }
   ],
   "source": [
    "plot(real(χ₀_qω[:,101]),markershape=:auto)"
   ]
  },
  {
   "cell_type": "code",
   "execution_count": 26,
   "metadata": {},
   "outputs": [
    {
     "ename": "LoadError",
     "evalue": "cannot assign a value to variable Dispersions.Nk from module Main",
     "output_type": "error",
     "traceback": [
      "cannot assign a value to variable Dispersions.Nk from module Main",
      "",
      "Stacktrace:",
      " [1] top-level scope",
      "   @ In[26]:3",
      " [2] eval",
      "   @ ./boot.jl:373 [inlined]",
      " [3] include_string(mapexpr::typeof(REPL.softscope), mod::Module, code::String, filename::String)",
      "   @ Base ./loading.jl:1196"
     ]
    }
   ],
   "source": [
    "kGrid = LadderDGA.gen_kGrid(\"3Dsc-0.2041241452319315\", 2)\n",
    "D        = 3\n",
    "Nk       = 4\n",
    "kG_n     = LadderDGA.gen_kGrid(\"3Dsc-0.2041241452319315\", Nk)\n",
    "\n",
    "\n",
    "\n",
    "sampling = [(2*π/Nk) * j - π for j in 1:Nk]\n",
    "kGrid    = collect(Base.product([sampling for Di in 1:D]...))\n",
    "kGrid_lin = kGrid[:]\n",
    "kGrid_red = Dispersions.reduceKArr(kG, kGrid);\n",
    "νGrid     = -2*(sP.n_iν + sP.n_iω):2*(sP.n_iν + sP.n_iω) \n",
    "Σ_loc_os = OffsetArray(cat(conj(reverse(Σ_loc)),Σ_loc, dims=1),-length(Σ_loc):length(Σ_loc)-1)\n",
    "gLoc_full = OffsetArray(Array{ComplexF64,2}(undef, length(kGrid), length(νGrid)), 1:length(kGrid), νGrid)\n",
    "\n",
    "for (ki,k) in enumerate(kGrid_lin)\n",
    "    ϵₖ = -2*kG.t*sum(cos.(k))\n",
    "    for (νi,νn) in enumerate(νGrid)\n",
    "        gLoc_full[ki,νn] = 1/((π/mP.β)*(2νn + 1)*1im + mP.μ - ϵₖ - Σ_loc_os[νn])\n",
    "    end\n",
    "end\n",
    "\n",
    "testGimp_f,testGimp,testGimp_fft = calc_χ₀_notebook(gImp, kGridLoc, mP, sP);\n",
    "testGLoc_f,testGLoc,testGLoc_fft = calc_χ₀_notebook(gLoc_full, kG_n, mP, sP);"
   ]
  },
  {
   "cell_type": "code",
   "execution_count": 27,
   "metadata": {},
   "outputs": [
    {
     "ename": "LoadError",
     "evalue": "MethodError: no method matching BSE_Asym_Helper(::Vector{ComplexF64}, ::Vector{ComplexF64}, ::Vector{ComplexF64}, ::Int64, ::Float64, ::Int64, ::Int64, ::Int64)\n\u001b[0mClosest candidates are:\n\u001b[0m  BSE_Asym_Helper(::Any, ::Any, ::Any, ::Any, ::Any, ::Any, ::Any, ::Any, \u001b[91m::Any\u001b[39m) at ~/Hamburg/BSE_SC.jl/src/helpers.jl:149",
     "output_type": "error",
     "traceback": [
      "MethodError: no method matching BSE_Asym_Helper(::Vector{ComplexF64}, ::Vector{ComplexF64}, ::Vector{ComplexF64}, ::Int64, ::Float64, ::Int64, ::Int64, ::Int64)\n\u001b[0mClosest candidates are:\n\u001b[0m  BSE_Asym_Helper(::Any, ::Any, ::Any, ::Any, ::Any, ::Any, ::Any, ::Any, \u001b[91m::Any\u001b[39m) at ~/Hamburg/BSE_SC.jl/src/helpers.jl:149",
      "",
      "Stacktrace:",
      " [1] setup(input_file::String, N_shell::Int64; use_sc_method::Bool)",
      "   @ Main ~/Hamburg/BSE_SC.jl/src/IO.jl:43",
      " [2] setup(input_file::String, N_shell::Int64)",
      "   @ Main ~/Hamburg/BSE_SC.jl/src/IO.jl:21",
      " [3] top-level scope",
      "   @ In[27]:15",
      " [4] eval",
      "   @ ./boot.jl:373 [inlined]",
      " [5] include_string(mapexpr::typeof(REPL.softscope), mod::Module, code::String, filename::String)",
      "   @ Base ./loading.jl:1196"
     ]
    }
   ],
   "source": [
    "using Test\n",
    "using OffsetArrays\n",
    "using JLD2\n",
    "using Plots\n",
    "include(\"../src/ladderDGA_core.jl\")\n",
    "include(\"../src/helpers.jl\")\n",
    "include(\"../src/IO.jl\")\n",
    "include(\"../src/build_chi_asympt.jl\")\n",
    "include(\"../src/dbg_tools.jl\")\n",
    "Nν_shell = 10\n",
    "testf = \"/home/julian/Hamburg/ED_data/asympt_tests/ED_b14u1_small.jld2\"#\"../test/test_data/ED_s1.jld2\"\n",
    "#testf = \"/home/julian/Hamburg/ED_data/asympt_tests/ED_b14u1.jld2\"\n",
    "#testf = \"/home/julian/Hamburg/ED_data/asympt_tests/ED_b08u2_small.jld2\"#\"../test/test_data/ED_s1.jld2\"\n",
    "\n",
    "gImp_loc_test, χ₀_loc_test, χsp_loc_test, χch_loc_test, helper, U, β = setup(testf, Nν_shell);\n",
    "\n",
    "test_lambda = \"/home/julian/Hamburg/ED_data/asympt_tests/b14u1_lambda.jld2\"\n",
    "λch_ed_asym, λsp_ed_asym, λpp_ed_asym = load(test_lambda, \"λch\", \"λsp\", \"λpp\");\n",
    "λch_ed_amp_asym, λsp_ed_amp_asym, λpp_ed_amp_asym = load(test_lambda, \"λch_amp\", \"λsp_amp\", \"λpp_amp\");\n",
    "γch_ed_asym, γsp_ed_asym, γpp_ed_asym = load(test_lambda, \"γch\", \"γsp\", \"γpp\");\n",
    "χsp_ed, χch_ed = load(testf, \"χ_sp_asympt\",\"χ_ch_asympt\") ./ β^2 ;\n",
    "\n",
    "f = jldopen(testf, \"r\")\n",
    "FUpDo = permutedims(f[\"FUpDo\"],(2,3,1));\n",
    "Σ_loc_in = 1 ./ f[\"g0\"] .- 1 ./ f[\"gImp\"];\n",
    "sVk = sum(f[\"Vₖ\"].^2)\n",
    "n = f[\"nden\"]\n",
    "μ = f[\"μ\"]\n",
    "n_iν = f[\"grid_nFermi\"]\n",
    "shift = f[\"grid_shift\"]\n",
    "close(f)\n",
    "\n",
    "function χ₀_shell_sum_core_notebook(β::Float64, ω_ind_grid::AbstractVector{Int}, n_iν::Int, shift)\n",
    "   res = OffsetArray(zeros(ComplexF64, length(ω_ind_grid), 4), ω_ind_grid, 1:4)\n",
    "   iω_grid = iω_array(β, ω_ind_grid)\n",
    "   for ωn in ω_ind_grid\n",
    "        si = shift*trunc(Int,ωn/2)\n",
    "        iν_ind_grid = (-n_iν-abs(minimum(ω_ind_grid))-si):(n_iν+abs(maximum(ω_ind_grid))-si-1)\n",
    "        iν_grid = OffsetArray(iν_array(β, iν_ind_grid), iν_ind_grid)\n",
    "        for νn in (-n_iν-si):(n_iν-si-1)\n",
    "            res[ωn,1] += 1/(iν_grid[νn]^1 * iν_grid[νn+ωn]^1) \n",
    "            res[ωn,2] += 1/(iν_grid[νn]^2 * iν_grid[νn+ωn]^1) + 1/(iν_grid[νn]^1 * iν_grid[νn+ωn]^2) \n",
    "            res[ωn,3] += 1/(iν_grid[νn]^2 * iν_grid[νn+ωn]^2) \n",
    "            res[ωn,4] += 1/(iν_grid[νn]^3 * iν_grid[νn+ωn]^1) + 1/(iν_grid[νn]^1 * iν_grid[νn+ωn]^3) \n",
    "        end\n",
    "    end\n",
    "    return res\n",
    "end\n",
    "\n",
    "function χ₀_shell_sum_notebook(core::OffsetArray{ComplexF64,2}, ωn::Int, β::Float64, c1::Float64, c2::Float64, c3::Float64)::ComplexF64\n",
    "    res = (core[ωn,1] + c1*core[ωn,2] + c2*core[ωn,3] + c3*core[ωn,4])/β\n",
    "    ωn2 = 2*(2*ωn*π/β)^2\n",
    "    res += ωn == 0 ? (β/4-c2*β^3/48-c3*β^3/24) : ((c3-c2)*β/ωn2)\n",
    "    return res\n",
    "end\n",
    "\n",
    "function calc_χλ_notebook(type::Symbol, shell_sum_core, ωn::Int, χ::AbstractArray{ComplexF64,2}, χ₀::AbstractArray{ComplexF64,1}, U::Float64, β::Float64, c1::Float64, c2::Float64, c3::Float64, h::BSE_Asym_Helper)\n",
    "    bs = -χ₀_shell_sum_notebook(shell_sum_core, ωn, β, c1, c2, c3)\n",
    "    s = type == :ch ? -1 : 1\n",
    "    ind_core = (h.Nν_shell+1):(size(χ₀,1)-h.Nν_shell)\n",
    "    χ₀_core = view(χ₀,ind_core)\n",
    "    λ_core = -s*sum(χ,dims=[2])[:,1] ./ χ₀_core .+ s\n",
    "    χ_core = sum(χ) /β^2\n",
    "    F_diag!(type, ωn, U, β, χ₀, h)\n",
    "    λ = (λ_core .- s*view(h.diag_asym_buffer, ind_core) .+ U*bs)/(1+s*U*bs)\n",
    "    λ_s = -sum((U .* λ .- s*U) .* χ₀_core)/β^2\n",
    "    diag_asym_s = -sum(h.diag_asym_buffer .* χ₀)/β^2\n",
    "    χ = (χ_core - bs*(1+2*λ_s-s*U*bs) - diag_asym_s)/(1-U^2 * bs^2)\n",
    "    return χ, λ\n",
    "end"
   ]
  },
  {
   "cell_type": "code",
   "execution_count": 28,
   "metadata": {},
   "outputs": [
    {
     "ename": "LoadError",
     "evalue": "UndefVarError: n not defined",
     "output_type": "error",
     "traceback": [
      "UndefVarError: n not defined",
      "",
      "Stacktrace:",
      " [1] top-level scope",
      "   @ In[28]:1",
      " [2] eval",
      "   @ ./boot.jl:373 [inlined]",
      " [3] include_string(mapexpr::typeof(REPL.softscope), mod::Module, code::String, filename::String)",
      "   @ Base ./loading.jl:1196"
     ]
    }
   ],
   "source": [
    "c2_old = μ-U*(n/2)\n",
    "c3_old = (μ-U*(n/2))^2 + sVk + U^2 * (n/2) * (1 - n/2);\n",
    "\n",
    "c1 = U*n/2 - μ\n",
    "c2 = [(U*n/2 - μ) ^ 2]\n",
    "c3 = (μ-U*(n/2))^2 + sVk + U^2 * (n/2) * (1 - n/2)\n",
    "\n",
    "n_iω = trunc(Int, size(χsp_loc_test,3)/2);\n",
    "bs_old = calc_χ₀_shell_sum_old(β, c2_old, c3_old, n_iω, n_iν, shift);\n",
    "χ₀_core = χ₀_shell_sum_core_notebook(β, -n_iω:n_iω, n_iν, shift)\n",
    "bs = map(x -> χ₀_shell_sum_notebook(χ₀_core, x, β, c1, c2[1], c3), -n_iω:n_iω);\n",
    "h = helper;\n",
    "println(\"max(|old - (-new)|) computation: \", maximum(abs.(bs_old .+ bs)))"
   ]
  },
  {
   "cell_type": "code",
   "execution_count": 29,
   "metadata": {},
   "outputs": [
    {
     "ename": "LoadError",
     "evalue": "UndefVarError: n_iω not defined",
     "output_type": "error",
     "traceback": [
      "UndefVarError: n_iω not defined",
      "",
      "Stacktrace:",
      " [1] top-level scope",
      "   @ In[29]:2",
      " [2] eval",
      "   @ ./boot.jl:373 [inlined]",
      " [3] include_string(mapexpr::typeof(REPL.softscope), mod::Module, code::String, filename::String)",
      "   @ Base ./loading.jl:1196"
     ]
    }
   ],
   "source": [
    "ωi = 52\n",
    "ωn = ωi - n_iω - 1\n",
    "\n",
    "χsp_asym,χch_asym,λsp_asym,λch_asym,tsp,tch = improve_χλ_direct(ωn, χsp_loc_test[:,:,ωi], χch_loc_test[:,:,ωi],\n",
    "                                                                view(χ₀_loc_test,:,ωi), U, β, bs_old[ωi], helper);;\n",
    "\n",
    "χsp_ω_loc_test = Array{Float64,1}(undef, size(χsp_loc_test,3))\n",
    "χch_ω_loc_test = Array{Float64,1}(undef, size(χch_loc_test,3))\n",
    "λsp_ω_loc_test = Array{ComplexF64,2}(undef, 2*n_iν, size(χsp_loc_test,3))\n",
    "λch_ω_loc_test = Array{ComplexF64,2}(undef, 2*n_iν, size(χch_loc_test,3))\n",
    "χsp_ω_int_loc_test = Array{ComplexF64,1}(undef, size(χsp_loc_test,3))\n",
    "χch_ω_int_loc_test = Array{ComplexF64,1}(undef, size(χch_loc_test,3))\n",
    "λsp_ω_int_loc_test = Array{ComplexF64,2}(undef, 2*n_iν, size(χsp_loc_test,3))\n",
    "λch_ω_int_loc_test = Array{ComplexF64,2}(undef, 2*n_iν, size(χch_loc_test,3))\n",
    "bs = calc_χ₀_shell_sum_old(β, c2_old, c3_old, n_iω, n_iν, shift);\n",
    "\n",
    "χ₀_core = sum(χ₀_loc_test[11:110,:], dims=[1])[1,:] ./ β^2 \n",
    "χ₀_res1 = zeros(size(χ₀_core))\n",
    "χ₀_res2 = zeros(size(χ₀_core))\n",
    "χ₀_res3 = zeros(size(χ₀_core))\n",
    "χ₀_rest = χ₀_shell_sum_core_notebook(β, -n_iω:n_iω, n_iν, Int(shift))\n",
    "for ωi in 1:size(χch_loc_test,3)\n",
    "    ωn = ωi - n_iω - 1\n",
    "    χsp_asym,χch_asym,λsp_asym,λch_asym, λsp_core, λch_core = improve_χλ_direct(ωn, χsp_loc_test[:,:,ωi], χch_loc_test[:,:,ωi],\n",
    "                                                            view(χ₀_loc_test,:,ωi), U, β, bs[ωi], helper);\n",
    "    χsp_ω_int_loc_test[ωi],λsp_ω_int_loc_test[:,ωi] = calc_χλ_notebook(:sp, χ₀_rest, ωn, χsp_loc_test[:,:,ωi],view(χ₀_loc_test,:,ωi), \n",
    "                            U, β, c1, c2[1], c3, helper);\n",
    "    χch_ω_int_loc_test[ωi],λch_ω_int_loc_test[:,ωi] = calc_χλ_notebook(:ch, χ₀_rest, ωn, χch_loc_test[:,:,ωi],view(χ₀_loc_test,:,ωi), \n",
    "                            U, β, c1, c2[1], c3, helper);\n",
    "    λsp_ω_loc_test[:,ωi] = λsp_asym\n",
    "    λch_ω_loc_test[:,ωi] = λch_asym\n",
    "    χsp_ω_loc_test[ωi] = real(χsp_asym)\n",
    "    χch_ω_loc_test[ωi] = real(χch_asym)\n",
    "    \n",
    "    χ₀_asym = χ₀_shell_sum_notebook(χ₀_rest, ωn, β, c1, c2[1], c3)\n",
    "    χ₀_res1[ωi] = real((χ₀_core[ωi]) )\n",
    "    χ₀_res2[ωi] = real((χ₀_core[ωi] + χ₀_asym))\n",
    "    χ₀_res3[ωi] = real((χ₀_core[ωi] + χ₀_asym) * (2*ωn*π/β)^2)\n",
    "end\n",
    "\n",
    "plot(χ₀_res1[:], markershape=:auto, label=\"plain sum\")\n",
    "plot!(χ₀_res2[:], markershape=:auto, label=\"improved sum\")\n",
    "plot!(χ₀_res3[:], markershape=:auto, label=\"ω^2 tail\")"
   ]
  },
  {
   "cell_type": "code",
   "execution_count": 30,
   "metadata": {},
   "outputs": [
    {
     "ename": "LoadError",
     "evalue": "UndefVarError: n_iω not defined",
     "output_type": "error",
     "traceback": [
      "UndefVarError: n_iω not defined",
      "",
      "Stacktrace:",
      " [1] top-level scope",
      "   @ In[30]:1",
      " [2] eval",
      "   @ ./boot.jl:373 [inlined]",
      " [3] include_string(mapexpr::typeof(REPL.softscope), mod::Module, code::String, filename::String)",
      "   @ Base ./loading.jl:1196"
     ]
    }
   ],
   "source": [
    "max_diff = round(maximum(abs.(real(χsp_ed[(0:n_iω) .+ 1] .- χsp_ω_int_loc_test[n_iω+1:end]))), digits=5)\n",
    "plot(-n_iω:n_iω,real(χsp_ω_int_loc_test[:]), title=\"ED-Improved max Δ = $(max_diff)\",xlabel=\"ωₙ\", ylabel=\"χsp\", markershape=:auto, label=\"χsp improved\")\n",
    "plot!(-n_iω:n_iω,χsp_ω_loc_test, label=\"χsp improved (old)\")\n",
    "plot!(-n_iω:n_iω,real(locQ_sp.χ[1,:]), label=\"χsp internal\", linewidth=2)\n",
    "plot!(0:n_iω, real(χsp_ed[(0:n_iω) .+ 1]), label=\"exact ED\")"
   ]
  },
  {
   "cell_type": "code",
   "execution_count": 31,
   "metadata": {},
   "outputs": [
    {
     "ename": "LoadError",
     "evalue": "UndefVarError: n_iω not defined",
     "output_type": "error",
     "traceback": [
      "UndefVarError: n_iω not defined",
      "",
      "Stacktrace:",
      " [1] top-level scope",
      "   @ In[31]:1",
      " [2] eval",
      "   @ ./boot.jl:373 [inlined]",
      " [3] include_string(mapexpr::typeof(REPL.softscope), mod::Module, code::String, filename::String)",
      "   @ Base ./loading.jl:1196"
     ]
    }
   ],
   "source": [
    "max_diff = round(maximum(abs.(real(χch_ed[(0:n_iω) .+ 1] .- χch_ω_int_loc_test[n_iω+1:end]))), digits=5)\n",
    "plot(-n_iω:n_iω,real(χch_ω_int_loc_test[:]), title=\"ED-Improved max Δ = $(max_diff)\",xlabel=\"ωₙ\", ylabel=\"χch\", markershape=:auto, label=\"χsp improved\")\n",
    "plot!(-n_iω:n_iω,χch_ω_loc_test, label=\"χch improved (old)\")\n",
    "plot!(-n_iω:n_iω,real(locQ_ch.χ[1,:]), label=\"χch internal\", linewidth=2)\n",
    "plot!(0:n_iω, real(χch_ed[(0:n_iω) .+ 1]), label=\"exact ED\")"
   ]
  },
  {
   "cell_type": "code",
   "execution_count": 32,
   "metadata": {},
   "outputs": [
    {
     "ename": "LoadError",
     "evalue": "UndefVarError: λch_ω_int_loc_test not defined",
     "output_type": "error",
     "traceback": [
      "UndefVarError: λch_ω_int_loc_test not defined",
      "",
      "Stacktrace:",
      " [1] top-level scope",
      "   @ In[32]:1",
      " [2] eval",
      "   @ ./boot.jl:373 [inlined]",
      " [3] include_string(mapexpr::typeof(REPL.softscope), mod::Module, code::String, filename::String)",
      "   @ Base ./loading.jl:1196"
     ]
    }
   ],
   "source": [
    "plot(real(λch_ω_int_loc_test[:,51]),markershape=:auto,xlabel=\"νₙ\", ylabel=\"λch(νₙ,ω₀)\", label=\"impr (new)\")\n",
    "plot!(real(λch_ω_loc_test[:,51]),markershape=:auto, label=\"impr (old)\")\n",
    "plot!(-real(λch_ed_amp_asym[51:150,101]) .- 1, markershape=:auto, label=\"asym\")\n",
    "hline!([-real(χch_ω_loc_test[51])], label=\"χ₀(ω₀) impr (new)\")"
   ]
  },
  {
   "cell_type": "code",
   "execution_count": 33,
   "metadata": {},
   "outputs": [
    {
     "ename": "LoadError",
     "evalue": "UndefVarError: λsp_ω_int_loc_test not defined",
     "output_type": "error",
     "traceback": [
      "UndefVarError: λsp_ω_int_loc_test not defined",
      "",
      "Stacktrace:",
      " [1] top-level scope",
      "   @ In[33]:1",
      " [2] eval",
      "   @ ./boot.jl:373 [inlined]",
      " [3] include_string(mapexpr::typeof(REPL.softscope), mod::Module, code::String, filename::String)",
      "   @ Base ./loading.jl:1196"
     ]
    }
   ],
   "source": [
    "plot(real(λsp_ω_int_loc_test[:,51]), markershape=:auto,xlabel=\"νₙ\", ylabel=\"λsp(νₙ,ω₀)\", label=\"λ impr (new)\")\n",
    "plot!(real(λsp_ω_loc_test[:,51]), markershape=:auto, label=\"λ impr (old)\")\n",
    "plot!(real(λsp_ed_amp_asym[51:150,101]) .+ 1, markershape=:auto, label=\"λ exact\")\n",
    "hline!([-real(χsp_ω_loc_test[51])], label=\"χ₀(ω₀) impr (new)\")\n",
    "hline!([-real(χsp_ω_int_loc_test[51])], label=\"χ₀(ω₀) impr (old)\")"
   ]
  },
  {
   "cell_type": "code",
   "execution_count": 34,
   "metadata": {},
   "outputs": [
    {
     "ename": "LoadError",
     "evalue": "UndefVarError: n_iω not defined",
     "output_type": "error",
     "traceback": [
      "UndefVarError: n_iω not defined",
      "",
      "Stacktrace:",
      " [1] top-level scope",
      "   @ In[34]:1",
      " [2] eval",
      "   @ ./boot.jl:373 [inlined]",
      " [3] include_string(mapexpr::typeof(REPL.softscope), mod::Module, code::String, filename::String)",
      "   @ Base ./loading.jl:1196"
     ]
    }
   ],
   "source": [
    "xr = n_iω+1:n_iω+50\n",
    "rtch = real.(helper.χch_asympt)[1:50]\n",
    "rtsp = real.(helper.χsp_asympt)[1:50]\n",
    "plot(xr .- 51,-((χsp_ω_loc_test[xr] .- rtsp)),markersize=6, alpha=0.6, markershape=:auto, label=\"Err χsp\")\n",
    "plot!(xr .- 51,(-(χch_ω_loc_test[xr] .- rtch)),markersize=6, alpha=0.6, markershape=:auto, label=\"Err χch\")"
   ]
  },
  {
   "cell_type": "markdown",
   "metadata": {},
   "source": [
    "# Non-Local χ₀ sum test\n",
    "\n",
    "First Plot tests the asymptotic bubble sum from the internal LadderDGA code. The result is plotted against the known asymptotic tail of χ₀[q,ω->oo]"
   ]
  },
  {
   "cell_type": "code",
   "execution_count": 35,
   "metadata": {},
   "outputs": [
    {
     "ename": "LoadError",
     "evalue": "UndefVarError: kG not defined",
     "output_type": "error",
     "traceback": [
      "UndefVarError: kG not defined",
      "",
      "Stacktrace:",
      " [1] top-level scope",
      "   @ In[35]:1",
      " [2] eval",
      "   @ ./boot.jl:373 [inlined]",
      " [3] include_string(mapexpr::typeof(REPL.softscope), mod::Module, code::String, filename::String)",
      "   @ Base ./loading.jl:1196"
     ]
    }
   ],
   "source": [
    "tmp = convert.(ComplexF64, kG.ϵkGrid .+ mP.U*mP.n/2 .- mP.μ)\n",
    "c1 = mP.U*mP.n/2 - mP.μ + kintegrate(kG, kG.ϵkGrid)\n",
    "c2_arr = real.(LadderDGA.conv(kG, tmp, tmp))\n",
    "c3 = real.(kintegrate(kG, tmp .^ 2) + (mP.U^2)*(mP.n/2)*(1-mP.n/2));\n",
    "\n",
    "χ₀_core = sum(bubble.data[:,11:110,:], dims=[2])[:,1,:] ./ mP.β^2 \n",
    "χ₀_res = zeros(size(χ₀_core))\n",
    "χ₀_res2 = zeros(size(χ₀_core))\n",
    "χ₀_res3 = zeros(size(χ₀_core))\n",
    "χ₀_res4 = zeros(size(χ₀_core))\n",
    "χ₀_res5 = zeros(size(χ₀_core))\n",
    "χ₀_rest_int = LadderDGA.BSE_Asymptotics.χ₀_shell_sum_core(mP.β, -sP.n_iω:sP.n_iω, sP.n_iν, Int(sP.shift))\n",
    "χ₀_rest = χ₀_shell_sum_core_notebook(mP.β, -sP.n_iω:sP.n_iω, sP.n_iν, Int(sP.shift))\n",
    "for qi = 1:10\n",
    "for (ωi,ωn) = enumerate(-sP.n_iω:sP.n_iω)\n",
    "    χ₀_asym_int = bubble.asym\n",
    "    χ₀_asym = χ₀_shell_sum_notebook(χ₀_rest, ωn, mP.β, c1, c2_arr[qi], c3)\n",
    "    χ₀_res[qi,ωi] = real((χ₀_core[qi,ωi] + χ₀_asym_int[qi,ωi]) )#* (2*ωn*π/mP.β)^2)\n",
    "    χ₀_res2[qi,ωi] = real((χ₀_core[qi,ωi]) )#* (2*ωn*π/mP.β)^2)\n",
    "    χ₀_res3[qi,ωi] = real((χ₀_core[qi,ωi] + χ₀_asym))\n",
    "    χ₀_res4[qi,ωi] = real((χ₀_core[qi,ωi] + χ₀_asym_int[qi,ωi]) * (2*ωn*π/mP.β)^2)\n",
    "    χ₀_res5[qi,ωi] = real((χ₀_core[qi,ωi] + χ₀_asym) * (2*ωn*π/mP.β)^2)\n",
    "end\n",
    "end"
   ]
  },
  {
   "cell_type": "code",
   "execution_count": 36,
   "metadata": {},
   "outputs": [
    {
     "ename": "LoadError",
     "evalue": "UndefVarError: kG not defined",
     "output_type": "error",
     "traceback": [
      "UndefVarError: kG not defined",
      "",
      "Stacktrace:",
      " [1] top-level scope",
      "   @ In[36]:2",
      " [2] eval",
      "   @ ./boot.jl:373 [inlined]",
      " [3] include_string(mapexpr::typeof(REPL.softscope), mod::Module, code::String, filename::String)",
      "   @ Base ./loading.jl:1196"
     ]
    }
   ],
   "source": [
    "qi_pl = 1\n",
    "q_v = round.(kG.kGrid[qi_pl],digits=1)\n",
    "plot(-50:50,χ₀_res[qi_pl,:], markershape=:auto, markersize=6, ylims=(-0.03,0.01), xlabel=\"ωₙ\", ylabel=\"χ₀[q=$q_v,ωₙ]\", label=\"impr (internal)\")\n",
    "plot!(-50:50,χ₀_res2[qi_pl,:], markershape=:auto, label=\"plain sum\")\n",
    "plot!(-50:50,χ₀_res3[qi_pl,:], markershape=:auto, label=\"impr (notebook)\")"
   ]
  },
  {
   "cell_type": "code",
   "execution_count": 37,
   "metadata": {},
   "outputs": [
    {
     "ename": "LoadError",
     "evalue": "type WorkerPool has no field Ekin_DMFT",
     "output_type": "error",
     "traceback": [
      "type WorkerPool has no field Ekin_DMFT",
      "",
      "Stacktrace:",
      " [1] getproperty(x::Distributed.WorkerPool, f::Symbol)",
      "   @ Base ./Base.jl:42",
      " [2] top-level scope",
      "   @ In[37]:1",
      " [3] eval",
      "   @ ./boot.jl:373 [inlined]",
      " [4] include_string(mapexpr::typeof(REPL.softscope), mod::Module, code::String, filename::String)",
      "   @ Base ./loading.jl:1196"
     ]
    }
   ],
   "source": [
    "m = mP.Ekin_DMFT/(6*kG.t)\n",
    "b = (2 * mP.Epot_DMFT + mP.Ekin_DMFT - mP.U*(mP.n^2)/2)\n",
    "plot(-χ₀_res4[:,end], label=\"χ₀[q,ω->oo]\", markershape=:auto, markersize=6, xticks=(1:10,map(x -> round.(x,digits=1),kG.kGrid[:])), xrotation = 30)\n",
    "plot!(-χ₀_res5[:,end], markershape=:auto, markersize=3, label=\"χ₀[q,ω->oo] (LadderDGA internal)\" )\n",
    "plot!( m .* kG.ϵkGrid .+ b, label=\"m * ϵ[q] + b\")\n",
    "#plot!( -2.6 .* kG.ϵkGrid .- 6.5,label=\"auch richtig\")"
   ]
  },
  {
   "cell_type": "code",
   "execution_count": 38,
   "metadata": {},
   "outputs": [
    {
     "ename": "LoadError",
     "evalue": "UndefVarError: locQ_sp not defined",
     "output_type": "error",
     "traceback": [
      "UndefVarError: locQ_sp not defined",
      "",
      "Stacktrace:",
      " [1] top-level scope",
      "   @ In[38]:2",
      " [2] eval",
      "   @ ./boot.jl:373 [inlined]",
      " [3] include_string(mapexpr::typeof(REPL.softscope), mod::Module, code::String, filename::String)",
      "   @ Base ./loading.jl:1196"
     ]
    }
   ],
   "source": [
    "gImp_slice = (201-50):(201+49)\n",
    "λ_asym_test = (((locQ_sp.γ[1,:,51] .* (1 .+ mP.U .* locQ_sp.χ[1, 51]) .- 1) ./ (-mP.U)) .- 1);\n",
    "print(\"Δ (χ₀Loc - gImp * gImp * (-mP.β))\")\n",
    "maximum(abs.(χ₀Loc.data[1,11:110,51] .- (-mP.β).*gImp[1,1,1,gImp_slice].*gImp[1,1,1,gImp_slice]))"
   ]
  },
  {
   "cell_type": "code",
   "execution_count": 39,
   "metadata": {},
   "outputs": [
    {
     "ename": "LoadError",
     "evalue": "UndefVarError: λsp_ed_amp_asym not defined",
     "output_type": "error",
     "traceback": [
      "UndefVarError: λsp_ed_amp_asym not defined",
      "",
      "Stacktrace:",
      " [1] top-level scope",
      "   @ In[39]:1",
      " [2] eval",
      "   @ ./boot.jl:373 [inlined]",
      " [3] include_string(mapexpr::typeof(REPL.softscope), mod::Module, code::String, filename::String)",
      "   @ Base ./loading.jl:1196"
     ]
    }
   ],
   "source": [
    "plot(real.(λsp_ed_amp_asym[51:150,101] .* (χ₀Loc.data[1,11:110,51]/(-mP.β)) .- λsp_ed_asym[51:150,101]), label=\"Δ (λ_asym - λ_amp_asym)\")"
   ]
  },
  {
   "cell_type": "code",
   "execution_count": 40,
   "metadata": {},
   "outputs": [
    {
     "ename": "LoadError",
     "evalue": "type ModelParameters has no field n_iω",
     "output_type": "error",
     "traceback": [
      "type ModelParameters has no field n_iω",
      "",
      "Stacktrace:",
      " [1] getproperty(x::ModelParameters, f::Symbol)",
      "   @ Base ./Base.jl:42",
      " [2] top-level scope",
      "   @ In[40]:2",
      " [3] eval",
      "   @ ./boot.jl:373 [inlined]",
      " [4] include_string(mapexpr::typeof(REPL.softscope), mod::Module, code::String, filename::String)",
      "   @ Base ./loading.jl:1196"
     ]
    }
   ],
   "source": [
    "ωi = 51\n",
    "ωn = ωi - sP.n_iω - 1\n",
    "asym_slice = (51:150) .- trunc(Int, ωn/2)\n",
    "asym_omega = ωi + 50\n",
    "#λsp_asym_test = (((locQ_sp.γ[1,:,ωi] .* (1 .+ mP.U .* locQ_sp.χ[1, ωi]) .- 1)  .- 1);\n",
    "s = 1\n",
    "λsp_asym = -(locQ_sp.γ[1,:,ωi] .* (1 .+ s*mP.U .* locQ_sp.χ[1, ωi]) ) .+ s\n",
    "s = -1\n",
    "λch_asym = (locQ_ch.γ[1,:,ωi] .* (1 .+ s*mP.U .* locQ_ch.χ[1, ωi]) ) .+ s\n",
    "\n",
    "plot(-50:49,real.(λsp_ed_amp_asym[asym_slice,asym_omega] .- 1 .- λsp_asym), xlabel=\"νₙ\", label=\"Δ (λ_sp_amp_asym[ω_$ωn] - λ_lDGA_code)\")\n",
    "plot!(-50:49,real.(λch_ed_amp_asym[asym_slice,asym_omega] .- 1 .- λch_asym), xlabel=\"νₙ\", label=\"Δ (λ_ch_amp_asym[ω_$ωn] - λ_lDGA_code)\")\n",
    "#plot!(-50:49,real.(λsp_ed_asym[asym_slice,asym_omega] .- λsp_asym .* (χ₀Loc[1,11:110,ωi]/(-mP.β))), label=\"Δ (λ_asym - λ_lDGA_code .* χ₀/(-β))\")"
   ]
  },
  {
   "cell_type": "code",
   "execution_count": 41,
   "metadata": {},
   "outputs": [
    {
     "ename": "LoadError",
     "evalue": "type WorkerPool has no field μ",
     "output_type": "error",
     "traceback": [
      "type WorkerPool has no field μ",
      "",
      "Stacktrace:",
      " [1] getproperty(x::Distributed.WorkerPool, f::Symbol)",
      "   @ Base ./Base.jl:42",
      " [2] top-level scope",
      "   @ In[41]:15",
      " [3] eval",
      "   @ ./boot.jl:373 [inlined]",
      " [4] include_string(mapexpr::typeof(REPL.softscope), mod::Module, code::String, filename::String)",
      "   @ Base ./loading.jl:1196"
     ]
    }
   ],
   "source": [
    "using LinearAlgebra\n",
    "#include(\"/home/julian/Hamburg/BSE_Asymptotics.jl/src/build_chi_asympt.jl\")\n",
    "\n",
    "function build_diag_updo(ωn, χ₀, h)\n",
    "    i1_l = h.ind1_list\n",
    "    i2_l = view(h.ind2_list, :, ωn)\n",
    "    fill!(h.diag_asym_buffer, 0)\n",
    "    for i in 1:length(i1_l)\n",
    "        i1 = h.I_asympt[i]\n",
    "        i2 = i1_l[i]\n",
    "        i3 = i2_l[i]\n",
    "        h.diag_asym_buffer[i1[1]] += (mP.U^2)*(h.χch_asympt[i2] - h.χpp_asympt[i3])*(-χ₀[i1[2]])/mP.β^2\n",
    "    end\n",
    "end\n",
    "c2 = mP.μ-mP.U*(mP.n/2)\n",
    "c3 = (mP.μ-mP.U*(mP.n/2))^2 + mP.sVk + mP.U^2 * (mP.n/2) * (1 - mP.n/2);\n",
    "bs_old = calc_χ₀_shell_sum_old(mP.β, c2, c3, n_iω, n_iν, Int64(sP.shift));\n",
    "\n",
    "function improve_λ₀2(type, kG, χ₀, locQ, F, h)\n",
    "    s = (type == :ch) ? -1 : +1\n",
    "    tmp = convert.(ComplexF64, kG.ϵkGrid .+ mP.U*mP.n/2 .- mP.μ)\n",
    "    Nq = size(χ₀.data,1)\n",
    "    Nν = length(-sP.n_iν:sP.n_iν-1)\n",
    "    Nω = size(χ₀.data,3)\n",
    "\n",
    "    χ₀_rest = χ₀_shell_sum_core(mP.β, -sP.n_iω:sP.n_iω, sP.n_iν, Int(sP.shift))\n",
    "    \n",
    "    res = zeros(ComplexF64, Nq, Nν, Nω)\n",
    "    res2 = similar(res)\n",
    "    res3 = similar(res)\n",
    "    res3 = similar(res)\n",
    "    res4 = similar(res)\n",
    "    for ωi in 1:Nω\n",
    "        ωn = ωi - sP.n_iω - 1\n",
    "        ind_core = (h.Nν_shell+1):(size(χ₀.data,2)-h.Nν_shell)\n",
    "        λ_asym = -(locQ.γ[1,:,ωi] .* (1 .+ s*mP.U .* locQ.χ[1, ωi]) ) .+ 1\n",
    "        for qi in 1:Nq\n",
    "            λcore = [s*dot(χ₀.data[qi,ind_core,ωi], F[νi,:,ωi] )/(mP.β^2) for νi in 1:size(F,1)]\n",
    "            χ₀_asym = χ₀.asym[qi,ωi]\n",
    "            LadderDGA.BSE_Asymptotics.F_diag!(type, ωn, mP.U, mP.β, χ₀.data[qi,:,ωi], h)\n",
    "            res[qi,:,ωi] = λcore \n",
    "            res2[qi,:,ωi]  = χ₀_asym.*mP.U.*(λ_asym)\n",
    "            res3[qi,:,ωi] .= -χ₀_asym.*mP.U.*(1)\n",
    "            res4[qi,:,ωi]  = view(h.diag_asym_buffer, ind_core)\n",
    "                    #view(h.diag_asym_buffer, ind_core) .+ (λ_loc_ω[ωi] .- s)*mP.U*(χ₀_asym)\n",
    "        end\n",
    "    end\n",
    "    return res, res2, res3, res4\n",
    "end\n",
    "Σ_loc_offs = OffsetArray(cat(conj(reverse(Σ_loc)),Σ_loc_in, dims=1),-length(Σ_loc):length(Σ_loc)-1)\n",
    "core_sp, asym_1_sp, asym_2_sp, asym_3_sp = improve_λ₀2(:sp, kG, bubble, locQ_sp, Fsp, sP.χ_helper);\n",
    "core_ch, asym_1_ch, asym_2_ch, asym_3_ch = improve_λ₀2(:ch, kG, bubble, locQ_ch, Fch, sP.χ_helper);\n",
    "r1_ch = core_ch .+ asym_1_ch .+ asym_2_ch .+ asym_3_ch;\n",
    "r1_sp = core_sp .+ asym_1_sp .+ asym_2_sp .+ asym_3_sp;"
   ]
  },
  {
   "cell_type": "code",
   "execution_count": 42,
   "metadata": {},
   "outputs": [
    {
     "name": "stdout",
     "output_type": "stream",
     "text": [
      "\u001b[36m\u001b[1m[ \u001b[22m\u001b[39m\u001b[36m\u001b[1mInfo: \u001b[22m\u001b[39mPrecompiling LsqFit [2fda8390-95c7-5789-9bda-21331edee243]\n",
      "\u001b[36m\u001b[1m[ \u001b[22m\u001b[39m\u001b[36m\u001b[1mInfo: \u001b[22m\u001b[39mSkipping precompilation since __precompile__(false). Importing LsqFit [2fda8390-95c7-5789-9bda-21331edee243].\n",
      "\u001b[33m\u001b[1m┌ \u001b[22m\u001b[39m\u001b[33m\u001b[1mWarning: \u001b[22m\u001b[39mReplacing module `SpecialFunctions`\n",
      "\u001b[33m\u001b[1m└ \u001b[22m\u001b[39m\u001b[90m@ Base loading.jl:1036\u001b[39m\n",
      "\u001b[36m\u001b[1m[ \u001b[22m\u001b[39m\u001b[36m\u001b[1mInfo: \u001b[22m\u001b[39mPrecompiling OptimBase [87e2bd06-a317-5318-96d9-3ecbac512eee]\n",
      "\u001b[36m\u001b[1m[ \u001b[22m\u001b[39m\u001b[36m\u001b[1mInfo: \u001b[22m\u001b[39mSkipping precompilation since __precompile__(false). Importing OptimBase [87e2bd06-a317-5318-96d9-3ecbac512eee].\n"
     ]
    },
    {
     "name": "stderr",
     "output_type": "stream",
     "text": [
      "\u001b[33m\u001b[1m┌ \u001b[22m\u001b[39m\u001b[33m\u001b[1mWarning: \u001b[22m\u001b[39mModule SpecialFunctions with build ID 8783877555740 is missing from the cache.\n",
      "\u001b[33m\u001b[1m│ \u001b[22m\u001b[39mThis may mean SpecialFunctions [276daf66-3868-5448-9aa4-cd146d93841b] does not support precompilation but is imported by a module that does.\n",
      "\u001b[33m\u001b[1m└ \u001b[22m\u001b[39m\u001b[90m@ Base loading.jl:1107\u001b[39m\n",
      "\u001b[33m\u001b[1m┌ \u001b[22m\u001b[39m\u001b[33m\u001b[1mWarning: \u001b[22m\u001b[39mModule SpecialFunctions with build ID 8783877555740 is missing from the cache.\n",
      "\u001b[33m\u001b[1m│ \u001b[22m\u001b[39mThis may mean SpecialFunctions [276daf66-3868-5448-9aa4-cd146d93841b] does not support precompilation but is imported by a module that does.\n",
      "\u001b[33m\u001b[1m└ \u001b[22m\u001b[39m\u001b[90m@ Base loading.jl:1107\u001b[39m\n",
      "\u001b[33m\u001b[1m┌ \u001b[22m\u001b[39m\u001b[33m\u001b[1mWarning: \u001b[22m\u001b[39mModule SpecialFunctions with build ID 8783877555740 is missing from the cache.\n",
      "\u001b[33m\u001b[1m│ \u001b[22m\u001b[39mThis may mean SpecialFunctions [276daf66-3868-5448-9aa4-cd146d93841b] does not support precompilation but is imported by a module that does.\n",
      "\u001b[33m\u001b[1m└ \u001b[22m\u001b[39m\u001b[90m@ Base loading.jl:1107\u001b[39m\n",
      "\u001b[33m\u001b[1m┌ \u001b[22m\u001b[39m\u001b[33m\u001b[1mWarning: \u001b[22m\u001b[39mModule SpecialFunctions with build ID 8783877555740 is missing from the cache.\n",
      "\u001b[33m\u001b[1m│ \u001b[22m\u001b[39mThis may mean SpecialFunctions [276daf66-3868-5448-9aa4-cd146d93841b] does not support precompilation but is imported by a module that does.\n",
      "\u001b[33m\u001b[1m└ \u001b[22m\u001b[39m\u001b[90m@ Base loading.jl:1107\u001b[39m\n",
      "\u001b[33m\u001b[1m┌ \u001b[22m\u001b[39m\u001b[33m\u001b[1mWarning: \u001b[22m\u001b[39mModule NLSolversBase with build ID 8781822508241 is missing from the cache.\n",
      "\u001b[33m\u001b[1m│ \u001b[22m\u001b[39mThis may mean NLSolversBase [d41bc354-129a-5804-8e4c-c37616107c6c] does not support precompilation but is imported by a module that does.\n",
      "\u001b[33m\u001b[1m└ \u001b[22m\u001b[39m\u001b[90m@ Base loading.jl:1107\u001b[39m\n"
     ]
    },
    {
     "ename": "LoadError",
     "evalue": "ArgumentError: Package Optim not found in current path:\n- Run `import Pkg; Pkg.add(\"Optim\")` to install the Optim package.\n",
     "output_type": "error",
     "traceback": [
      "ArgumentError: Package Optim not found in current path:\n- Run `import Pkg; Pkg.add(\"Optim\")` to install the Optim package.\n",
      "",
      "Stacktrace:",
      " [1] require(into::Module, mod::Symbol)",
      "   @ Base ./loading.jl:967",
      " [2] eval",
      "   @ ./boot.jl:373 [inlined]",
      " [3] include_string(mapexpr::typeof(REPL.softscope), mod::Module, code::String, filename::String)",
      "   @ Base ./loading.jl:1196"
     ]
    }
   ],
   "source": [
    "using LsqFit\n",
    "using Optim\n",
    "qi = 1\n",
    "νi = 51\n",
    "νn = νi - sP.n_iν - 1\n",
    "ωrange_s = -sP.n_iω:sP.n_iω\n",
    "iω_n_arr = OffsetArray(2*im*(ωrange_s)*π/mP.β,ωrange_s)\n",
    "Σ_loc_os = OffsetArray(cat(conj(reverse(Σ_loc)),Σ_loc, dims=1),-length(Σ_loc):length(Σ_loc)-1)\n",
    "r1_sp_full = to_m_index(r1_sp, sP);\n",
    "r1_ch_full = to_m_index(r1_ch, sP);\n",
    "\n",
    "fitr = 20:50\n",
    "@. model(x, p) = real.(p[1] + p[2]/x + p[3]/x^2)\n",
    "xdata = imag.(iω_n_arr[fitr])\n",
    "p0 = [imag(Σ_loc_os[νi-51]), 1.0, 1.0]\n",
    "\n",
    "yd = r1_ch_full[qi,νn,:] .* iω_n_arr\n",
    "ydata_ch_impr2 = imag(yd[fitr])\n",
    "fit2 = curve_fit(model, xdata, ydata_ch_impr2, p0)\n",
    "\n",
    "\n",
    "lmr_ch = imag(yd[50]+yd[-50])/2\n",
    "println(\"ch: fit: $(round(fit2.param[1],digits=4)), Σ_loc: $(round(imag(Σ_loc_os[νi-51]),digits=4)), left-right: $(round(lmr_ch,digits=6))\")\n",
    "p1 = plot(ωrange_s,imag.(r1_ch_full[1,νn,:].parent .* iω_n_arr.parent), ylims=(-0.5,0.5), legend=:topleft, markershape=:auto, label=\"λ₀_ch(ν_$(νn),ωn) * iω\")\n",
    "plot!(ωrange_s,real.(r1_ch_full[1,νn,:].parent .* iω_n_arr.parent.^2 ), markershape=:auto, label=\"λ₀_ch(ν_$(νn),ωn) * iω^2\")\n",
    "#plot!(imag.(core_ch[1,51,1:end] .* iω_i_arr[1:end]), markershape=:auto)\n",
    "hline!([ imag(Σ_loc_os[νn])], label=\"Σ_DMFT(νn=$(νn))\")\n",
    "hline!([ fit2.param[1]], label=\"c_1 fit, c_1/ω\")\n",
    "hline!([lmr_ch], label=\"avg\")"
   ]
  },
  {
   "cell_type": "code",
   "execution_count": 43,
   "metadata": {},
   "outputs": [
    {
     "ename": "LoadError",
     "evalue": "type ModelParameters has no field n_iν",
     "output_type": "error",
     "traceback": [
      "type ModelParameters has no field n_iν",
      "",
      "Stacktrace:",
      " [1] getproperty(x::ModelParameters, f::Symbol)",
      "   @ Base ./Base.jl:42",
      " [2] top-level scope",
      "   @ In[43]:4",
      " [3] eval",
      "   @ ./boot.jl:373 [inlined]",
      " [4] include_string(mapexpr::typeof(REPL.softscope), mod::Module, code::String, filename::String)",
      "   @ Base ./loading.jl:1196"
     ]
    }
   ],
   "source": [
    "using LsqFit\n",
    "qi = 1\n",
    "νi = 51\n",
    "νn = νi - sP.n_iν - 1\n",
    "ωrange_s = -sP.n_iω:sP.n_iω\n",
    "iω_n_arr = OffsetArray(2*im*(ωrange_s)*π/mP.β,ωrange_s)\n",
    "Σ_loc_os = OffsetArray(cat(conj(reverse(Σ_loc)),Σ_loc, dims=1),-length(Σ_loc):length(Σ_loc)-1)\n",
    "r1_sp_full = to_m_index(r1_sp, sP);\n",
    "r1_ch_full = to_m_index(r1_ch, sP);\n",
    "\n",
    "fitr = 30:50\n",
    "@. model(x, p) = real.(p[1] + p[2]/x + p[3]/x^2)\n",
    "xdata = imag.(iω_n_arr[fitr])\n",
    "p0 = [0.0, 0.0, 0.0, 0.0]\n",
    "\n",
    "yd = r1_sp_full[qi,νn,:] .* iω_n_arr\n",
    "ydata_sp_impr2 = imag(yd[fitr])\n",
    "fit2 = curve_fit(model, xdata, ydata_sp_impr2, p0)\n",
    "lmr_sp = imag(yd[50]+yd[-50])/2\n",
    "println(\"sp: fit: $(round(fit2.param[1],digits=4)), Σ_loc: $(round(imag(Σ_loc_os[νi-51]),digits=4)), left-right: $(round(lmr_sp,digits=6))\")\n",
    "\n",
    "p1 = plot(ωrange_s,imag.(r1_sp_full[1,νn,:].parent .* iω_n_arr.parent), ylims=(-0.5,0.5), legend=:topleft, markershape=:auto, label=\"λ₀_sp(ν_$(νn),ωn) * iω\")\n",
    "plot!(ωrange_s,real.(r1_sp_full[1,νn,:].parent .* iω_n_arr.parent.^2 ), markershape=:auto, label=\"λ₀_sp(ν_$(νn),ωn) * iω^2\")\n",
    "#plot!(imag.(core_ch[1,51,1:end] .* iω_i_arr[1:end]), markershape=:auto)\n",
    "hline!([ -imag(Σ_loc_os[νn])], label=\"Σ_DMFT(ν_$(νn))\")\n",
    "hline!([ fit2.param[1]], label=\"c_1 fit, c_1/ω\")\n"
   ]
  },
  {
   "cell_type": "code",
   "execution_count": 44,
   "metadata": {},
   "outputs": [
    {
     "ename": "LoadError",
     "evalue": "UndefVarError: λsp_ω_loc_test not defined",
     "output_type": "error",
     "traceback": [
      "UndefVarError: λsp_ω_loc_test not defined",
      "",
      "Stacktrace:",
      " [1] top-level scope",
      "   @ In[44]:1",
      " [2] eval",
      "   @ ./boot.jl:373 [inlined]",
      " [3] include_string(mapexpr::typeof(REPL.softscope), mod::Module, code::String, filename::String)",
      "   @ Base ./loading.jl:1196"
     ]
    }
   ],
   "source": [
    "λ_sp_out = to_m_index(λsp_ω_loc_test, sP)\n",
    "λ_ch_out = to_m_index(λch_ω_loc_test, sP)\n",
    "ωrange = -n_iω:n_iω\n",
    "ωl_s = length(ωrange)\n",
    "iω_n_arr = OffsetArray(2*im*(ωrange)*π/β,ωrange)\n",
    "xr = 10:45\n",
    "νn_test = 0\n",
    "plot(imag(λ_sp_out[νn_test,xr] .* iω_n_arr[xr]), markershape=:auto, label=\"λsp[iν_$νn_test] * iω\", legend=:bottomright)\n",
    "plot!(imag(λ_ch_out[νn_test,xr] .* iω_n_arr[xr]), markershape=:auto, label=\"λch[iν_$νn_test] * iω\")\n",
    "hline!(imag.([Σ_loc_offs[νn_test]]), label=\"Im(Σ_DMFT[iν_$νn_test])\")\n",
    "hline!(-imag.([Σ_loc_offs[νn_test]]), label=\"-Im(Σ_DMFT[iν_$νn_test])\")"
   ]
  },
  {
   "cell_type": "markdown",
   "metadata": {},
   "source": [
    "# Non-Local Σ_loc,  λ_r, λ_0 tests\n",
    "\n",
    "Improved asymptotics tests for Σ_loc (lDGA EoM, local case), non-local λʳ(q) and λʳ₀(q) = χʳ₀(q) ⋆ Fʳ\n",
    "\n",
    "## Comments\n",
    "\n",
    "Σν_lDGA and Σν_direct do not have a 1/x tail, since all λ tails cancel each other out."
   ]
  },
  {
   "cell_type": "code",
   "execution_count": 45,
   "metadata": {},
   "outputs": [
    {
     "data": {
      "text/plain": [
       "write_csv (generic function with 1 method)"
      ]
     },
     "execution_count": 45,
     "metadata": {},
     "output_type": "execute_result"
    }
   ],
   "source": [
    "using DelimitedFiles\n",
    "function write_csv() \n",
    "    νr_out = -50:50\n",
    "    for (ii,i) in enumerate(ωrange_s)\n",
    "        writedlm(\"lambda_phys_$(lpad(ii-1, 3, \"0\")).csv\", [collect(νr_out) real.(λ_ch_out[νr_out,i]) imag.(λ_ch_out[νr_out,i]) real.(λ_sp_out[νr_out,i]) imag.(λ_sp_out[νr_out,i])], \"        \\t\")\n",
    "    end\n",
    "end\n",
    "#write_csv()"
   ]
  },
  {
   "cell_type": "markdown",
   "metadata": {},
   "source": [
    "# Self Energy Tests"
   ]
  },
  {
   "cell_type": "code",
   "execution_count": 46,
   "metadata": {},
   "outputs": [
    {
     "ename": "LoadError",
     "evalue": "UndefVarError: λsp_ω_loc_test not defined",
     "output_type": "error",
     "traceback": [
      "UndefVarError: λsp_ω_loc_test not defined",
      "",
      "Stacktrace:",
      " [1] top-level scope",
      "   @ In[46]:1",
      " [2] eval",
      "   @ ./boot.jl:373 [inlined]",
      " [3] include_string(mapexpr::typeof(REPL.softscope), mod::Module, code::String, filename::String)",
      "   @ Base ./loading.jl:1196"
     ]
    }
   ],
   "source": [
    "γsp_loc_test = (1 .- λsp_ω_loc_test)./transpose(1 .+ U .* χsp_ω_loc_test)\n",
    "γch_loc_test = (1 .+ λch_ω_loc_test)./transpose(1 .- U .* χch_ω_loc_test)\n",
    "Σ_h = n*U/2\n",
    "\n",
    "\n",
    "ωrange = -n_iω:n_iω\n",
    "νrange = -2*n_iν:2*n_iν\n",
    "ωl = length(ωrange)\n",
    "νl = length(νrange)\n",
    "ωrange_s = -n_iω:n_iω\n",
    "ωl_s = length(ωrange_s)\n",
    "#Σ_loc_os = OffsetArray(cat(conj(reverse(Σ_loc)),Σ_loc, dims=1),-length(Σ_loc):length(Σ_loc)-1)\n",
    "Σν_direct = OffsetArray(zeros(ComplexF64, νl),νrange)\n",
    "Σν_lDGA =  OffsetArray(zeros(ComplexF64, νl),νrange)\n",
    "Σ_loc = OffsetArray(cat(conj(reverse(Σ_loc_in)),Σ_loc_in, dims=1),-length(Σ_loc_in):length(Σ_loc_in)-1)\n",
    "iω_n_arr = OffsetArray(2*im*(ωrange_s)*π/β,ωrange_s)\n",
    "ω_sub = OffsetArray(zeros(ComplexF64, νl),νrange)\n",
    "λ_sp_out = OffsetArray(zeros(ComplexF64, νl,ωl), νrange, ωrange)\n",
    "λ_ch_out = OffsetArray(zeros(ComplexF64, νl,ωl), νrange, ωrange)\n",
    "dbg1 = OffsetArray(zeros(ComplexF64, νl,ωl,6), νrange, ωrange, 1:6)\n",
    "νn_test = 0\n",
    "for ωi in 1:size(λch_ω_loc_test,2)\n",
    "    for νi in 1:size(λch_ω_loc_test,1)\n",
    "        ωn,νn = OneToIndex_to_Freq(ωi, νi, n_iω, n_iν, shift)\n",
    "        Σν_direct[νn] += -(U/β) * 0.5 * (λch_ω_loc_test[νi,ωi] + λsp_ω_loc_test[νi,ωi]) * gImp_loc_test[νn + ωn]\n",
    "        Σν_lDGA[νn] += -(U/β) * (0.5 * γch_loc_test[νi,ωi]*(1-U*χch_ω_loc_test[ωi]) - 1.5*γsp_loc_test[νi,ωi]*(1+U*χsp_ω_loc_test[ωi]) + 1)*gImp_loc_test[νn + ωn] + (U/β) * (λsp_ω_loc_test[νi,ωi]) * gImp_loc_test[νn + ωn]\n",
    "        subt = (ωn != 0) ? 1/((2π*im*ωn/β)^2) : 0\n",
    "        ω_sub[νn] += subt\n",
    "        dbg1[νn,ωn, 1] = γch_loc_test[νi,ωi]\n",
    "        dbg1[νn,ωn, 2] = 0.5 *(1-U*χch_ω_loc_test[ωi])\n",
    "        dbg1[νn,ωn, 3] = γsp_loc_test[νi,ωi]\n",
    "        dbg1[νn,ωn, 4] = 1.5*(1+U*χsp_ω_loc_test[ωi])\n",
    "        dbg1[νn,ωn, 5] = λsp_ω_loc_test[νi,ωi]\n",
    "        dbg1[νn,ωn, 6] = gImp_loc_test[νn + ωn]\n",
    "    end\n",
    "end\n",
    "#Σν_lDGA_sub = Σν_lDGA[0:n_iν-1] ./ (1 .- U*β/12 .- (U/β)*ω_sub[0:n_iν-1])#\n",
    "#Σν_direct_sub = Σν_direct[0:n_iν-1] ./  (1 .- U*β/12 .- (U/β)*ω_sub[0:n_iν-1]);"
   ]
  },
  {
   "cell_type": "code",
   "execution_count": 47,
   "metadata": {},
   "outputs": [
    {
     "ename": "LoadError",
     "evalue": "UndefVarError: locQ_sp not defined",
     "output_type": "error",
     "traceback": [
      "UndefVarError: locQ_sp not defined",
      "",
      "Stacktrace:",
      " [1] top-level scope",
      "   @ In[47]:75",
      " [2] eval",
      "   @ ./boot.jl:373 [inlined]",
      " [3] include_string(mapexpr::typeof(REPL.softscope), mod::Module, code::String, filename::String)",
      "   @ Base ./loading.jl:1196"
     ]
    }
   ],
   "source": [
    "using Dispersions \n",
    "ν0Index_of_ωIndex = LadderDGA.ν0Index_of_ωIndex\n",
    "ν_axis = LadderDGA.ν_axis\n",
    "q_axis = LadderDGA.q_axis\n",
    "\n",
    "\n",
    "\n",
    "function calc_Σ_ω_notebook!(Σ::AbstractArray{ComplexF64,3}, Kνωq::Array{ComplexF64}, Kνωq_pre::Array{ComplexF64, 1},\n",
    "            ωindices::AbstractArray{Int,1},\n",
    "            Q_sp::NonLocalQuantities, Q_ch::NonLocalQuantities, \n",
    "            Gνω::GνqT, λ₀::AbstractArray{ComplexF64,3}, U::Float64, kG, \n",
    "            sP::SimulationParameters)\n",
    "    fill!(Σ, zero(ComplexF64))\n",
    "    nd = length(gridshape(kG))\n",
    "    for ωii in 1:length(ωindices)\n",
    "        ωi = ωindices[ωii]\n",
    "        ωn = (ωi - sP.n_iω) - 1\n",
    "        fsp = 1.5 .* (1 .+ U .* view(Q_sp.χ,:,ωi))\n",
    "        fch = 0.5 .* (1 .- U .* view(Q_ch.χ,:,ωi))\n",
    "        νZero = ν0Index_of_ωIndex(ωi, sP)\n",
    "        maxn = minimum([νZero + sP.n_iν - 1, size(Q_ch.γ,ν_axis), νZero + size(Σ, ν_axis) - 1])\n",
    "        for (νi,νn) in enumerate(νZero:maxn)\n",
    "            v = selectdim(Gνω,nd+1,(νi-1) + ωn + sP.fft_offset)\n",
    "            if kG.Nk == 1\n",
    "                Σ[1,νi,ωii] = (Q_sp.γ[1,νn,ωi] * fsp[1] + Q_ch.γ[1,νn,ωi] * fch[1] - 1.5 + 0.5 - λ₀[1,νn,ωi]) * v[1]\n",
    "            else\n",
    "                @simd for qi in 1:size(Σ,q_axis)\n",
    "                    @inbounds Kνωq_pre[qi] = Q_sp.γ[qi,νn,ωi] * fsp[qi] - Q_ch.γ[qi,νn,ωi] * fch[qi] - 1.5 + 0.5 - λ₀[qi,νn,ωii]\n",
    "                end\n",
    "                conv_fft1!(kG, view(Σ,:,νi,ωii), Kνωq_pre, v)\n",
    "            end\n",
    "        end\n",
    "    end\n",
    "end\n",
    "\n",
    "function calc_Σ_ω_notebook2!(Σ::AbstractArray{ComplexF64,3}, Kνωq::Array{ComplexF64}, Kνωq_pre::Array{ComplexF64, 1},\n",
    "            ωindices::AbstractArray{Int,1},\n",
    "            Q_sp::NonLocalQuantities, Q_ch::NonLocalQuantities, \n",
    "            Gνω::GνqT, λ₀::AbstractArray{ComplexF64,3}, U::Float64, kG, \n",
    "            sP::SimulationParameters)\n",
    "    fill!(Σ, zero(ComplexF64))\n",
    "    nd = length(gridshape(kG))\n",
    "    dbg1 = OffsetArray(zeros(ComplexF64, νl,ωl,6), νrange, ωrange, 1:6)\n",
    "    \n",
    "    for ωi in 1:size(Q_sp.γ,3)\n",
    "        fsp = 1.5 .* (1 .+ U .* view(Q_sp.χ,:,ωi))\n",
    "        fch = 0.5 .* (1 .- U .* view(Q_ch.χ,:,ωi))\n",
    "        for νi in 1:size(Q_sp.γ,2)\n",
    "            ωn, νn = LadderDGA.OneToIndex_to_Freq(ωi, νi, sP)\n",
    "            if νn >= 0 && νn < sP.n_iν\n",
    "            v = selectdim(Gνω,nd+1,νn + ωn + sP.fft_offset)\n",
    "            if kG.Nk == 1\n",
    "                    #Σν_lDGA[νn] += -(U/β) * (0.5 * γch_loc_test[νi,ωi]*(1-U*χch_ω_loc_test[ωi]) - 1.5*γsp_loc_test[νi,ωi]*(1+U*χsp_ω_loc_test[ωi]) + 1)*gImp_loc_test[νn + ωn] + (U/β) * (λsp_ω_loc_test[νi,ωi]) * gImp_loc_test[νn + ωn]\n",
    "\n",
    "                Σ[1,νn,ωn] = -(U) * ((Q_ch.γ[1,νi,ωi]) * fch[1] - Q_sp.γ[1,νi,ωi] * fsp[1] + 1.5 - 0.5 - λ₀[1,νi,ωi]) * v[1]\n",
    "            dbg1[νn,ωn, 1] = Q_ch.γ[1,νi,ωi]\n",
    "            dbg1[νn,ωn, 2] = fch[1]\n",
    "            dbg1[νn,ωn, 3] = Q_sp.γ[1,νi,ωi]\n",
    "            dbg1[νn,ωn, 4] = fsp[1]\n",
    "            dbg1[νn,ωn, 5] = λ₀[1,νi,ωi]\n",
    "            dbg1[νn,ωn, 6] = v[1]\n",
    "            else\n",
    "                @simd for qi in 1:size(Σ,q_axis)\n",
    "                    @inbounds Kνωq_pre[qi] = -(U) * ((Q_ch.γ[qi,νi,ωi]) * fch[1] - Q_sp.γ[qi,νi,ωi] * fsp[qi] + 1.5 - 0.5 - λ₀[qi,νi,ωi])\n",
    "                end\n",
    "                conv_fft1!(kG, view(Σ,:,νn,ωn), Kνωq_pre, v)\n",
    "            end\n",
    "            end\n",
    "        end\n",
    "    end\n",
    "    return dbg1\n",
    "end\n",
    "\n",
    "\n",
    "Nq = size(locQ_sp.χ,1)\n",
    "Nω = size(locQ_sp.χ,2)\n",
    "ωrange = -sP.n_iω:sP.n_iω\n",
    "Σ_hartree = mP.n * mP.U/2.0;\n",
    "ωindices = (sP.dbg_full_eom_omega) ? (1:Nω) : intersect(locQ_sp.usable_ω, locQ_ch.usable_ω)\n",
    "Kνωq = Array{ComplexF64, length(LadderDGA.gridshape(kG))}(undef, LadderDGA.gridshape(kG)...)\n",
    "Kνωq_pre = Array{ComplexF64, 1}(undef, length(kG.kMult))\n",
    "Σ_ladder_ω_notebook  = Array{Complex{Float64},3}(undef,Nq, sP.n_iν, length(ωrange))#OffsetArray( \n",
    "Σ_ladder_ω_notebook2 = OffsetArray( \n",
    "                         Array{Complex{Float64},3}(undef,Nq, sP.n_iν, length(ωrange)),\n",
    "                         1:Nq, 0:sP.n_iν-1, ωrange)\n",
    "kGridLoc = LadderDGA.gen_kGrid(\"3Dsc-0.2041241452319315\", 1)\n",
    "λ₀Loc = calc_λ0(χ₀Loc, Fsp, locQ_sp, mP, sP)\n",
    "calc_Σ_ω_notebook!(Σ_ladder_ω_notebook, Kνωq, Kνωq_pre, ωindices, locQ_sp, locQ_ch, gImp, λ₀Loc, mP.U, kGridLoc, sP)\n",
    "dbg2 = calc_Σ_ω_notebook2!(Σ_ladder_ω_notebook2, Kνωq, Kνωq_pre, ωindices, locQ_sp, locQ_ch, gImp, λ₀Loc, mP.U, kGridLoc, sP);\n",
    "tt2 = sum(Σ_ladder_ω_notebook2.parent, dims=3)[1,:,1] ./mP.β;"
   ]
  },
  {
   "cell_type": "code",
   "execution_count": 48,
   "metadata": {
    "scrolled": true
   },
   "outputs": [
    {
     "ename": "LoadError",
     "evalue": "UndefVarError: Σ_ladder_ω_notebook2 not defined",
     "output_type": "error",
     "traceback": [
      "UndefVarError: Σ_ladder_ω_notebook2 not defined",
      "",
      "Stacktrace:",
      " [1] top-level scope",
      "   @ In[48]:2",
      " [2] eval",
      "   @ ./boot.jl:373 [inlined]",
      " [3] include_string(mapexpr::typeof(REPL.softscope), mod::Module, code::String, filename::String)",
      "   @ Base ./loading.jl:1196"
     ]
    }
   ],
   "source": [
    "xr = 0:79\n",
    "tt = sum(Σ_ladder_ω_notebook2.parent, dims=3)[1,:,1] ./ mP.β\n",
    "plot(xr, imag(Σ_loc[xr]), markershape=:auto,markersize=8, label=\"Σ DMFT\", size=(400,300))\n",
    "plot!(xr, imag.(Σν_direct)[xr], markershape=:auto, legend=:bottomright, label=\"EoM direct\")\n",
    "#plot!(xr, imag(Σν_direct_sub[xr .+ 1]), markershape=:auto, label=\"Σ direct_sub\")\n",
    "plot!(xr, imag(Σν_lDGA[xr ]), markershape=:auto, label=\"Σ lDGA\")\n",
    "plot!(0:49, imag(Σ_ladderLoc[1:50]) , markershape=:auto, label=\"Σ lDGA int\", markersize=10,alpha=0.5)\n",
    "plot!(0:49, imag(tt2[1:50]) , markershape=:auto, label=\"Σ lDGA internal_test\")\n",
    "\n",
    "vline!([35], label=\"nFermi\")"
   ]
  },
  {
   "cell_type": "markdown",
   "metadata": {},
   "source": [
    "## Non-Local EoM"
   ]
  },
  {
   "cell_type": "code",
   "execution_count": 49,
   "metadata": {},
   "outputs": [
    {
     "ename": "LoadError",
     "evalue": "UndefVarError: nlQ_sp not defined",
     "output_type": "error",
     "traceback": [
      "UndefVarError: nlQ_sp not defined",
      "",
      "Stacktrace:",
      " [1] top-level scope",
      "   @ In[49]:1",
      " [2] eval",
      "   @ ./boot.jl:373 [inlined]",
      " [3] include_string(mapexpr::typeof(REPL.softscope), mod::Module, code::String, filename::String)",
      "   @ Base ./loading.jl:1196"
     ]
    }
   ],
   "source": [
    "Nq = size(nlQ_sp.χ,1)\n",
    "Nω = size(nlQ_sp.χ,2)\n",
    "ωrange = -sP.n_iω:sP.n_iω\n",
    "ωindices = 1:Nω\n",
    "qi_pl = 10\n",
    "Kνωq = Array{ComplexF64, length(LadderDGA.gridshape(kG))}(undef, LadderDGA.gridshape(kG)...)\n",
    "Kνωq_pre = Array{ComplexF64, 1}(undef, length(kG.kMult))\n",
    "Σ_ladder_ω_notebook = Array{Complex{Float64},3}(undef,Nq, sP.n_iν, length(ωrange))#OffsetArray( \n",
    "Σ_ladder_ω_notebook2_nl = OffsetArray( \n",
    "                         Array{Complex{Float64},3}(undef,Nq, sP.n_iν, length(ωrange)),\n",
    "                         1:Nq, 0:n_iν-1, ωrange)\n",
    "λ₀ = calc_λ0(bubble, Fsp, locQ_sp, mP, sP)\n",
    "@time calc_Σ_ω_notebook2!(Σ_ladder_ω_notebook2_nl, Kνωq, Kνωq_pre, ωindices, nlQ_sp, nlQ_ch, gLoc_fft, λ₀, mP.U, kG, sP);\n",
    "tt_nl = sum(Σ_ladder_ω_notebook2_nl.parent, dims=3)[:,:,1] ./ mP.β;\n",
    "tt_nl_kint = kintegrate(kG, tt_nl, 1)[1,:];\n",
    "plot(imag(tt_nl_kint), label=\"∫Σ_lDGA(q,νₙ) dq\", markershape=:auto, lagend=:bottomright, size=(500,300), legend=:bottomright)\n",
    "plot!(0:49, imag(tt_nl[qi_pl,1:50]) , markershape=:auto, label=\"Σ lDGA internal_test, q=$(round.(kG.kGrid[qi_pl], digits=1))\")"
   ]
  },
  {
   "cell_type": "code",
   "execution_count": 50,
   "metadata": {},
   "outputs": [
    {
     "ename": "LoadError",
     "evalue": "UndefVarError: λsp_loc not defined",
     "output_type": "error",
     "traceback": [
      "UndefVarError: λsp_loc not defined",
      "",
      "Stacktrace:",
      " [1] top-level scope",
      "   @ In[50]:1",
      " [2] eval",
      "   @ ./boot.jl:373 [inlined]",
      " [3] include_string(mapexpr::typeof(REPL.softscope), mod::Module, code::String, filename::String)",
      "   @ Base ./loading.jl:1196"
     ]
    }
   ],
   "source": [
    "λ_0_sp_f_impr,bs_qw = improve_λ₀(:sp, kG, λ_0_sp_f, bubble, zeros(size(λsp_loc)));\n",
    "bs_w = kintegrate(kG, bs_qw, 1)[1,:];"
   ]
  },
  {
   "cell_type": "code",
   "execution_count": 51,
   "metadata": {},
   "outputs": [
    {
     "ename": "LoadError",
     "evalue": "UndefVarError: bs_qw not defined",
     "output_type": "error",
     "traceback": [
      "UndefVarError: bs_qw not defined",
      "",
      "Stacktrace:",
      " [1] top-level scope",
      "   @ In[51]:1",
      " [2] eval",
      "   @ ./boot.jl:373 [inlined]",
      " [3] include_string(mapexpr::typeof(REPL.softscope), mod::Module, code::String, filename::String)",
      "   @ Base ./loading.jl:1196"
     ]
    }
   ],
   "source": [
    "plot(abs.(bs_qw[1,xr] .* iω_n_arr[xr] .^2),markershape=:auto,legend=nothing)\n",
    "plot!(abs.(bs_w[xr] .* iω_n_arr[xr] .^2),markershape=:auto,legend=nothing)"
   ]
  },
  {
   "cell_type": "code",
   "execution_count": 52,
   "metadata": {},
   "outputs": [
    {
     "ename": "LoadError",
     "evalue": "UndefVarError: λ_0_ch_f_impr not defined",
     "output_type": "error",
     "traceback": [
      "UndefVarError: λ_0_ch_f_impr not defined",
      "",
      "Stacktrace:",
      " [1] top-level scope",
      "   @ In[52]:1",
      " [2] eval",
      "   @ ./boot.jl:373 [inlined]",
      " [3] include_string(mapexpr::typeof(REPL.softscope), mod::Module, code::String, filename::String)",
      "   @ Base ./loading.jl:1196"
     ]
    }
   ],
   "source": [
    "λ_0_updo_f_impr  = 0.5 .* (λ_0_ch_f_impr .- λ_0_sp_f_impr)\n",
    "λ_0_updo_f_impr2 = 0.5 .* (λ_0_ch_f_impr2 .- λ_0_sp_f_impr2)\n",
    "\n",
    "p1 = plot(xr, imag.(λ_0_sp_f_impr[qi_p,νi_p,xr .+ sP.n_iω .+ 1] .* iω_n_arr[xr]), markershape=:auto, label=\"sp * iω\", legend=:topleft)\n",
    "plot!(xr, real.(λ_0_sp_f_impr[qi_p,νi_p,xr .+ sP.n_iω .+ 1] .* iω_n_arr[xr] .^2), markershape=:auto, label=\"sp * iω^2\")\n",
    "p2 = plot(xr, imag.(λ_0_ch_f_impr[qi_p,νi_p,xr .+ sP.n_iω .+ 1] .* iω_n_arr[xr]), markershape=:auto, label=\"ch * iω\", legend=:topleft)\n",
    "plot!(xr, real.(λ_0_ch_f_impr[qi_p,νi_p,xr .+ sP.n_iω .+ 1] .* iω_n_arr[xr] .^2), markershape=:auto, label=\"ch * iω^2\")\n",
    "p3 = plot(xr, imag.(λ_0_updo_f_impr[qi_p,νi_p,xr .+ sP.n_iω .+ 1] .* iω_n_arr[xr]), markershape=:auto, label=\"ud * iω\", legend=:topleft)\n",
    "plot!(xr, real.(λ_0_updo_f_impr[qi_p,νi_p,xr .+ sP.n_iω .+ 1] .* iω_n_arr[xr] .^2), markershape=:auto, label=\"ud * iω^2\")\n",
    "\n",
    "p4 = plot(xr, imag.(λ_0_sp_f_impr2[qi_p,νi_p,xr .+ sP.n_iω .+ 1] .* iω_n_arr[xr]), markershape=:auto, label=\"2, sp * iω\", legend=:topleft)\n",
    "plot!(xr, real.(λ_0_sp_f_impr2[qi_p,νi_p,xr .+ sP.n_iω .+ 1] .* iω_n_arr[xr] .^2), markershape=:auto, label=\"2, sp * iω^2\")\n",
    "p5 = plot(xr, imag.(λ_0_ch_f_impr2[qi_p,νi_p,xr .+ sP.n_iω .+ 1] .* iω_n_arr[xr]), markershape=:auto, label=\"2, ch * iω\", legend=:topleft)\n",
    "plot!(xr, real.(λ_0_ch_f_impr2[qi_p,νi_p,xr .+ sP.n_iω .+ 1] .* iω_n_arr[xr] .^2), markershape=:auto, label=\"2, ch * iω^2\")\n",
    "p6 = plot(xr, imag.(λ_0_updo_f_impr2[qi_p,νi_p,xr .+ sP.n_iω .+ 1] .* iω_n_arr[xr]), markershape=:auto, label=\"2, ud * iω\", legend=:topleft)\n",
    "plot!(xr, real.(λ_0_updo_f_impr2[qi_p,νi_p,xr .+ sP.n_iω .+ 1] .* iω_n_arr[xr] .^2), markershape=:auto, label=\"2, ud * iω^2\")\n",
    "title = plot( title=\"λ_0,r improved at q=$(round.(kG.kGrid[qi_p],digits=2)), ν=$(νn_p))\", grid = false, showaxis = false, bottom_margin = -50Plots.px)\n",
    "l = @layout [a{0.01h}; grid(1,3)]\n",
    "plot(title, p4,p5,p6, layout = l, size=(900,600))"
   ]
  },
  {
   "cell_type": "code",
   "execution_count": 53,
   "metadata": {},
   "outputs": [
    {
     "ename": "LoadError",
     "evalue": "UndefVarError: r1_sp_full not defined",
     "output_type": "error",
     "traceback": [
      "UndefVarError: r1_sp_full not defined",
      "",
      "Stacktrace:",
      " [1] top-level scope",
      "   @ In[53]:1",
      " [2] eval",
      "   @ ./boot.jl:373 [inlined]",
      " [3] include_string(mapexpr::typeof(REPL.softscope), mod::Module, code::String, filename::String)",
      "   @ Base ./loading.jl:1196"
     ]
    }
   ],
   "source": [
    "r1_sp_full[qi,νn,:]"
   ]
  },
  {
   "cell_type": "markdown",
   "metadata": {},
   "source": [
    "# lambda correction\n",
    "## sp"
   ]
  },
  {
   "cell_type": "markdown",
   "metadata": {},
   "source": [
    "## sp + ch"
   ]
  },
  {
   "cell_type": "code",
   "execution_count": null,
   "metadata": {},
   "outputs": [],
   "source": []
  },
  {
   "cell_type": "code",
   "execution_count": null,
   "metadata": {},
   "outputs": [],
   "source": []
  }
 ],
 "metadata": {
  "kernelspec": {
   "display_name": "Julia 1.9.3",
   "language": "julia",
   "name": "julia-1.9"
  },
  "language_info": {
   "file_extension": ".jl",
   "mimetype": "application/julia",
   "name": "julia",
   "version": "1.9.3"
  }
 },
 "nbformat": 4,
 "nbformat_minor": 4
}
